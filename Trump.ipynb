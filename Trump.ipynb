{
 "cells": [
  {
   "cell_type": "markdown",
   "id": "aeb2b6a7",
   "metadata": {},
   "source": [
    "# Fake news recognition using a Multinomial Naive Bayes Classifier\n",
    "\n",
    "## Second part: Trump Dataset\n",
    "\n",
    "### Course: Advanced Statistics for Physics Analysis\n",
    "### Students: Toso Simone, Feltrin Antonio\n",
    "\n",
    "\n",
    "In this notebook we apply the same procedure used on the first dataset. This new dataset presents longer documents which are classified as either \n",
    " - Reliable {0}\n",
    " - Unreliable {1}"
   ]
  },
  {
   "cell_type": "code",
   "execution_count": 1,
   "id": "92e271b6",
   "metadata": {},
   "outputs": [
    {
     "name": "stderr",
     "output_type": "stream",
     "text": [
      "── \u001b[1mAttaching core tidyverse packages\u001b[22m ──────────────────────── tidyverse 2.0.0 ──\n",
      "\u001b[32m✔\u001b[39m \u001b[34mdplyr    \u001b[39m 1.1.0     \u001b[32m✔\u001b[39m \u001b[34mreadr    \u001b[39m 2.1.4\n",
      "\u001b[32m✔\u001b[39m \u001b[34mforcats  \u001b[39m 1.0.0     \u001b[32m✔\u001b[39m \u001b[34mstringr  \u001b[39m 1.5.0\n",
      "\u001b[32m✔\u001b[39m \u001b[34mggplot2  \u001b[39m 3.4.1     \u001b[32m✔\u001b[39m \u001b[34mtibble   \u001b[39m 3.2.0\n",
      "\u001b[32m✔\u001b[39m \u001b[34mlubridate\u001b[39m 1.9.2     \u001b[32m✔\u001b[39m \u001b[34mtidyr    \u001b[39m 1.3.0\n",
      "\u001b[32m✔\u001b[39m \u001b[34mpurrr    \u001b[39m 1.0.1     \n",
      "── \u001b[1mConflicts\u001b[22m ────────────────────────────────────────── tidyverse_conflicts() ──\n",
      "\u001b[31m✖\u001b[39m \u001b[34mdplyr\u001b[39m::\u001b[32mfilter()\u001b[39m masks \u001b[34mstats\u001b[39m::filter()\n",
      "\u001b[31m✖\u001b[39m \u001b[34mdplyr\u001b[39m::\u001b[32mlag()\u001b[39m    masks \u001b[34mstats\u001b[39m::lag()\n",
      "\u001b[36mℹ\u001b[39m Use the conflicted package (\u001b[3m\u001b[34m<http://conflicted.r-lib.org/>\u001b[39m\u001b[23m) to force all conflicts to become errors\n",
      "Loading required package: NLP\n",
      "\n",
      "\n",
      "Attaching package: ‘NLP’\n",
      "\n",
      "\n",
      "The following object is masked from ‘package:ggplot2’:\n",
      "\n",
      "    annotate\n",
      "\n",
      "\n",
      "Loading required package: koRpus.lang.en\n",
      "\n",
      "Loading required package: koRpus\n",
      "\n",
      "Loading required package: sylly\n",
      "\n",
      "For information on available language packages for 'koRpus', run\n",
      "\n",
      "  available.koRpus.lang()\n",
      "\n",
      "and see ?install.koRpus.lang()\n",
      "\n",
      "\n",
      "\n",
      "Attaching package: ‘koRpus’\n",
      "\n",
      "\n",
      "The following object is masked from ‘package:tm’:\n",
      "\n",
      "    readTagged\n",
      "\n",
      "\n",
      "The following object is masked from ‘package:readr’:\n",
      "\n",
      "    tokenize\n",
      "\n",
      "\n"
     ]
    }
   ],
   "source": [
    "library(tidyverse)\n",
    "library(stringr)\n",
    "library(tm)             #Text-mining package\n",
    "library(NLP) \n",
    "library(textstem)      #For lemmatization"
   ]
  },
  {
   "cell_type": "markdown",
   "id": "99f04b36",
   "metadata": {},
   "source": [
    "## Dataset structure\n",
    "\n",
    "    id: unique id for a news article\n",
    "    title: the title of a news article\n",
    "    author: author of the news article\n",
    "    text: the text of the article; could be incomplete\n",
    "    label: a label that marks the article as potentially unreliable\n",
    "        1: unreliable\n",
    "        0: reliable\n",
    " \n",
    " ## Read the data"
   ]
  },
  {
   "cell_type": "code",
   "execution_count": 2,
   "id": "1dbe0ddb",
   "metadata": {},
   "outputs": [],
   "source": [
    "dir_input <- 'data/trump/train.csv'\n",
    "dir_test <- 'data/trump/test.csv'\n",
    "input.df <- read.csv(dir_input,header=TRUE,sep=',')\n",
    "test.df <- read.csv(dir_test,header=TRUE,sep=',')"
   ]
  },
  {
   "cell_type": "code",
   "execution_count": 4,
   "id": "d6a9ff5c",
   "metadata": {},
   "outputs": [],
   "source": [
    "notext <- input.df[, c(1,2,3,5)]"
   ]
  },
  {
   "cell_type": "code",
   "execution_count": 5,
   "id": "ee9094f2",
   "metadata": {},
   "outputs": [
    {
     "data": {
      "text/html": [
       "<table class=\"dataframe\">\n",
       "<caption>A data.frame: 3 × 4</caption>\n",
       "<thead>\n",
       "\t<tr><th></th><th scope=col>id</th><th scope=col>title</th><th scope=col>author</th><th scope=col>label</th></tr>\n",
       "\t<tr><th></th><th scope=col>&lt;int&gt;</th><th scope=col>&lt;chr&gt;</th><th scope=col>&lt;chr&gt;</th><th scope=col>&lt;int&gt;</th></tr>\n",
       "</thead>\n",
       "<tbody>\n",
       "\t<tr><th scope=row>1</th><td>0</td><td>House Dem Aide: We Didn’t Even See Comey’s Letter Until Jason Chaffetz Tweeted It</td><td>Darrell Lucus     </td><td>1</td></tr>\n",
       "\t<tr><th scope=row>2</th><td>1</td><td>FLYNN: Hillary Clinton, Big Woman on Campus - Breitbart                          </td><td>Daniel J. Flynn   </td><td>0</td></tr>\n",
       "\t<tr><th scope=row>3</th><td>2</td><td>Why the Truth Might Get You Fired                                                </td><td>Consortiumnews.com</td><td>1</td></tr>\n",
       "</tbody>\n",
       "</table>\n"
      ],
      "text/latex": [
       "A data.frame: 3 × 4\n",
       "\\begin{tabular}{r|llll}\n",
       "  & id & title & author & label\\\\\n",
       "  & <int> & <chr> & <chr> & <int>\\\\\n",
       "\\hline\n",
       "\t1 & 0 & House Dem Aide: We Didn’t Even See Comey’s Letter Until Jason Chaffetz Tweeted It & Darrell Lucus      & 1\\\\\n",
       "\t2 & 1 & FLYNN: Hillary Clinton, Big Woman on Campus - Breitbart                           & Daniel J. Flynn    & 0\\\\\n",
       "\t3 & 2 & Why the Truth Might Get You Fired                                                 & Consortiumnews.com & 1\\\\\n",
       "\\end{tabular}\n"
      ],
      "text/markdown": [
       "\n",
       "A data.frame: 3 × 4\n",
       "\n",
       "| <!--/--> | id &lt;int&gt; | title &lt;chr&gt; | author &lt;chr&gt; | label &lt;int&gt; |\n",
       "|---|---|---|---|---|\n",
       "| 1 | 0 | House Dem Aide: We Didn’t Even See Comey’s Letter Until Jason Chaffetz Tweeted It | Darrell Lucus      | 1 |\n",
       "| 2 | 1 | FLYNN: Hillary Clinton, Big Woman on Campus - Breitbart                           | Daniel J. Flynn    | 0 |\n",
       "| 3 | 2 | Why the Truth Might Get You Fired                                                 | Consortiumnews.com | 1 |\n",
       "\n"
      ],
      "text/plain": [
       "  id\n",
       "1 0 \n",
       "2 1 \n",
       "3 2 \n",
       "  title                                                                            \n",
       "1 House Dem Aide: We Didn’t Even See Comey’s Letter Until Jason Chaffetz Tweeted It\n",
       "2 FLYNN: Hillary Clinton, Big Woman on Campus - Breitbart                          \n",
       "3 Why the Truth Might Get You Fired                                                \n",
       "  author             label\n",
       "1 Darrell Lucus      1    \n",
       "2 Daniel J. Flynn    0    \n",
       "3 Consortiumnews.com 1    "
      ]
     },
     "metadata": {},
     "output_type": "display_data"
    }
   ],
   "source": [
    "head(notext, 3)"
   ]
  },
  {
   "cell_type": "markdown",
   "id": "bb755b3a",
   "metadata": {},
   "source": [
    "## Preprocessing"
   ]
  },
  {
   "cell_type": "code",
   "execution_count": 6,
   "id": "0cc4c330",
   "metadata": {},
   "outputs": [],
   "source": [
    "#Removes punctuation, uppercase to lowercase\n",
    "plain <- function(word,punct='[:punct:]'){\n",
    "    word <- str_to_lower(str_replace_all(word,punct,' '))\n",
    "    return(word) \n",
    "}\n",
    "\n",
    "#Gets all unique words from the list of records\n",
    "get.unique.words <- function (tags.bag,sep,sortit=FALSE) {\n",
    "    all.tags <- c()\n",
    "    for (record in tags.bag){\n",
    "        temp.tags <- str_split_1(plain(record),sep)\n",
    "        for (word in temp.tags) {\n",
    "            word <- plain(word)\n",
    "            if (word %in% all.tags == FALSE & word != '') {\n",
    "                    all.tags <- c(all.tags,str_to_lower(word))\n",
    "                } \n",
    "            }\n",
    "        }\n",
    "    if (sortit) {all.tags <- sort(all.tags)}\n",
    "    return(all.tags)\n",
    "}\n",
    "\n",
    "#Removes all stopwords, punctuation etc. from the records\n",
    "get.quotes <- function (quotes.bag,sep) {\n",
    "    all.quotes <- list()\n",
    "    for (record in quotes.bag){\n",
    "        temp.q <- str_split_1(plain(record),sep)\n",
    "        temp.q <- str_flatten(temp.q[!(temp.q %in% stopwords('en')) & str_length(temp.q)>1], collapse = ' ') #>1 to remove lone letters? no because of $\n",
    "        all.quotes <- c(all.quotes,temp.q)\n",
    "        }\n",
    "\n",
    "    return(all.quotes)\n",
    "}\n",
    "\n",
    "#Get all unique tags (could be useful)\n",
    "get.tags <- function (tags.bag,sep) {\n",
    "    all.quotes <- list()\n",
    "    for (record in tags.bag){\n",
    "        #cat('\\nrecord, type',record,typeof(record))\n",
    "        temp.q <- str_split(plain(record,punct = '[.;()]'),sep)\n",
    "        temp.q <- str_flatten(temp.q[[1]][!(temp.q %in% stopwords('en'))],  collapse = ' ') #>1 to remove lone letters? no because of $\n",
    "        all.quotes <- c(all.quotes,temp.q)\n",
    "        }\n",
    "\n",
    "    return(all.quotes)\n",
    "}"
   ]
  },
  {
   "cell_type": "code",
   "execution_count": 7,
   "id": "95240d24",
   "metadata": {},
   "outputs": [],
   "source": [
    "quotes <- get.quotes(input.df$title,sep=' ')\n",
    "\n",
    "train.df <- data.frame(Labels = input.df$label, Text = unlist(quotes))"
   ]
  },
  {
   "cell_type": "markdown",
   "id": "7292d750",
   "metadata": {},
   "source": [
    "#### Lemmatization"
   ]
  },
  {
   "cell_type": "code",
   "execution_count": 8,
   "id": "ad8e5878",
   "metadata": {},
   "outputs": [],
   "source": [
    "train.df$Text <- lemmatize_strings(train.df$Text)"
   ]
  },
  {
   "cell_type": "code",
   "execution_count": 10,
   "id": "9781abcc",
   "metadata": {
    "scrolled": true
   },
   "outputs": [
    {
     "data": {
      "text/html": [
       "<table class=\"dataframe\">\n",
       "<caption>A data.frame: 12 × 2</caption>\n",
       "<thead>\n",
       "\t<tr><th></th><th scope=col>Labels</th><th scope=col>Text</th></tr>\n",
       "\t<tr><th></th><th scope=col>&lt;int&gt;</th><th scope=col>&lt;chr&gt;</th></tr>\n",
       "</thead>\n",
       "<tbody>\n",
       "\t<tr><th scope=row>1</th><td>1</td><td>house dem aide didn even see comey letter jason chaffetz tweet                                  </td></tr>\n",
       "\t<tr><th scope=row>2</th><td>0</td><td>flynn hillary clinton big woman campus breitbart                                                </td></tr>\n",
       "\t<tr><th scope=row>3</th><td>1</td><td>truth may get fire                                                                              </td></tr>\n",
       "\t<tr><th scope=row>4</th><td>1</td><td>15 civilian kill single us airstrike identify                                                   </td></tr>\n",
       "\t<tr><th scope=row>5</th><td>1</td><td>iranian woman jail fictional unpublished story woman stone death adultery                       </td></tr>\n",
       "\t<tr><th scope=row>6</th><td>0</td><td>jackie mason hollywood love trump bomb north korea lack trans bathroom exclusive video breitbart</td></tr>\n",
       "\t<tr><th scope=row>7</th><td>1</td><td>life life luxury elton john favorite shark picture stare long transcontinental flight           </td></tr>\n",
       "\t<tr><th scope=row>8</th><td>0</td><td>benoît hamon win french socialist party presidential nomination new york time                   </td></tr>\n",
       "\t<tr><th scope=row>9</th><td>0</td><td>excerpt draft script donald trump ampa black church pastor new york time                        </td></tr>\n",
       "\t<tr><th scope=row>10</th><td>0</td><td>back channel plan ukraine russia courtesy trump associate new york time                         </td></tr>\n",
       "\t<tr><th scope=row>11</th><td>0</td><td>obama organize action partner soros link indivisible disrupt trump agendum                      </td></tr>\n",
       "\t<tr><th scope=row>12</th><td>0</td><td>bbc comedy sketch real housewife isis cause outrage                                             </td></tr>\n",
       "</tbody>\n",
       "</table>\n"
      ],
      "text/latex": [
       "A data.frame: 12 × 2\n",
       "\\begin{tabular}{r|ll}\n",
       "  & Labels & Text\\\\\n",
       "  & <int> & <chr>\\\\\n",
       "\\hline\n",
       "\t1 & 1 & house dem aide didn even see comey letter jason chaffetz tweet                                  \\\\\n",
       "\t2 & 0 & flynn hillary clinton big woman campus breitbart                                                \\\\\n",
       "\t3 & 1 & truth may get fire                                                                              \\\\\n",
       "\t4 & 1 & 15 civilian kill single us airstrike identify                                                   \\\\\n",
       "\t5 & 1 & iranian woman jail fictional unpublished story woman stone death adultery                       \\\\\n",
       "\t6 & 0 & jackie mason hollywood love trump bomb north korea lack trans bathroom exclusive video breitbart\\\\\n",
       "\t7 & 1 & life life luxury elton john favorite shark picture stare long transcontinental flight           \\\\\n",
       "\t8 & 0 & benoît hamon win french socialist party presidential nomination new york time                   \\\\\n",
       "\t9 & 0 & excerpt draft script donald trump ampa black church pastor new york time                        \\\\\n",
       "\t10 & 0 & back channel plan ukraine russia courtesy trump associate new york time                         \\\\\n",
       "\t11 & 0 & obama organize action partner soros link indivisible disrupt trump agendum                      \\\\\n",
       "\t12 & 0 & bbc comedy sketch real housewife isis cause outrage                                             \\\\\n",
       "\\end{tabular}\n"
      ],
      "text/markdown": [
       "\n",
       "A data.frame: 12 × 2\n",
       "\n",
       "| <!--/--> | Labels &lt;int&gt; | Text &lt;chr&gt; |\n",
       "|---|---|---|\n",
       "| 1 | 1 | house dem aide didn even see comey letter jason chaffetz tweet                                   |\n",
       "| 2 | 0 | flynn hillary clinton big woman campus breitbart                                                 |\n",
       "| 3 | 1 | truth may get fire                                                                               |\n",
       "| 4 | 1 | 15 civilian kill single us airstrike identify                                                    |\n",
       "| 5 | 1 | iranian woman jail fictional unpublished story woman stone death adultery                        |\n",
       "| 6 | 0 | jackie mason hollywood love trump bomb north korea lack trans bathroom exclusive video breitbart |\n",
       "| 7 | 1 | life life luxury elton john favorite shark picture stare long transcontinental flight            |\n",
       "| 8 | 0 | benoît hamon win french socialist party presidential nomination new york time                    |\n",
       "| 9 | 0 | excerpt draft script donald trump ampa black church pastor new york time                         |\n",
       "| 10 | 0 | back channel plan ukraine russia courtesy trump associate new york time                          |\n",
       "| 11 | 0 | obama organize action partner soros link indivisible disrupt trump agendum                       |\n",
       "| 12 | 0 | bbc comedy sketch real housewife isis cause outrage                                              |\n",
       "\n"
      ],
      "text/plain": [
       "   Labels\n",
       "1  1     \n",
       "2  0     \n",
       "3  1     \n",
       "4  1     \n",
       "5  1     \n",
       "6  0     \n",
       "7  1     \n",
       "8  0     \n",
       "9  0     \n",
       "10 0     \n",
       "11 0     \n",
       "12 0     \n",
       "   Text                                                                                            \n",
       "1  house dem aide didn even see comey letter jason chaffetz tweet                                  \n",
       "2  flynn hillary clinton big woman campus breitbart                                                \n",
       "3  truth may get fire                                                                              \n",
       "4  15 civilian kill single us airstrike identify                                                   \n",
       "5  iranian woman jail fictional unpublished story woman stone death adultery                       \n",
       "6  jackie mason hollywood love trump bomb north korea lack trans bathroom exclusive video breitbart\n",
       "7  life life luxury elton john favorite shark picture stare long transcontinental flight           \n",
       "8  benoît hamon win french socialist party presidential nomination new york time                   \n",
       "9  excerpt draft script donald trump ampa black church pastor new york time                        \n",
       "10 back channel plan ukraine russia courtesy trump associate new york time                         \n",
       "11 obama organize action partner soros link indivisible disrupt trump agendum                      \n",
       "12 bbc comedy sketch real housewife isis cause outrage                                             "
      ]
     },
     "metadata": {},
     "output_type": "display_data"
    }
   ],
   "source": [
    "head(train.df, 12)"
   ]
  },
  {
   "cell_type": "markdown",
   "id": "3098650e",
   "metadata": {},
   "source": [
    "#### Token normalization: \n"
   ]
  },
  {
   "cell_type": "code",
   "execution_count": 11,
   "id": "fc038028",
   "metadata": {},
   "outputs": [],
   "source": [
    "train.df$Text <- str_replace_all(train.df$Text, regex(\"\\\\$[0-9]*\"), \"<MONEY>\")\n",
    "train.df$Text <- str_replace_all(train.df$Text, regex(\"(18|19|20)\\\\d{2}\"), \"<YEAR>\")\n",
    "train.df$Text <- str_replace_all(train.df$Text, regex(\"\\\\d+\"), \"<NUMBER>\")"
   ]
  },
  {
   "cell_type": "code",
   "execution_count": 12,
   "id": "eb3d80f4",
   "metadata": {},
   "outputs": [],
   "source": [
    "vocabulary <- get.unique.words(train.df$Text,sep=' ')"
   ]
  },
  {
   "cell_type": "markdown",
   "id": "ace7f4c9",
   "metadata": {},
   "source": [
    "## Vocabulary building \n",
    "\n",
    "#### We take part of the dataset (e.g. the first 80% of the records) and construct our vocabulary, which will be used for training. \n",
    "#### The remaining 20% will serve for validation."
   ]
  },
  {
   "cell_type": "code",
   "execution_count": 13,
   "id": "2710ea49",
   "metadata": {},
   "outputs": [],
   "source": [
    "validation.df <- train.df[ceiling(0.8*nrow(train.df)):nrow(train.df),]\n",
    "train.df <- train.df[1:ceiling(0.8*nrow(train.df)),]"
   ]
  },
  {
   "cell_type": "markdown",
   "id": "b7fef0de",
   "metadata": {},
   "source": [
    "### vocab.df, to store how many times each word appears"
   ]
  },
  {
   "cell_type": "code",
   "execution_count": 14,
   "id": "94e5fa6a",
   "metadata": {},
   "outputs": [],
   "source": [
    "find.vocabulary <- function(N, unique=FALSE){\n",
    "    vocabulary.df <- data.frame(\"Token\" = vocabulary[1], \"Class_0\" = 0, \"Class_1\" = 0)\n",
    "    for (i in 1:N){\n",
    "        record <- train.df$Text[i]\n",
    "        class <- train.df$Labels[i]\n",
    "        temp.q <- str_split_1(plain(record), \" \")\n",
    "        if(unique){\n",
    "            temp.q <- unique(temp.q)\n",
    "        }\n",
    "        \n",
    "        for(word in temp.q){\n",
    "            if(!(word %in% vocabulary.df$Token)){\n",
    "                classes <- rep(0,2)\n",
    "                classes[class + 1] <- 1\n",
    "                vocabulary.df <- rbind(vocabulary.df, list(word, classes[1], classes[2] ))\n",
    "            }\n",
    "            else{\n",
    "                #Trova dove sta la parola --> somma 1 al contatore della classe\n",
    "                vocabulary.df[which(vocabulary.df$Token == word), class + 2] <- vocabulary.df[which(vocabulary.df$Token == word), class + 2] + 1\n",
    "            }\n",
    "        }\n",
    "    }\n",
    "    return(vocabulary.df)\n",
    "}"
   ]
  },
  {
   "cell_type": "code",
   "execution_count": 15,
   "id": "ba44a968",
   "metadata": {},
   "outputs": [],
   "source": [
    "n.records <- length(train.df$Text) #Number of records\n",
    "vocab.df <- find.vocabulary(n.records)"
   ]
  },
  {
   "cell_type": "markdown",
   "id": "75f40607",
   "metadata": {},
   "source": [
    "### vocab.bool.df --> here we store in how many documents of each class the word appears"
   ]
  },
  {
   "cell_type": "code",
   "execution_count": 16,
   "id": "75847c09",
   "metadata": {},
   "outputs": [],
   "source": [
    "vocab.bool.df <- find.vocabulary(n.records, TRUE)"
   ]
  },
  {
   "cell_type": "code",
   "execution_count": 17,
   "id": "92021c95",
   "metadata": {
    "scrolled": true
   },
   "outputs": [
    {
     "data": {
      "text/html": [
       "<table class=\"dataframe\">\n",
       "<caption>A data.frame: 8 × 3</caption>\n",
       "<thead>\n",
       "\t<tr><th></th><th scope=col>Token</th><th scope=col>Class_0</th><th scope=col>Class_1</th></tr>\n",
       "\t<tr><th></th><th scope=col>&lt;chr&gt;</th><th scope=col>&lt;dbl&gt;</th><th scope=col>&lt;dbl&gt;</th></tr>\n",
       "</thead>\n",
       "<tbody>\n",
       "\t<tr><th scope=row>1</th><td>house </td><td>178</td><td>72</td></tr>\n",
       "\t<tr><th scope=row>2</th><td>dem   </td><td> 23</td><td>12</td></tr>\n",
       "\t<tr><th scope=row>3</th><td>aide  </td><td> 20</td><td>19</td></tr>\n",
       "\t<tr><th scope=row>4</th><td>didn  </td><td> 14</td><td>24</td></tr>\n",
       "\t<tr><th scope=row>5</th><td>even  </td><td>158</td><td>29</td></tr>\n",
       "\t<tr><th scope=row>6</th><td>see   </td><td> 79</td><td>67</td></tr>\n",
       "\t<tr><th scope=row>7</th><td>comey </td><td> 62</td><td>77</td></tr>\n",
       "\t<tr><th scope=row>8</th><td>letter</td><td> 16</td><td>36</td></tr>\n",
       "</tbody>\n",
       "</table>\n"
      ],
      "text/latex": [
       "A data.frame: 8 × 3\n",
       "\\begin{tabular}{r|lll}\n",
       "  & Token & Class\\_0 & Class\\_1\\\\\n",
       "  & <chr> & <dbl> & <dbl>\\\\\n",
       "\\hline\n",
       "\t1 & house  & 178 & 72\\\\\n",
       "\t2 & dem    &  23 & 12\\\\\n",
       "\t3 & aide   &  20 & 19\\\\\n",
       "\t4 & didn   &  14 & 24\\\\\n",
       "\t5 & even   & 158 & 29\\\\\n",
       "\t6 & see    &  79 & 67\\\\\n",
       "\t7 & comey  &  62 & 77\\\\\n",
       "\t8 & letter &  16 & 36\\\\\n",
       "\\end{tabular}\n"
      ],
      "text/markdown": [
       "\n",
       "A data.frame: 8 × 3\n",
       "\n",
       "| <!--/--> | Token &lt;chr&gt; | Class_0 &lt;dbl&gt; | Class_1 &lt;dbl&gt; |\n",
       "|---|---|---|---|\n",
       "| 1 | house  | 178 | 72 |\n",
       "| 2 | dem    |  23 | 12 |\n",
       "| 3 | aide   |  20 | 19 |\n",
       "| 4 | didn   |  14 | 24 |\n",
       "| 5 | even   | 158 | 29 |\n",
       "| 6 | see    |  79 | 67 |\n",
       "| 7 | comey  |  62 | 77 |\n",
       "| 8 | letter |  16 | 36 |\n",
       "\n"
      ],
      "text/plain": [
       "  Token  Class_0 Class_1\n",
       "1 house  178     72     \n",
       "2 dem     23     12     \n",
       "3 aide    20     19     \n",
       "4 didn    14     24     \n",
       "5 even   158     29     \n",
       "6 see     79     67     \n",
       "7 comey   62     77     \n",
       "8 letter  16     36     "
      ]
     },
     "metadata": {},
     "output_type": "display_data"
    }
   ],
   "source": [
    "head(vocab.bool.df, 8)"
   ]
  },
  {
   "cell_type": "code",
   "execution_count": 15,
   "id": "2171ffcb",
   "metadata": {},
   "outputs": [],
   "source": [
    "# Rimuovi le righe dove il token ha lunghezza di un carattere\n"
   ]
  },
  {
   "cell_type": "markdown",
   "id": "c760e55d",
   "metadata": {},
   "source": [
    "## Mutual Information \n",
    "We evaluate the mutual information for each class (among the possibilities (class, not class)) and make an average.\n",
    "\n",
    "$\\sum_{\\mathrm{class}\\in\\{0,1\\}}\\sum_{\\mathrm{token}\\in\\{0,1\\}}P(class, token) \\log{\\frac{P(class, token)}{P(class)P(token)}}$"
   ]
  },
  {
   "cell_type": "code",
   "execution_count": 18,
   "id": "f4e993ff",
   "metadata": {},
   "outputs": [],
   "source": [
    "NCs <- hist(train.df$Labels,breaks=seq(-1,1),plot=FALSE)$counts #Number of documents for each class"
   ]
  },
  {
   "cell_type": "code",
   "execution_count": 19,
   "id": "1e50bf8d",
   "metadata": {},
   "outputs": [
    {
     "name": "stdout",
     "output_type": "stream",
     "text": [
      " num [1:15498] 0 0 0 0 0 0 0 0 0 0 ...\n"
     ]
    }
   ],
   "source": [
    "MIs <- rep(0, length(vocab.bool.df$Token))\n",
    "cat(str(MIs))\n",
    "\n",
    "#Evaluate MI separately for each class, then average\n",
    "for(i in 1:length(vocab.df$Token)){\n",
    "    MI <- 0\n",
    "    N.t <- sum(vocab.bool.df[i, 2:3])\n",
    "    N.not.t <- n.records - N.t\n",
    "    for(class in 0:1){\n",
    "        MI.c <- 0\n",
    "        N.c <- NCs[class + 1]\n",
    "        N.not.c <- n.records - N.c \n",
    "        N.ct <- vocab.bool.df[i, class + 2]\n",
    "        \n",
    "        class.index <- switch(class + 1, \"Class_0\", \"Class_1\")\n",
    "        N.not.c.not.t <- n.records - sum(vocab.bool.df[i, 2:3]) + N.ct - sum(vocab.bool.df$class.index)\n",
    "        \n",
    "        \n",
    "        #P(class, token)log(...) + P(nonclass, token) + P(class, non token) + P(non class, non token)\n",
    "        term <- ifelse(N.ct > 0, N.ct/n.records*log(N.ct*n.records/(N.c*N.t)), 0) + \n",
    "                ifelse((N.t - N.ct) > 0, (N.t - N.ct)/n.records*log((N.t-N.ct)*n.records/(N.not.c*N.t)), 0)+\n",
    "                ifelse((N.c - N.ct) > 0, (N.c - N.ct)/n.records*log((N.c - N.ct)*n.records/(N.c * (N.not.t))), 0) + \n",
    "                ifelse(N.not.c.not.t > 0, N.not.c.not.t/n.records * log(N.not.c.not.t*n.records / (N.not.c * N.not.t)), 0)\n",
    "                \n",
    "        MI <- MI + term\n",
    "        \n",
    "    }\n",
    "    \n",
    "    MIs[i] <- MI\n",
    "}"
   ]
  },
  {
   "cell_type": "code",
   "execution_count": 20,
   "id": "31cbe980",
   "metadata": {},
   "outputs": [],
   "source": [
    "vocab.df$MI <- MIs"
   ]
  },
  {
   "cell_type": "code",
   "execution_count": 21,
   "id": "f5f30ade",
   "metadata": {},
   "outputs": [],
   "source": [
    "vocab.df.order.MI <- vocab.df[order(vocab.df$MI, decreasing = TRUE), ]"
   ]
  },
  {
   "cell_type": "code",
   "execution_count": 22,
   "id": "221999f8",
   "metadata": {},
   "outputs": [],
   "source": [
    "vocab.df.order.MI <- vocab.df.order.MI[-which(vocab.df.order.MI$Token == \"\"), ]"
   ]
  },
  {
   "cell_type": "markdown",
   "id": "e6c86c38",
   "metadata": {},
   "source": [
    "### Training "
   ]
  },
  {
   "cell_type": "code",
   "execution_count": 39,
   "id": "7ddfeadd",
   "metadata": {},
   "outputs": [],
   "source": [
    "vocab.sizes <- 10^seq(from = 2, to = 4, by = 0.05)"
   ]
  },
  {
   "cell_type": "code",
   "execution_count": 40,
   "id": "932f622e",
   "metadata": {},
   "outputs": [
    {
     "data": {
      "text/html": [
       "15497"
      ],
      "text/latex": [
       "15497"
      ],
      "text/markdown": [
       "15497"
      ],
      "text/plain": [
       "[1] 15497"
      ]
     },
     "metadata": {},
     "output_type": "display_data"
    }
   ],
   "source": [
    "length(vocab.df.order.MI$Token)"
   ]
  },
  {
   "cell_type": "code",
   "execution_count": 41,
   "id": "026f098b",
   "metadata": {},
   "outputs": [],
   "source": [
    "#Returns accuracy of feature selection with *size* best features\n",
    "validate <- function(size){\n",
    "    vocab.short <- vocab.df.order.MI[1:size, ]\n",
    "    \n",
    "    #Prior\n",
    "    p.c <- log(NCs / n.records)\n",
    "\n",
    "    posteriors.df <- vocab.short\n",
    "\n",
    "    for(class in 0:1){\n",
    "        posteriors.df[, class + 2] <- log(posteriors.df[, class + 2] / sum(posteriors.df[, class + 2]))\n",
    "    } \n",
    "    \n",
    "    predictions <- rep(0, length(validation.df$Text))\n",
    "    for(i in 1:length(validation.df$Text)){\n",
    "        record <- validation.df$Text[i]\n",
    "        words <- str_split_1(plain(record), \" \") \n",
    "        posteriors <- rep(0, 2) #Posterior probabilities (we want to find the maximum)\n",
    "        for(class in 0:1){\n",
    "            #For each class evaluate posterior\n",
    "            posterior <- p.c[class + 1]\n",
    "            for(word in words){\n",
    "                #Check if word in vocabulary\n",
    "                if(word %in% posteriors.df$Token){\n",
    "                    posterior <- posterior + posteriors.df[which(posteriors.df$Token == word) , class + 2]\n",
    "                }\n",
    "            }\n",
    "            posteriors[class + 1] <- posterior\n",
    "        }\n",
    "\n",
    "        predictions[i] <- which.max(posteriors) - 1\n",
    "    }\n",
    "    \n",
    "    return(sum(predictions == validation.df$Labels) / length(validation.df$Labels))\n",
    " \n",
    "}\n"
   ]
  },
  {
   "cell_type": "code",
   "execution_count": 42,
   "id": "5f482733",
   "metadata": {},
   "outputs": [],
   "source": [
    "scores <- rep(0, length(vocab.sizes))\n",
    "for(i in 1:length(vocab.sizes)){\n",
    "    scores[i] <- validate(vocab.sizes[i])\n",
    "}\n",
    "scores.results <- data.frame(vocab.sizes, scores)"
   ]
  },
  {
   "cell_type": "code",
   "execution_count": 43,
   "id": "915466b9",
   "metadata": {},
   "outputs": [
    {
     "data": {
      "text/html": [
       "<table class=\"dataframe\">\n",
       "<caption>A data.frame: 6 × 2</caption>\n",
       "<thead>\n",
       "\t<tr><th></th><th scope=col>vocab.sizes</th><th scope=col>scores</th></tr>\n",
       "\t<tr><th></th><th scope=col>&lt;dbl&gt;</th><th scope=col>&lt;dbl&gt;</th></tr>\n",
       "</thead>\n",
       "<tbody>\n",
       "\t<tr><th scope=row>1</th><td>100.0000</td><td>0.7724105</td></tr>\n",
       "\t<tr><th scope=row>2</th><td>112.2018</td><td>0.7834655</td></tr>\n",
       "\t<tr><th scope=row>3</th><td>125.8925</td><td>0.7887527</td></tr>\n",
       "\t<tr><th scope=row>4</th><td>141.2538</td><td>0.7928383</td></tr>\n",
       "\t<tr><th scope=row>5</th><td>158.4893</td><td>0.8002884</td></tr>\n",
       "\t<tr><th scope=row>6</th><td>177.8279</td><td>0.8038933</td></tr>\n",
       "</tbody>\n",
       "</table>\n"
      ],
      "text/latex": [
       "A data.frame: 6 × 2\n",
       "\\begin{tabular}{r|ll}\n",
       "  & vocab.sizes & scores\\\\\n",
       "  & <dbl> & <dbl>\\\\\n",
       "\\hline\n",
       "\t1 & 100.0000 & 0.7724105\\\\\n",
       "\t2 & 112.2018 & 0.7834655\\\\\n",
       "\t3 & 125.8925 & 0.7887527\\\\\n",
       "\t4 & 141.2538 & 0.7928383\\\\\n",
       "\t5 & 158.4893 & 0.8002884\\\\\n",
       "\t6 & 177.8279 & 0.8038933\\\\\n",
       "\\end{tabular}\n"
      ],
      "text/markdown": [
       "\n",
       "A data.frame: 6 × 2\n",
       "\n",
       "| <!--/--> | vocab.sizes &lt;dbl&gt; | scores &lt;dbl&gt; |\n",
       "|---|---|---|\n",
       "| 1 | 100.0000 | 0.7724105 |\n",
       "| 2 | 112.2018 | 0.7834655 |\n",
       "| 3 | 125.8925 | 0.7887527 |\n",
       "| 4 | 141.2538 | 0.7928383 |\n",
       "| 5 | 158.4893 | 0.8002884 |\n",
       "| 6 | 177.8279 | 0.8038933 |\n",
       "\n"
      ],
      "text/plain": [
       "  vocab.sizes scores   \n",
       "1 100.0000    0.7724105\n",
       "2 112.2018    0.7834655\n",
       "3 125.8925    0.7887527\n",
       "4 141.2538    0.7928383\n",
       "5 158.4893    0.8002884\n",
       "6 177.8279    0.8038933"
      ]
     },
     "metadata": {},
     "output_type": "display_data"
    }
   ],
   "source": [
    "head(scores.results)"
   ]
  },
  {
   "cell_type": "code",
   "execution_count": 73,
   "id": "3d20f08f",
   "metadata": {
    "scrolled": true
   },
   "outputs": [
    {
     "data": {
      "image/png": "[encoded data removed]",
      "text/plain": [
       "plot without title"
      ]
     },
     "metadata": {
      "image/png": {
       "height": 420,
       "width": 420
      }
     },
     "output_type": "display_data"
    }
   ],
   "source": [
    "#Plot \n",
    "theme <- theme(legend.text = element_text(size = 12), axis.title = element_text(size = 15), axis.text = element_text(size = 15), plot.title = element_text(face = \"bold\", size = 16))\n",
    "p <- ggplot(scores.results) + geom_line(aes(x = vocab.sizes, y = scores), col = \"cornflowerblue\")\n",
    "labels <- labs(x = \"Vocab. size\", y = \"Score\")\n",
    "title <- ggtitle(\"Validation score vs. vocabulary size\")\n",
    "p + labels + title + theme"
   ]
  },
  {
   "cell_type": "code",
   "execution_count": 76,
   "id": "76104138",
   "metadata": {
    "scrolled": true
   },
   "outputs": [
    {
     "data": {
      "text/html": [
       "<table class=\"dataframe\">\n",
       "<caption>A data.frame: 1 × 2</caption>\n",
       "<thead>\n",
       "\t<tr><th></th><th scope=col>vocab.sizes</th><th scope=col>scores</th></tr>\n",
       "\t<tr><th></th><th scope=col>&lt;dbl&gt;</th><th scope=col>&lt;dbl&gt;</th></tr>\n",
       "</thead>\n",
       "<tbody>\n",
       "\t<tr><th scope=row>27</th><td>1995.262</td><td>0.8586878</td></tr>\n",
       "</tbody>\n",
       "</table>\n"
      ],
      "text/latex": [
       "A data.frame: 1 × 2\n",
       "\\begin{tabular}{r|ll}\n",
       "  & vocab.sizes & scores\\\\\n",
       "  & <dbl> & <dbl>\\\\\n",
       "\\hline\n",
       "\t27 & 1995.262 & 0.8586878\\\\\n",
       "\\end{tabular}\n"
      ],
      "text/markdown": [
       "\n",
       "A data.frame: 1 × 2\n",
       "\n",
       "| <!--/--> | vocab.sizes &lt;dbl&gt; | scores &lt;dbl&gt; |\n",
       "|---|---|---|\n",
       "| 27 | 1995.262 | 0.8586878 |\n",
       "\n"
      ],
      "text/plain": [
       "   vocab.sizes scores   \n",
       "27 1995.262    0.8586878"
      ]
     },
     "metadata": {},
     "output_type": "display_data"
    }
   ],
   "source": [
    "scores.results[which.max(scores.results$scores), ]"
   ]
  },
  {
   "cell_type": "markdown",
   "id": "ea18d67e",
   "metadata": {},
   "source": [
    "### Confusion matrix"
   ]
  },
  {
   "cell_type": "code",
   "execution_count": 87,
   "id": "069a435d",
   "metadata": {},
   "outputs": [],
   "source": [
    "fit <- function(size, dataframe){\n",
    "    vocab.short <- vocab.df.order.MI[1:size, ]\n",
    "    \n",
    "    #Prior\n",
    "    p.c <- log(NCs / n.records)\n",
    "\n",
    "    posteriors.df <- vocab.short\n",
    "\n",
    "    for(class in 0:1){\n",
    "        posteriors.df[, class + 2] <- log(posteriors.df[, class + 2] / sum(posteriors.df[, class + 2]))\n",
    "    } \n",
    "    \n",
    "    predictions <- rep(0, length(dataframe$Text))\n",
    "    for(i in 1:length(dataframe$Text)){\n",
    "        record <- dataframe$Text[i]\n",
    "        words <- str_split_1(plain(record), \" \") \n",
    "        posteriors <- rep(0, 2) #Posterior probabilities (we want to find the maximum)\n",
    "        for(class in 0:1){\n",
    "            #For each class evaluate posterior\n",
    "            posterior <- p.c[class + 1]\n",
    "            for(word in words){\n",
    "                #Check if word in vocabulary\n",
    "                if(word %in% posteriors.df$Token){\n",
    "                    posterior <- posterior + posteriors.df[which(posteriors.df$Token == word) , class + 2]\n",
    "                }\n",
    "            }\n",
    "            posteriors[class + 1] <- posterior\n",
    "        }\n",
    "\n",
    "        predictions[i] <- which.max(posteriors) - 1\n",
    "    }\n",
    "    \n",
    "    return(predictions)\n",
    "}"
   ]
  },
  {
   "cell_type": "code",
   "execution_count": 88,
   "id": "9e2b3bfa",
   "metadata": {},
   "outputs": [],
   "source": [
    "best.fit <- fit(1995, validation.df)\n",
    " \n",
    "# Evaluate confusion matrix\n",
    "confusion.matrix <- matrix(0, 2, 2)\n",
    "\n",
    "for(i in 1:length(best.fit)){\n",
    "    confusion.matrix[validation.df$Labels[i] + 1, best.fit[i] + 1] <- confusion.matrix[validation.df$Labels[i] + 1, best.fit[i] + 1] + 1\n",
    "}\n",
    "\n",
    "confusion.matrix <- data.frame(confusion.matrix)\n",
    "\n",
    "#Normalize along rows\n",
    "confusion.matrix <- confusion.matrix / apply(confusion.matrix, 1, sum)\n",
    "\n",
    "#Set colnames\n",
    "colnames(confusion.matrix) <- c(\"0\", \"1\")\n",
    "rownames(confusion.matrix) <- c(\"0\", \"1\")"
   ]
  },
  {
   "cell_type": "code",
   "execution_count": 89,
   "id": "e5dd4189",
   "metadata": {},
   "outputs": [
    {
     "data": {
      "text/html": [
       "<table class=\"dataframe\">\n",
       "<caption>A data.frame: 2 × 2</caption>\n",
       "<thead>\n",
       "\t<tr><th></th><th scope=col>0</th><th scope=col>1</th></tr>\n",
       "\t<tr><th></th><th scope=col>&lt;dbl&gt;</th><th scope=col>&lt;dbl&gt;</th></tr>\n",
       "</thead>\n",
       "<tbody>\n",
       "\t<tr><th scope=row>0</th><td>0.9189453</td><td>0.08105469</td></tr>\n",
       "\t<tr><th scope=row>1</th><td>0.1997160</td><td>0.80028396</td></tr>\n",
       "</tbody>\n",
       "</table>\n"
      ],
      "text/latex": [
       "A data.frame: 2 × 2\n",
       "\\begin{tabular}{r|ll}\n",
       "  & 0 & 1\\\\\n",
       "  & <dbl> & <dbl>\\\\\n",
       "\\hline\n",
       "\t0 & 0.9189453 & 0.08105469\\\\\n",
       "\t1 & 0.1997160 & 0.80028396\\\\\n",
       "\\end{tabular}\n"
      ],
      "text/markdown": [
       "\n",
       "A data.frame: 2 × 2\n",
       "\n",
       "| <!--/--> | 0 &lt;dbl&gt; | 1 &lt;dbl&gt; |\n",
       "|---|---|---|\n",
       "| 0 | 0.9189453 | 0.08105469 |\n",
       "| 1 | 0.1997160 | 0.80028396 |\n",
       "\n"
      ],
      "text/plain": [
       "  0         1         \n",
       "0 0.9189453 0.08105469\n",
       "1 0.1997160 0.80028396"
      ]
     },
     "metadata": {},
     "output_type": "display_data"
    }
   ],
   "source": [
    "confusion.matrix"
   ]
  },
  {
   "cell_type": "code",
   "execution_count": 81,
   "id": "c20d95dd",
   "metadata": {},
   "outputs": [],
   "source": [
    "confusion.data.frame <- data.frame(row=character(0),col=character(0), confusion=numeric(0))\n",
    "for(i in 1:length(rownames(confusion.matrix))){\n",
    "    for(j in 1:length(colnames(confusion.matrix))){\n",
    "        confusion.data.frame <- rbind(confusion.data.frame, list(rownames(confusion.matrix)[i],\n",
    "                                                                colnames(confusion.matrix[j]), confusion.matrix[i,j]))\n",
    "    }\n",
    "}\n",
    "\n",
    "colnames(confusion.data.frame) <- c(\"row\", \"col\", \"confusion\")"
   ]
  },
  {
   "cell_type": "code",
   "execution_count": 82,
   "id": "ae39413d",
   "metadata": {
    "scrolled": true
   },
   "outputs": [
    {
     "data": {
      "image/png": "[encoded data removed]",
      "text/plain": [
       "plot without title"
      ]
     },
     "metadata": {
      "image/png": {
       "height": 360,
       "width": 420
      }
     },
     "output_type": "display_data"
    }
   ],
   "source": [
    "options(repr.plot.width=7, repr.plot.height=6)\n",
    "ggp <- ggplot(confusion.data.frame, aes(row, col)) +    # Create default ggplot2 heatmap\n",
    "  geom_tile(aes(fill = confusion))  + scale_fill_distiller(palette = \"Greens\", direction = +1)\n",
    "\n",
    "ggp +                                         # Add values to heatmap\n",
    "  geom_text(aes(label = round(confusion, digits = 3)))\n"
   ]
  },
  {
   "cell_type": "markdown",
   "id": "e4f0cc94",
   "metadata": {},
   "source": [
    "## Test set\n",
    "\n",
    "Finally, we predict the labels for the test set and check our score on Kaggle."
   ]
  },
  {
   "cell_type": "code",
   "execution_count": 94,
   "id": "74e9120e",
   "metadata": {},
   "outputs": [
    {
     "name": "stdout",
     "output_type": "stream",
     "text": [
      "'data.frame':\t5200 obs. of  4 variables:\n",
      " $ id    : int  20800 20801 20802 20803 20804 20805 20806 20807 20808 20809 ...\n",
      " $ title : chr  \"Specter of Trump Loosens Tongues, if Not Purse Strings, in Silicon Valley - The New York Times\" \"Russian warships ready to strike terrorists near Aleppo\" \"#NoDAPL: Native American Leaders Vow to Stay All Winter, File Lawsuit Against Police\" \"Tim Tebow Will Attempt Another Comeback, This Time in Baseball - The New York Times\" ...\n",
      " $ author: chr  \"David Streitfeld\" \"nan\" \"Common Dreams\" \"Daniel Victor\" ...\n",
      " $ text  : chr  \"PALO ALTO, Calif.  —   After years of scorning the political process, Silicon Valley has leapt into the fray. T\"| __truncated__ \"Russian warships ready to strike terrorists near Aleppo 08.11.2016 | Source: Source: Mil.ru Attack aircraft of \"| __truncated__ \"Videos #NoDAPL: Native American Leaders Vow to Stay All Winter, File Lawsuit Against Police Amnesty Internation\"| __truncated__ \"If at first you don’t succeed, try a different sport. Tim Tebow, who was a Heisman   quarterback at the Univers\"| __truncated__ ...\n"
     ]
    }
   ],
   "source": [
    "str(test.df)"
   ]
  },
  {
   "cell_type": "code",
   "execution_count": 96,
   "id": "193e7d01",
   "metadata": {},
   "outputs": [],
   "source": [
    "quotes <- get.quotes(test.df$title,sep=' ')\n",
    "\n",
    "test.df <- data.frame(Text = unlist(quotes), ID = test.df$id)\n",
    "\n",
    "test.df$Text <- lemmatize_strings(test.df$Text)\n",
    "\n",
    "test.df$Text <- str_replace_all(test.df$Text, regex(\"\\\\$[0-9]*\"), \"<MONEY>\")\n",
    "test.df$Text <- str_replace_all(test.df$Text, regex(\"(18|19|20)\\\\d{2}\"), \"<YEAR>\")\n",
    "test.df$Text <- str_replace_all(test.df$Text, regex(\"\\\\d+\"), \"<NUMBER>\")"
   ]
  },
  {
   "cell_type": "code",
   "execution_count": 97,
   "id": "8ef3db5c",
   "metadata": {},
   "outputs": [
    {
     "data": {
      "text/html": [
       "<table class=\"dataframe\">\n",
       "<caption>A data.frame: 3 × 2</caption>\n",
       "<thead>\n",
       "\t<tr><th></th><th scope=col>Text</th><th scope=col>ID</th></tr>\n",
       "\t<tr><th></th><th scope=col>&lt;chr&gt;</th><th scope=col>&lt;int&gt;</th></tr>\n",
       "</thead>\n",
       "<tbody>\n",
       "\t<tr><th scope=row>1</th><td>specter trump loosen tongue purse string silicon valley new york time</td><td>20800</td></tr>\n",
       "\t<tr><th scope=row>2</th><td>russian warship ready strike terrorist near aleppo                   </td><td>20801</td></tr>\n",
       "\t<tr><th scope=row>3</th><td>nodapl native american leader vow stay winter file lawsuit police    </td><td>20802</td></tr>\n",
       "</tbody>\n",
       "</table>\n"
      ],
      "text/latex": [
       "A data.frame: 3 × 2\n",
       "\\begin{tabular}{r|ll}\n",
       "  & Text & ID\\\\\n",
       "  & <chr> & <int>\\\\\n",
       "\\hline\n",
       "\t1 & specter trump loosen tongue purse string silicon valley new york time & 20800\\\\\n",
       "\t2 & russian warship ready strike terrorist near aleppo                    & 20801\\\\\n",
       "\t3 & nodapl native american leader vow stay winter file lawsuit police     & 20802\\\\\n",
       "\\end{tabular}\n"
      ],
      "text/markdown": [
       "\n",
       "A data.frame: 3 × 2\n",
       "\n",
       "| <!--/--> | Text &lt;chr&gt; | ID &lt;int&gt; |\n",
       "|---|---|---|\n",
       "| 1 | specter trump loosen tongue purse string silicon valley new york time | 20800 |\n",
       "| 2 | russian warship ready strike terrorist near aleppo                    | 20801 |\n",
       "| 3 | nodapl native american leader vow stay winter file lawsuit police     | 20802 |\n",
       "\n"
      ],
      "text/plain": [
       "  Text                                                                  ID   \n",
       "1 specter trump loosen tongue purse string silicon valley new york time 20800\n",
       "2 russian warship ready strike terrorist near aleppo                    20801\n",
       "3 nodapl native american leader vow stay winter file lawsuit police     20802"
      ]
     },
     "metadata": {},
     "output_type": "display_data"
    }
   ],
   "source": [
    "head(test.df, 3)"
   ]
  },
  {
   "cell_type": "code",
   "execution_count": 98,
   "id": "453c51a9",
   "metadata": {},
   "outputs": [],
   "source": [
    "predictions.test <- fit(1995, test.df)"
   ]
  },
  {
   "cell_type": "code",
   "execution_count": 100,
   "id": "73de3528",
   "metadata": {},
   "outputs": [],
   "source": [
    "submit.df <- data.frame(id = test.df$ID, label = predictions.test)"
   ]
  },
  {
   "cell_type": "code",
   "execution_count": 104,
   "id": "76c123f2",
   "metadata": {
    "scrolled": true
   },
   "outputs": [
    {
     "data": {
      "text/html": [
       "<table class=\"dataframe\">\n",
       "<caption>A data.frame: 10 × 2</caption>\n",
       "<thead>\n",
       "\t<tr><th></th><th scope=col>id</th><th scope=col>label</th></tr>\n",
       "\t<tr><th></th><th scope=col>&lt;int&gt;</th><th scope=col>&lt;dbl&gt;</th></tr>\n",
       "</thead>\n",
       "<tbody>\n",
       "\t<tr><th scope=row>1</th><td>20800</td><td>0</td></tr>\n",
       "\t<tr><th scope=row>2</th><td>20801</td><td>1</td></tr>\n",
       "\t<tr><th scope=row>3</th><td>20802</td><td>0</td></tr>\n",
       "\t<tr><th scope=row>4</th><td>20803</td><td>0</td></tr>\n",
       "\t<tr><th scope=row>5</th><td>20804</td><td>1</td></tr>\n",
       "\t<tr><th scope=row>6</th><td>20805</td><td>1</td></tr>\n",
       "\t<tr><th scope=row>7</th><td>20806</td><td>0</td></tr>\n",
       "\t<tr><th scope=row>8</th><td>20807</td><td>0</td></tr>\n",
       "\t<tr><th scope=row>9</th><td>20808</td><td>1</td></tr>\n",
       "\t<tr><th scope=row>10</th><td>20809</td><td>0</td></tr>\n",
       "</tbody>\n",
       "</table>\n"
      ],
      "text/latex": [
       "A data.frame: 10 × 2\n",
       "\\begin{tabular}{r|ll}\n",
       "  & id & label\\\\\n",
       "  & <int> & <dbl>\\\\\n",
       "\\hline\n",
       "\t1 & 20800 & 0\\\\\n",
       "\t2 & 20801 & 1\\\\\n",
       "\t3 & 20802 & 0\\\\\n",
       "\t4 & 20803 & 0\\\\\n",
       "\t5 & 20804 & 1\\\\\n",
       "\t6 & 20805 & 1\\\\\n",
       "\t7 & 20806 & 0\\\\\n",
       "\t8 & 20807 & 0\\\\\n",
       "\t9 & 20808 & 1\\\\\n",
       "\t10 & 20809 & 0\\\\\n",
       "\\end{tabular}\n"
      ],
      "text/markdown": [
       "\n",
       "A data.frame: 10 × 2\n",
       "\n",
       "| <!--/--> | id &lt;int&gt; | label &lt;dbl&gt; |\n",
       "|---|---|---|\n",
       "| 1 | 20800 | 0 |\n",
       "| 2 | 20801 | 1 |\n",
       "| 3 | 20802 | 0 |\n",
       "| 4 | 20803 | 0 |\n",
       "| 5 | 20804 | 1 |\n",
       "| 6 | 20805 | 1 |\n",
       "| 7 | 20806 | 0 |\n",
       "| 8 | 20807 | 0 |\n",
       "| 9 | 20808 | 1 |\n",
       "| 10 | 20809 | 0 |\n",
       "\n"
      ],
      "text/plain": [
       "   id    label\n",
       "1  20800 0    \n",
       "2  20801 1    \n",
       "3  20802 0    \n",
       "4  20803 0    \n",
       "5  20804 1    \n",
       "6  20805 1    \n",
       "7  20806 0    \n",
       "8  20807 0    \n",
       "9  20808 1    \n",
       "10 20809 0    "
      ]
     },
     "metadata": {},
     "output_type": "display_data"
    }
   ],
   "source": [
    "head(submit.df, 10)"
   ]
  },
  {
   "cell_type": "code",
   "execution_count": 103,
   "id": "67971c1d",
   "metadata": {},
   "outputs": [],
   "source": [
    "write.csv(submit.df, \"data//trump//submit.csv\", row.names=FALSE)"
   ]
  }
 ],
 "metadata": {
  "kernelspec": {
   "display_name": "R",
   "language": "R",
   "name": "ir"
  },
  "language_info": {
   "codemirror_mode": "r",
   "file_extension": ".r",
   "mimetype": "text/x-r-source",
   "name": "R",
   "pygments_lexer": "r",
   "version": "4.1.2"
  }
 },
 "nbformat": 4,
 "nbformat_minor": 5
}
