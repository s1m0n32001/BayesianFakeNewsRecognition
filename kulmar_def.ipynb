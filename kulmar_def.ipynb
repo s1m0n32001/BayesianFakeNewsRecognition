{
 "cells": [
  {
   "cell_type": "markdown",
   "metadata": {},
   "source": [
    "# Fake news recognition using a Multinomial Naive Bayes Classifier\n",
    "\n",
    "## First part: Kumar Dataset\n",
    "\n",
    "### Course: Advanced Statistics for Physics Analysis\n",
    "### Students: Feltrin Antonio (2097126), Toso Simone (2095484)"
   ]
  },
  {
   "cell_type": "code",
   "execution_count": 3,
   "metadata": {
    "vscode": {
     "languageId": "r"
    }
   },
   "outputs": [],
   "source": [
    "library(tidyverse)\n",
    "library(stringr)\n",
    "library(tm)            #Text-mining package\n",
    "library(NLP) \n",
    "library(textstem)      #For lemmatization"
   ]
  },
  {
   "cell_type": "markdown",
   "metadata": {},
   "source": [
    "# A bit of theory\n",
    "\n",
    "Our aim is to *classify* some phrases, using a predetermined set of categories $\\mathcal{C}$ (e.g. `{reliable, unreliable}`).\n",
    "\n",
    "To do so, we must learn a *classification function* $\\gamma: \\mathcal{X} \\to \\mathcal{C}$, where $\\mathcal{X}$ is the set of all possible input phrases. \n",
    "\n",
    "There are many possible algorithms for text classification in natural language processing. In this project we will focus on the *Multinomial Naive Bayes* classifier.\n",
    "\n",
    "### The MNB classifier\n",
    "Given a class $c$ and a *document* (i.e. phrase) $d$, we can imagine that the document was composed by randomly extracting words from the total set of tokens $\\mathcal{T} = \\{t_1, t_2, \\dots, t_m\\}$. This way, the probability of composing the observed document would be\n",
    "\n",
    "$P(d|c) = \\prod_{1 \\leq k \\leq n_d} p(t_k|c)$.\n",
    "\n",
    "Now, we want to infer $P(c|d)$. This can be done through Bayes's Theorem:\n",
    "\n",
    "$P(c|d) \\propto p(c) \\prod_{1 \\leq k \\leq n_d} p(t_k|c)$.\n",
    "\n",
    "We can then easily find the *maximum a posteriori* class $c_{map}$:\n",
    "\n",
    "$c_{map} = \\mathrm{argmax}_{c} P(d|c)$.\n",
    "\n",
    "The maximum a posteriori class will be our guess for the classification.\n",
    "\n",
    "\n",
    "\n",
    "\n",
    "\n",
    "### The learning algorithm\n",
    "Our model depends on the following parameters:\n",
    "* **Prior**: $p(c)$. \n",
    "* **Token probability**: $p(t_k|c)$, the probability for token $t_k$ to appear in a document of class $c$, including multiple occurences in the same document. \n",
    "\n",
    "The prior can be estimated as $\\hat{p}(c) = \\frac{N_c}{N}$, i.e. the fraction of documents of class $c$ in the training set.\n",
    "\n",
    "The token probability can instead be estimated as $\\hat{p}(t|c) = \\frac{T_{ct} + 1}{\\sum_{t'} (T_{ct' + 1})}$. The term $T_{ct}$ is the number of times token $t$ appears in a document of class $c$. Notice that, both at the numerator and denominator, we are adding $1$ to $T_{ct}$ and $T_{ct'}$. This is done in order to avoid having $p(t|c) = 0$ for tokens that never appear in documents of class $c$.\n",
    "\n",
    "\n",
    "\n",
    "___\n",
    "\n",
    "# Kumar dataset \n",
    "\n",
    "We first try our hand on [this](https://www.kaggle.com/datasets/anmolkumar/fake-news-content-detection?select=train.csv) dataset. It consists of 11507 records (10240 for training, 1267 for testing). The records are obtained from social media or news platforms.\n",
    "\n",
    "Each entry is classified as one of these 6 categories:\n",
    "* *Barely true* - 0\n",
    "* *False* - 1\n",
    "* *Half-true* - 2\n",
    "* *Mostly true* - 3\n",
    "* *Not known* - 4\n",
    "* *True* - 5"
   ]
  },
  {
   "cell_type": "markdown",
   "metadata": {},
   "source": [
    "## Read the data"
   ]
  },
  {
   "cell_type": "code",
   "execution_count": 4,
   "metadata": {
    "vscode": {
     "languageId": "r"
    }
   },
   "outputs": [],
   "source": [
    "dir_input <- 'data/kumar/train_pruned.csv'\n",
    "dir_test <- 'data/kumar/test.csv'\n",
    "input.df <- read.csv(dir_input,header=TRUE,sep=',')\n",
    "test.df <- read.csv(dir_test,header=TRUE,sep=',')"
   ]
  },
  {
   "cell_type": "code",
   "execution_count": 5,
   "metadata": {
    "scrolled": true
   },
   "outputs": [
    {
     "data": {
      "text/html": [
       "<table class=\"dataframe\">\n",
       "<caption>A data.frame: 6 × 3</caption>\n",
       "<thead>\n",
       "\t<tr><th></th><th scope=col>Labels</th><th scope=col>Text</th><th scope=col>Text_Tag</th></tr>\n",
       "\t<tr><th></th><th scope=col>&lt;int&gt;</th><th scope=col>&lt;chr&gt;</th><th scope=col>&lt;chr&gt;</th></tr>\n",
       "</thead>\n",
       "<tbody>\n",
       "\t<tr><th scope=row>1</th><td>1</td><td>Says the Annies List political group supports third-trimester abortions on demand.                                                                         </td><td>abortion                          </td></tr>\n",
       "\t<tr><th scope=row>2</th><td>2</td><td>When did the decline of coal start? It started when natural gas took off that started to begin in (President George W.) Bushs administration.              </td><td>energy,history,job-accomplishments</td></tr>\n",
       "\t<tr><th scope=row>3</th><td>3</td><td>Hillary Clinton agrees with John McCain \"by voting to give George Bush the benefit of the doubt on Iran.\"                                                  </td><td>foreign-policy                    </td></tr>\n",
       "\t<tr><th scope=row>4</th><td>1</td><td>Health care reform legislation is likely to mandate free sex change surgeries.                                                                             </td><td>health-care                       </td></tr>\n",
       "\t<tr><th scope=row>5</th><td>2</td><td>The economic turnaround started at the end of my term.                                                                                                     </td><td>economy,jobs                      </td></tr>\n",
       "\t<tr><th scope=row>6</th><td>5</td><td>The Chicago Bears have had more starting quarterbacks in the last 10 years than the total number of tenured (UW) faculty fired during the last two decades.</td><td>education                         </td></tr>\n",
       "</tbody>\n",
       "</table>\n"
      ],
      "text/latex": [
       "A data.frame: 6 × 3\n",
       "\\begin{tabular}{r|lll}\n",
       "  & Labels & Text & Text\\_Tag\\\\\n",
       "  & <int> & <chr> & <chr>\\\\\n",
       "\\hline\n",
       "\t1 & 1 & Says the Annies List political group supports third-trimester abortions on demand.                                                                          & abortion                          \\\\\n",
       "\t2 & 2 & When did the decline of coal start? It started when natural gas took off that started to begin in (President George W.) Bushs administration.               & energy,history,job-accomplishments\\\\\n",
       "\t3 & 3 & Hillary Clinton agrees with John McCain \"by voting to give George Bush the benefit of the doubt on Iran.\"                                                   & foreign-policy                    \\\\\n",
       "\t4 & 1 & Health care reform legislation is likely to mandate free sex change surgeries.                                                                              & health-care                       \\\\\n",
       "\t5 & 2 & The economic turnaround started at the end of my term.                                                                                                      & economy,jobs                      \\\\\n",
       "\t6 & 5 & The Chicago Bears have had more starting quarterbacks in the last 10 years than the total number of tenured (UW) faculty fired during the last two decades. & education                         \\\\\n",
       "\\end{tabular}\n"
      ],
      "text/markdown": [
       "\n",
       "A data.frame: 6 × 3\n",
       "\n",
       "| <!--/--> | Labels &lt;int&gt; | Text &lt;chr&gt; | Text_Tag &lt;chr&gt; |\n",
       "|---|---|---|---|\n",
       "| 1 | 1 | Says the Annies List political group supports third-trimester abortions on demand.                                                                          | abortion                           |\n",
       "| 2 | 2 | When did the decline of coal start? It started when natural gas took off that started to begin in (President George W.) Bushs administration.               | energy,history,job-accomplishments |\n",
       "| 3 | 3 | Hillary Clinton agrees with John McCain \"by voting to give George Bush the benefit of the doubt on Iran.\"                                                   | foreign-policy                     |\n",
       "| 4 | 1 | Health care reform legislation is likely to mandate free sex change surgeries.                                                                              | health-care                        |\n",
       "| 5 | 2 | The economic turnaround started at the end of my term.                                                                                                      | economy,jobs                       |\n",
       "| 6 | 5 | The Chicago Bears have had more starting quarterbacks in the last 10 years than the total number of tenured (UW) faculty fired during the last two decades. | education                          |\n",
       "\n"
      ],
      "text/plain": [
       "  Labels\n",
       "1 1     \n",
       "2 2     \n",
       "3 3     \n",
       "4 1     \n",
       "5 2     \n",
       "6 5     \n",
       "  Text                                                                                                                                                       \n",
       "1 Says the Annies List political group supports third-trimester abortions on demand.                                                                         \n",
       "2 When did the decline of coal start? It started when natural gas took off that started to begin in (President George W.) Bushs administration.              \n",
       "3 Hillary Clinton agrees with John McCain \"by voting to give George Bush the benefit of the doubt on Iran.\"                                                  \n",
       "4 Health care reform legislation is likely to mandate free sex change surgeries.                                                                             \n",
       "5 The economic turnaround started at the end of my term.                                                                                                     \n",
       "6 The Chicago Bears have had more starting quarterbacks in the last 10 years than the total number of tenured (UW) faculty fired during the last two decades.\n",
       "  Text_Tag                          \n",
       "1 abortion                          \n",
       "2 energy,history,job-accomplishments\n",
       "3 foreign-policy                    \n",
       "4 health-care                       \n",
       "5 economy,jobs                      \n",
       "6 education                         "
      ]
     },
     "metadata": {},
     "output_type": "display_data"
    }
   ],
   "source": [
    "head(input.df)"
   ]
  },
  {
   "cell_type": "markdown",
   "metadata": {},
   "source": [
    "## Change the labelling\n",
    "The original labelling doesn't make a lot of sense to us, since a higher label does not necessarily mean a higher \"degree of truth\". Therefore we change the labelling to the following:\n",
    "* *Not known* 0\n",
    "* *False* 1\n",
    "* *Barely true* - 2\n",
    "* *Half-true* - 3\n",
    "* *Mostly true* - 4\n",
    "* *True* - 5\n"
   ]
  },
  {
   "cell_type": "code",
   "execution_count": 6,
   "metadata": {
    "vscode": {
     "languageId": "r"
    }
   },
   "outputs": [],
   "source": [
    "for(i in 1:length(input.df$Labels)){\n",
    "    input.df$Labels[i] <- switch(as.character(input.df$Labels[i]), \"0\" = 2, \"1\" = 1, \"2\" = 3, \n",
    "                                 \"3\" = 4, \"4\" = 0, \"5\" = 5)\n",
    "}"
   ]
  },
  {
   "cell_type": "code",
   "execution_count": 7,
   "metadata": {
    "scrolled": true,
    "vscode": {
     "languageId": "r"
    }
   },
   "outputs": [
    {
     "data": {
      "text/html": [
       "<table class=\"dataframe\">\n",
       "<caption>A data.frame: 6 × 3</caption>\n",
       "<thead>\n",
       "\t<tr><th></th><th scope=col>Labels</th><th scope=col>Text</th><th scope=col>Text_Tag</th></tr>\n",
       "\t<tr><th></th><th scope=col>&lt;dbl&gt;</th><th scope=col>&lt;chr&gt;</th><th scope=col>&lt;chr&gt;</th></tr>\n",
       "</thead>\n",
       "<tbody>\n",
       "\t<tr><th scope=row>1</th><td>1</td><td>Says the Annies List political group supports third-trimester abortions on demand.                                                                         </td><td>abortion                          </td></tr>\n",
       "\t<tr><th scope=row>2</th><td>3</td><td>When did the decline of coal start? It started when natural gas took off that started to begin in (President George W.) Bushs administration.              </td><td>energy,history,job-accomplishments</td></tr>\n",
       "\t<tr><th scope=row>3</th><td>4</td><td>Hillary Clinton agrees with John McCain \"by voting to give George Bush the benefit of the doubt on Iran.\"                                                  </td><td>foreign-policy                    </td></tr>\n",
       "\t<tr><th scope=row>4</th><td>1</td><td>Health care reform legislation is likely to mandate free sex change surgeries.                                                                             </td><td>health-care                       </td></tr>\n",
       "\t<tr><th scope=row>5</th><td>3</td><td>The economic turnaround started at the end of my term.                                                                                                     </td><td>economy,jobs                      </td></tr>\n",
       "\t<tr><th scope=row>6</th><td>5</td><td>The Chicago Bears have had more starting quarterbacks in the last 10 years than the total number of tenured (UW) faculty fired during the last two decades.</td><td>education                         </td></tr>\n",
       "</tbody>\n",
       "</table>\n"
      ],
      "text/latex": [
       "A data.frame: 6 × 3\n",
       "\\begin{tabular}{r|lll}\n",
       "  & Labels & Text & Text\\_Tag\\\\\n",
       "  & <dbl> & <chr> & <chr>\\\\\n",
       "\\hline\n",
       "\t1 & 1 & Says the Annies List political group supports third-trimester abortions on demand.                                                                          & abortion                          \\\\\n",
       "\t2 & 3 & When did the decline of coal start? It started when natural gas took off that started to begin in (President George W.) Bushs administration.               & energy,history,job-accomplishments\\\\\n",
       "\t3 & 4 & Hillary Clinton agrees with John McCain \"by voting to give George Bush the benefit of the doubt on Iran.\"                                                   & foreign-policy                    \\\\\n",
       "\t4 & 1 & Health care reform legislation is likely to mandate free sex change surgeries.                                                                              & health-care                       \\\\\n",
       "\t5 & 3 & The economic turnaround started at the end of my term.                                                                                                      & economy,jobs                      \\\\\n",
       "\t6 & 5 & The Chicago Bears have had more starting quarterbacks in the last 10 years than the total number of tenured (UW) faculty fired during the last two decades. & education                         \\\\\n",
       "\\end{tabular}\n"
      ],
      "text/markdown": [
       "\n",
       "A data.frame: 6 × 3\n",
       "\n",
       "| <!--/--> | Labels &lt;dbl&gt; | Text &lt;chr&gt; | Text_Tag &lt;chr&gt; |\n",
       "|---|---|---|---|\n",
       "| 1 | 1 | Says the Annies List political group supports third-trimester abortions on demand.                                                                          | abortion                           |\n",
       "| 2 | 3 | When did the decline of coal start? It started when natural gas took off that started to begin in (President George W.) Bushs administration.               | energy,history,job-accomplishments |\n",
       "| 3 | 4 | Hillary Clinton agrees with John McCain \"by voting to give George Bush the benefit of the doubt on Iran.\"                                                   | foreign-policy                     |\n",
       "| 4 | 1 | Health care reform legislation is likely to mandate free sex change surgeries.                                                                              | health-care                        |\n",
       "| 5 | 3 | The economic turnaround started at the end of my term.                                                                                                      | economy,jobs                       |\n",
       "| 6 | 5 | The Chicago Bears have had more starting quarterbacks in the last 10 years than the total number of tenured (UW) faculty fired during the last two decades. | education                          |\n",
       "\n"
      ],
      "text/plain": [
       "  Labels\n",
       "1 1     \n",
       "2 3     \n",
       "3 4     \n",
       "4 1     \n",
       "5 3     \n",
       "6 5     \n",
       "  Text                                                                                                                                                       \n",
       "1 Says the Annies List political group supports third-trimester abortions on demand.                                                                         \n",
       "2 When did the decline of coal start? It started when natural gas took off that started to begin in (President George W.) Bushs administration.              \n",
       "3 Hillary Clinton agrees with John McCain \"by voting to give George Bush the benefit of the doubt on Iran.\"                                                  \n",
       "4 Health care reform legislation is likely to mandate free sex change surgeries.                                                                             \n",
       "5 The economic turnaround started at the end of my term.                                                                                                     \n",
       "6 The Chicago Bears have had more starting quarterbacks in the last 10 years than the total number of tenured (UW) faculty fired during the last two decades.\n",
       "  Text_Tag                          \n",
       "1 abortion                          \n",
       "2 energy,history,job-accomplishments\n",
       "3 foreign-policy                    \n",
       "4 health-care                       \n",
       "5 economy,jobs                      \n",
       "6 education                         "
      ]
     },
     "metadata": {},
     "output_type": "display_data"
    }
   ],
   "source": [
    "input.df %>% head"
   ]
  },
  {
   "cell_type": "markdown",
   "metadata": {},
   "source": [
    "## Vocabulary construction and tokenization\n",
    "We want to extract the single words from each document and perform some operations (punctuation removal, lemmatisation, token normalization).\n",
    "\n",
    "#### Stopwords / punctuation removal"
   ]
  },
  {
   "cell_type": "code",
   "execution_count": 8,
   "metadata": {
    "vscode": {
     "languageId": "r"
    }
   },
   "outputs": [],
   "source": [
    "#Removes punctuation, uppercase to lowercase\n",
    "plain <- function(word,punct='[:punct:]'){\n",
    "    word <- str_to_lower(str_replace_all(word,punct,' '))  \n",
    "    return(word) \n",
    "}\n",
    "\n",
    "#Remove stopwords\n",
    "remove_sw <- function(data) {\n",
    "    data = data %>% str_split(' ')\n",
    "    data = data[!(data %in% stopwords('en')) & str_length(data)>1]\n",
    "    data = str_flatten(data, collapse = ' ')\n",
    "    return(data)\n",
    "}\n",
    "\n",
    "\n",
    "#Removes all stopwords, punctuation etc. from the records\n",
    "get.quotes <- function (quotes.bag,sep) {\n",
    "    all.quotes <- list()\n",
    "    for (record in quotes.bag){\n",
    "        temp.q <- str_split_1(plain(record),sep)\n",
    "        temp.q <- remove_sw(temp.q) #str_flatten(temp.q[!(temp.q %in% stopwords('en')) & str_length(temp.q)>1], collapse = ' ')  \n",
    "        all.quotes <- c(all.quotes,temp.q)\n",
    "        }\n",
    "\n",
    "    return(all.quotes)\n",
    "}"
   ]
  },
  {
   "cell_type": "code",
   "execution_count": 9,
   "metadata": {
    "vscode": {
     "languageId": "r"
    }
   },
   "outputs": [],
   "source": [
    "#Create training dataframe, in which stopwords and punctuation are removed\n",
    "quotes <- get.quotes(input.df$Text,sep=' ')\n",
    "\n",
    "train.df <- data.frame(Labels = input.df$Labels, Text = unlist(quotes)) #, Text_Tag = unlist(tags)"
   ]
  },
  {
   "cell_type": "code",
   "execution_count": 10,
   "metadata": {
    "scrolled": true,
    "vscode": {
     "languageId": "r"
    }
   },
   "outputs": [
    {
     "data": {
      "text/html": [
       "<table class=\"dataframe\">\n",
       "<caption>A data.frame: 8 × 2</caption>\n",
       "<thead>\n",
       "\t<tr><th></th><th scope=col>Labels</th><th scope=col>Text</th></tr>\n",
       "\t<tr><th></th><th scope=col>&lt;dbl&gt;</th><th scope=col>&lt;chr&gt;</th></tr>\n",
       "</thead>\n",
       "<tbody>\n",
       "\t<tr><th scope=row>1</th><td>1</td><td>says annies list political group supports third trimester abortions demand                                    </td></tr>\n",
       "\t<tr><th scope=row>2</th><td>3</td><td>decline coal start started natural gas took started begin president george bushs administration               </td></tr>\n",
       "\t<tr><th scope=row>3</th><td>4</td><td>hillary clinton agrees john mccain voting give george bush benefit doubt iran                                 </td></tr>\n",
       "\t<tr><th scope=row>4</th><td>1</td><td>health care reform legislation likely mandate free sex change surgeries                                       </td></tr>\n",
       "\t<tr><th scope=row>5</th><td>3</td><td>economic turnaround started end term                                                                          </td></tr>\n",
       "\t<tr><th scope=row>6</th><td>5</td><td>chicago bears starting quarterbacks last 10 years total number tenured uw faculty fired last two decades      </td></tr>\n",
       "\t<tr><th scope=row>7</th><td>2</td><td>jim dunnam lived district represents years now                                                                </td></tr>\n",
       "\t<tr><th scope=row>8</th><td>3</td><td>person stage worked actively just last year passing along russ feingold toughest ethics reform since watergate</td></tr>\n",
       "</tbody>\n",
       "</table>\n"
      ],
      "text/latex": [
       "A data.frame: 8 × 2\n",
       "\\begin{tabular}{r|ll}\n",
       "  & Labels & Text\\\\\n",
       "  & <dbl> & <chr>\\\\\n",
       "\\hline\n",
       "\t1 & 1 & says annies list political group supports third trimester abortions demand                                    \\\\\n",
       "\t2 & 3 & decline coal start started natural gas took started begin president george bushs administration               \\\\\n",
       "\t3 & 4 & hillary clinton agrees john mccain voting give george bush benefit doubt iran                                 \\\\\n",
       "\t4 & 1 & health care reform legislation likely mandate free sex change surgeries                                       \\\\\n",
       "\t5 & 3 & economic turnaround started end term                                                                          \\\\\n",
       "\t6 & 5 & chicago bears starting quarterbacks last 10 years total number tenured uw faculty fired last two decades      \\\\\n",
       "\t7 & 2 & jim dunnam lived district represents years now                                                                \\\\\n",
       "\t8 & 3 & person stage worked actively just last year passing along russ feingold toughest ethics reform since watergate\\\\\n",
       "\\end{tabular}\n"
      ],
      "text/markdown": [
       "\n",
       "A data.frame: 8 × 2\n",
       "\n",
       "| <!--/--> | Labels &lt;dbl&gt; | Text &lt;chr&gt; |\n",
       "|---|---|---|\n",
       "| 1 | 1 | says annies list political group supports third trimester abortions demand                                     |\n",
       "| 2 | 3 | decline coal start started natural gas took started begin president george bushs administration                |\n",
       "| 3 | 4 | hillary clinton agrees john mccain voting give george bush benefit doubt iran                                  |\n",
       "| 4 | 1 | health care reform legislation likely mandate free sex change surgeries                                        |\n",
       "| 5 | 3 | economic turnaround started end term                                                                           |\n",
       "| 6 | 5 | chicago bears starting quarterbacks last 10 years total number tenured uw faculty fired last two decades       |\n",
       "| 7 | 2 | jim dunnam lived district represents years now                                                                 |\n",
       "| 8 | 3 | person stage worked actively just last year passing along russ feingold toughest ethics reform since watergate |\n",
       "\n"
      ],
      "text/plain": [
       "  Labels\n",
       "1 1     \n",
       "2 3     \n",
       "3 4     \n",
       "4 1     \n",
       "5 3     \n",
       "6 5     \n",
       "7 2     \n",
       "8 3     \n",
       "  Text                                                                                                          \n",
       "1 says annies list political group supports third trimester abortions demand                                    \n",
       "2 decline coal start started natural gas took started begin president george bushs administration               \n",
       "3 hillary clinton agrees john mccain voting give george bush benefit doubt iran                                 \n",
       "4 health care reform legislation likely mandate free sex change surgeries                                       \n",
       "5 economic turnaround started end term                                                                          \n",
       "6 chicago bears starting quarterbacks last 10 years total number tenured uw faculty fired last two decades      \n",
       "7 jim dunnam lived district represents years now                                                                \n",
       "8 person stage worked actively just last year passing along russ feingold toughest ethics reform since watergate"
      ]
     },
     "metadata": {},
     "output_type": "display_data"
    }
   ],
   "source": [
    "head(train.df,8)"
   ]
  },
  {
   "cell_type": "markdown",
   "metadata": {},
   "source": [
    "#### Lemmatization\n",
    "Now, we want to *lemmatize* the records. This means that all terms are converted to their \"base form\".\n",
    "\n",
    "E.g.\n",
    " - \"words\" $\\to$ \"word\"\n",
    " - \"says\" $\\to$ \"say\"\n",
    " \n",
    "etc...\n",
    "\n",
    "This can be easily done thanks to the ```lemmatize_strings()``` function contained in the ```textstem``` package."
   ]
  },
  {
   "cell_type": "code",
   "execution_count": 11,
   "metadata": {
    "vscode": {
     "languageId": "r"
    }
   },
   "outputs": [],
   "source": [
    "#Perform lemmatization\n",
    "train.df$Text <- lemmatize_strings(train.df$Text)"
   ]
  },
  {
   "cell_type": "code",
   "execution_count": 12,
   "metadata": {
    "scrolled": true,
    "vscode": {
     "languageId": "r"
    }
   },
   "outputs": [
    {
     "data": {
      "text/html": [
       "<table class=\"dataframe\">\n",
       "<caption>A data.frame: 6 × 2</caption>\n",
       "<thead>\n",
       "\t<tr><th></th><th scope=col>Labels</th><th scope=col>Text</th></tr>\n",
       "\t<tr><th></th><th scope=col>&lt;dbl&gt;</th><th scope=col>&lt;chr&gt;</th></tr>\n",
       "</thead>\n",
       "<tbody>\n",
       "\t<tr><th scope=row>1</th><td>1</td><td>say annies list political group support 3 trimester abortion demand                          </td></tr>\n",
       "\t<tr><th scope=row>2</th><td>3</td><td>decline coal start start natural gas take start begin president george bushs administration  </td></tr>\n",
       "\t<tr><th scope=row>3</th><td>4</td><td>hillary clinton agree john mccain vote give george bush benefit doubt iran                   </td></tr>\n",
       "\t<tr><th scope=row>4</th><td>1</td><td>health care reform legislation likely mandate free sex change surgery                        </td></tr>\n",
       "\t<tr><th scope=row>5</th><td>3</td><td>economic turnaround start end term                                                           </td></tr>\n",
       "\t<tr><th scope=row>6</th><td>5</td><td>chicago bear start quarterback last 10 year total numb tenure uw faculty fire last two decade</td></tr>\n",
       "</tbody>\n",
       "</table>\n"
      ],
      "text/latex": [
       "A data.frame: 6 × 2\n",
       "\\begin{tabular}{r|ll}\n",
       "  & Labels & Text\\\\\n",
       "  & <dbl> & <chr>\\\\\n",
       "\\hline\n",
       "\t1 & 1 & say annies list political group support 3 trimester abortion demand                          \\\\\n",
       "\t2 & 3 & decline coal start start natural gas take start begin president george bushs administration  \\\\\n",
       "\t3 & 4 & hillary clinton agree john mccain vote give george bush benefit doubt iran                   \\\\\n",
       "\t4 & 1 & health care reform legislation likely mandate free sex change surgery                        \\\\\n",
       "\t5 & 3 & economic turnaround start end term                                                           \\\\\n",
       "\t6 & 5 & chicago bear start quarterback last 10 year total numb tenure uw faculty fire last two decade\\\\\n",
       "\\end{tabular}\n"
      ],
      "text/markdown": [
       "\n",
       "A data.frame: 6 × 2\n",
       "\n",
       "| <!--/--> | Labels &lt;dbl&gt; | Text &lt;chr&gt; |\n",
       "|---|---|---|\n",
       "| 1 | 1 | say annies list political group support 3 trimester abortion demand                           |\n",
       "| 2 | 3 | decline coal start start natural gas take start begin president george bushs administration   |\n",
       "| 3 | 4 | hillary clinton agree john mccain vote give george bush benefit doubt iran                    |\n",
       "| 4 | 1 | health care reform legislation likely mandate free sex change surgery                         |\n",
       "| 5 | 3 | economic turnaround start end term                                                            |\n",
       "| 6 | 5 | chicago bear start quarterback last 10 year total numb tenure uw faculty fire last two decade |\n",
       "\n"
      ],
      "text/plain": [
       "  Labels\n",
       "1 1     \n",
       "2 3     \n",
       "3 4     \n",
       "4 1     \n",
       "5 3     \n",
       "6 5     \n",
       "  Text                                                                                         \n",
       "1 say annies list political group support 3 trimester abortion demand                          \n",
       "2 decline coal start start natural gas take start begin president george bushs administration  \n",
       "3 hillary clinton agree john mccain vote give george bush benefit doubt iran                   \n",
       "4 health care reform legislation likely mandate free sex change surgery                        \n",
       "5 economic turnaround start end term                                                           \n",
       "6 chicago bear start quarterback last 10 year total numb tenure uw faculty fire last two decade"
      ]
     },
     "metadata": {},
     "output_type": "display_data"
    }
   ],
   "source": [
    "head(train.df)"
   ]
  },
  {
   "cell_type": "markdown",
   "metadata": {},
   "source": [
    "#### Token normalization: \n",
    "We now perform *token normalization*: we want words with similar meaning to be considered as identical. \n",
    "\n",
    "For example, it wouldn't make much sense for the model to treat \"<span>&#36;</span>15\" and \"<span>&#36;</span>81\" as two different tokens. Instead, we would like to count them as a unique \"&lt;MONEY&gt;\" token. \n",
    "\n",
    "Similarly, the tokens \"1931\", \"1982\" and \"2011\" should all fall into \"&lt;YEAR&gt;\"."
   ]
  },
  {
   "cell_type": "code",
   "execution_count": 13,
   "metadata": {
    "vscode": {
     "languageId": "r"
    }
   },
   "outputs": [],
   "source": [
    "# $1234 --> <MONEY>\n",
    "train.df$Text <- str_replace_all(train.df$Text, regex(\"\\\\$[0-9]*\"), \"<MONEY>\")"
   ]
  },
  {
   "cell_type": "code",
   "execution_count": 14,
   "metadata": {
    "vscode": {
     "languageId": "r"
    }
   },
   "outputs": [],
   "source": [
    "# 1945, 2013, 2042 --> <YEAR>\n",
    "train.df$Text <- str_replace_all(train.df$Text, regex(\"(18|19|20)\\\\d{2}\"), \"<YEAR>\")"
   ]
  },
  {
   "cell_type": "code",
   "execution_count": 15,
   "metadata": {
    "vscode": {
     "languageId": "r"
    }
   },
   "outputs": [],
   "source": [
    "# 12345... --> <NUMBER>\n",
    "train.df$Text <- str_replace_all(train.df$Text, regex(\"\\\\d+\"), \"<NUMBER>\")"
   ]
  },
  {
   "cell_type": "code",
   "execution_count": 16,
   "metadata": {
    "scrolled": true,
    "vscode": {
     "languageId": "r"
    }
   },
   "outputs": [
    {
     "data": {
      "text/html": [
       "<table class=\"dataframe\">\n",
       "<caption>A data.frame: 15 × 2</caption>\n",
       "<thead>\n",
       "\t<tr><th></th><th scope=col>Labels</th><th scope=col>Text</th></tr>\n",
       "\t<tr><th></th><th scope=col>&lt;dbl&gt;</th><th scope=col>&lt;chr&gt;</th></tr>\n",
       "</thead>\n",
       "<tbody>\n",
       "\t<tr><th scope=row>1</th><td>1</td><td><span style=white-space:pre-wrap>say annies list political group support &lt;NUMBER&gt; trimester abortion demand                                            </span></td></tr>\n",
       "\t<tr><th scope=row>2</th><td>3</td><td>decline coal start start natural gas take start begin president george bushs administration                           </td></tr>\n",
       "\t<tr><th scope=row>3</th><td>4</td><td>hillary clinton agree john mccain vote give george bush benefit doubt iran                                            </td></tr>\n",
       "\t<tr><th scope=row>4</th><td>1</td><td>health care reform legislation likely mandate free sex change surgery                                                 </td></tr>\n",
       "\t<tr><th scope=row>5</th><td>3</td><td>economic turnaround start end term                                                                                    </td></tr>\n",
       "\t<tr><th scope=row>6</th><td>5</td><td><span style=white-space:pre-wrap>chicago bear start quarterback last &lt;NUMBER&gt; year total numb tenure uw faculty fire last two decade                   </span></td></tr>\n",
       "\t<tr><th scope=row>7</th><td>2</td><td>jim dunnam live district represent year now                                                                           </td></tr>\n",
       "\t<tr><th scope=row>8</th><td>3</td><td>person stage work actively just last year pass along russ feingold tough ethic reform since watergate                 </td></tr>\n",
       "\t<tr><th scope=row>9</th><td>3</td><td>however take &lt;MONEY&gt; million oregon lottery fund port newport eventually land new noaa marine operation center pacific</td></tr>\n",
       "\t<tr><th scope=row>10</th><td>4</td><td><span style=white-space:pre-wrap>say gop primary opponent glenn grothman joe leibham cast compromise vote cost &lt;MONEY&gt; million high electricity cost   </span></td></tr>\n",
       "\t<tr><th scope=row>11</th><td>4</td><td>first time history share national popular vote margin small latino vote margin                                        </td></tr>\n",
       "\t<tr><th scope=row>12</th><td>3</td><td><span style=white-space:pre-wrap>since &lt;YEAR&gt; nearly &lt;NUMBER&gt; million american slip middle class poverty                                               </span></td></tr>\n",
       "\t<tr><th scope=row>13</th><td>1</td><td>mitt romney governor massachusetts didnt just slow rate growth government actually cut                                </td></tr>\n",
       "\t<tr><th scope=row>14</th><td>4</td><td><span style=white-space:pre-wrap>economy bleed &lt;MONEY&gt; billion due government shutdown                                                                 </span></td></tr>\n",
       "\t<tr><th scope=row>15</th><td>2</td><td>affordable care act already sense waive otherwise suspend                                                             </td></tr>\n",
       "</tbody>\n",
       "</table>\n"
      ],
      "text/latex": [
       "A data.frame: 15 × 2\n",
       "\\begin{tabular}{r|ll}\n",
       "  & Labels & Text\\\\\n",
       "  & <dbl> & <chr>\\\\\n",
       "\\hline\n",
       "\t1 & 1 & say annies list political group support <NUMBER> trimester abortion demand                                            \\\\\n",
       "\t2 & 3 & decline coal start start natural gas take start begin president george bushs administration                           \\\\\n",
       "\t3 & 4 & hillary clinton agree john mccain vote give george bush benefit doubt iran                                            \\\\\n",
       "\t4 & 1 & health care reform legislation likely mandate free sex change surgery                                                 \\\\\n",
       "\t5 & 3 & economic turnaround start end term                                                                                    \\\\\n",
       "\t6 & 5 & chicago bear start quarterback last <NUMBER> year total numb tenure uw faculty fire last two decade                   \\\\\n",
       "\t7 & 2 & jim dunnam live district represent year now                                                                           \\\\\n",
       "\t8 & 3 & person stage work actively just last year pass along russ feingold tough ethic reform since watergate                 \\\\\n",
       "\t9 & 3 & however take <MONEY> million oregon lottery fund port newport eventually land new noaa marine operation center pacific\\\\\n",
       "\t10 & 4 & say gop primary opponent glenn grothman joe leibham cast compromise vote cost <MONEY> million high electricity cost   \\\\\n",
       "\t11 & 4 & first time history share national popular vote margin small latino vote margin                                        \\\\\n",
       "\t12 & 3 & since <YEAR> nearly <NUMBER> million american slip middle class poverty                                               \\\\\n",
       "\t13 & 1 & mitt romney governor massachusetts didnt just slow rate growth government actually cut                                \\\\\n",
       "\t14 & 4 & economy bleed <MONEY> billion due government shutdown                                                                 \\\\\n",
       "\t15 & 2 & affordable care act already sense waive otherwise suspend                                                             \\\\\n",
       "\\end{tabular}\n"
      ],
      "text/markdown": [
       "\n",
       "A data.frame: 15 × 2\n",
       "\n",
       "| <!--/--> | Labels &lt;dbl&gt; | Text &lt;chr&gt; |\n",
       "|---|---|---|\n",
       "| 1 | 1 | say annies list political group support &lt;NUMBER&gt; trimester abortion demand                                             |\n",
       "| 2 | 3 | decline coal start start natural gas take start begin president george bushs administration                            |\n",
       "| 3 | 4 | hillary clinton agree john mccain vote give george bush benefit doubt iran                                             |\n",
       "| 4 | 1 | health care reform legislation likely mandate free sex change surgery                                                  |\n",
       "| 5 | 3 | economic turnaround start end term                                                                                     |\n",
       "| 6 | 5 | chicago bear start quarterback last &lt;NUMBER&gt; year total numb tenure uw faculty fire last two decade                    |\n",
       "| 7 | 2 | jim dunnam live district represent year now                                                                            |\n",
       "| 8 | 3 | person stage work actively just last year pass along russ feingold tough ethic reform since watergate                  |\n",
       "| 9 | 3 | however take &lt;MONEY&gt; million oregon lottery fund port newport eventually land new noaa marine operation center pacific |\n",
       "| 10 | 4 | say gop primary opponent glenn grothman joe leibham cast compromise vote cost &lt;MONEY&gt; million high electricity cost    |\n",
       "| 11 | 4 | first time history share national popular vote margin small latino vote margin                                         |\n",
       "| 12 | 3 | since &lt;YEAR&gt; nearly &lt;NUMBER&gt; million american slip middle class poverty                                                |\n",
       "| 13 | 1 | mitt romney governor massachusetts didnt just slow rate growth government actually cut                                 |\n",
       "| 14 | 4 | economy bleed &lt;MONEY&gt; billion due government shutdown                                                                  |\n",
       "| 15 | 2 | affordable care act already sense waive otherwise suspend                                                              |\n",
       "\n"
      ],
      "text/plain": [
       "   Labels\n",
       "1  1     \n",
       "2  3     \n",
       "3  4     \n",
       "4  1     \n",
       "5  3     \n",
       "6  5     \n",
       "7  2     \n",
       "8  3     \n",
       "9  3     \n",
       "10 4     \n",
       "11 4     \n",
       "12 3     \n",
       "13 1     \n",
       "14 4     \n",
       "15 2     \n",
       "   Text                                                                                                                  \n",
       "1  say annies list political group support <NUMBER> trimester abortion demand                                            \n",
       "2  decline coal start start natural gas take start begin president george bushs administration                           \n",
       "3  hillary clinton agree john mccain vote give george bush benefit doubt iran                                            \n",
       "4  health care reform legislation likely mandate free sex change surgery                                                 \n",
       "5  economic turnaround start end term                                                                                    \n",
       "6  chicago bear start quarterback last <NUMBER> year total numb tenure uw faculty fire last two decade                   \n",
       "7  jim dunnam live district represent year now                                                                           \n",
       "8  person stage work actively just last year pass along russ feingold tough ethic reform since watergate                 \n",
       "9  however take <MONEY> million oregon lottery fund port newport eventually land new noaa marine operation center pacific\n",
       "10 say gop primary opponent glenn grothman joe leibham cast compromise vote cost <MONEY> million high electricity cost   \n",
       "11 first time history share national popular vote margin small latino vote margin                                        \n",
       "12 since <YEAR> nearly <NUMBER> million american slip middle class poverty                                               \n",
       "13 mitt romney governor massachusetts didnt just slow rate growth government actually cut                                \n",
       "14 economy bleed <MONEY> billion due government shutdown                                                                 \n",
       "15 affordable care act already sense waive otherwise suspend                                                             "
      ]
     },
     "metadata": {},
     "output_type": "display_data"
    }
   ],
   "source": [
    "head(train.df, 15)"
   ]
  },
  {
   "cell_type": "markdown",
   "metadata": {},
   "source": [
    "## Vocabulary building \n",
    "\n",
    "#### We take part of the dataset (e.g. the first 80% of the records) and construct our vocabulary, which will be used for training. \n",
    "#### The remaining 20% will serve for validation."
   ]
  },
  {
   "cell_type": "code",
   "execution_count": 134,
   "metadata": {
    "vscode": {
     "languageId": "r"
    }
   },
   "outputs": [],
   "source": [
    "validation.df <- train.df[ceiling(0.8*nrow(train.df)):nrow(train.df),]\n",
    "train.df <- train.df[1:floor(0.8*nrow(train.df)),]"
   ]
  },
  {
   "cell_type": "code",
   "execution_count": 18,
   "metadata": {
    "vscode": {
     "languageId": "r"
    }
   },
   "outputs": [
    {
     "data": {
      "text/html": [
       "'say'"
      ],
      "text/latex": [
       "'say'"
      ],
      "text/markdown": [
       "'say'"
      ],
      "text/plain": [
       "[1] \"say\""
      ]
     },
     "metadata": {},
     "output_type": "display_data"
    },
    {
     "data": {
      "text/html": [
       "6"
      ],
      "text/latex": [
       "6"
      ],
      "text/markdown": [
       "6"
      ],
      "text/plain": [
       "[1] 6"
      ]
     },
     "metadata": {},
     "output_type": "display_data"
    }
   ],
   "source": [
    "first.word <- str_split_1(train.df$Text[1],' ')[1]\n",
    "first.word\n",
    "Nclasses <- length(unique(train.df$Labels))\n",
    "Nclasses"
   ]
  },
  {
   "cell_type": "markdown",
   "metadata": {},
   "source": [
    "### vocab.df, to store how many times each word appears\n",
    "This function creates a data.frame with all the unique words (tokens) in the dataset and for each token it keeps track of the number of occurences in every class it appears in.\n",
    "\n",
    "We will use this to calculate the paramterers for the Multivariate NBC."
   ]
  },
  {
   "cell_type": "code",
   "execution_count": 19,
   "metadata": {
    "vscode": {
     "languageId": "r"
    }
   },
   "outputs": [],
   "source": [
    "# Unique is used to select whether we want to count multiple occurrences of the same token in a quote or not\n",
    "find.vocabulary <- function(N, unique=FALSE){\n",
    "\n",
    "    #Dataframe initialization\n",
    "    vocabulary.df <- data.frame(\"Token\" = first.word, \"Class_0\" = 0, \"Class_1\" = 0, \"Class_2\" = 0, \"Class_3\" = 0, \"Class_4\" = 0,\n",
    "                       \"Class_5\" = 0)\n",
    "    for (i in 1:N){ \n",
    "        record <- train.df$Text[i]         #record = single quote/sentence in dataset\n",
    "        class <- train.df$Labels[i]\n",
    "        temp.q <- str_split_1(plain(record), \" \")         #temporary tokenized sentence\n",
    "        if(unique){ \n",
    "            temp.q <- unique(temp.q)\n",
    "        }\n",
    "        \n",
    "        for(word in temp.q){\n",
    "            if(!(word %in% vocabulary.df$Token)){\n",
    "                classes <- rep(0, Nclasses)\n",
    "                classes[class + 1] <- 1 #if word is new, adds row and initialize class count to 1. [class + 1] beacuse class \\in {0,5} \n",
    "                vocabulary.df <- rbind(vocabulary.df, list(word, classes[1], classes[2], \n",
    "                                                 classes[3], classes[4], classes[5], classes[6]))\n",
    "            }\n",
    "            else{\n",
    "                #Find where word is --> + 1 to class counter\n",
    "                vocabulary.df[which(vocabulary.df$Token == word), class + 2] <- vocabulary.df[which(vocabulary.df$Token == word), class + 2] + 1\n",
    "            }\n",
    "        }\n",
    "    }\n",
    "    return(vocabulary.df)\n",
    "}"
   ]
  },
  {
   "cell_type": "code",
   "execution_count": 20,
   "metadata": {
    "vscode": {
     "languageId": "r"
    }
   },
   "outputs": [],
   "source": [
    "n.records <- length(train.df$Text) #Number of records\n",
    "vocab.df <- find.vocabulary(n.records)"
   ]
  },
  {
   "cell_type": "markdown",
   "metadata": {},
   "source": [
    "### vocab.bool.df $\\rightarrow$ here we store in how many documents of each class the word appears\n",
    "We use vocab.bool.df to compute Feature Selections Criteria"
   ]
  },
  {
   "cell_type": "code",
   "execution_count": 21,
   "metadata": {
    "vscode": {
     "languageId": "r"
    }
   },
   "outputs": [],
   "source": [
    "vocab.bool.df <- find.vocabulary(n.records, TRUE)"
   ]
  },
  {
   "cell_type": "code",
   "execution_count": 22,
   "metadata": {
    "scrolled": true,
    "vscode": {
     "languageId": "r"
    }
   },
   "outputs": [
    {
     "data": {
      "text/html": [
       "<table class=\"dataframe\">\n",
       "<caption>A data.frame: 8 × 7</caption>\n",
       "<thead>\n",
       "\t<tr><th></th><th scope=col>Token</th><th scope=col>Class_0</th><th scope=col>Class_1</th><th scope=col>Class_2</th><th scope=col>Class_3</th><th scope=col>Class_4</th><th scope=col>Class_5</th></tr>\n",
       "\t<tr><th></th><th scope=col>&lt;chr&gt;</th><th scope=col>&lt;dbl&gt;</th><th scope=col>&lt;dbl&gt;</th><th scope=col>&lt;dbl&gt;</th><th scope=col>&lt;dbl&gt;</th><th scope=col>&lt;dbl&gt;</th><th scope=col>&lt;dbl&gt;</th></tr>\n",
       "</thead>\n",
       "<tbody>\n",
       "\t<tr><th scope=row>1</th><td>say      </td><td>209</td><td>430</td><td>410</td><td>442</td><td>371</td><td>304</td></tr>\n",
       "\t<tr><th scope=row>2</th><td>annies   </td><td>  0</td><td>  1</td><td>  0</td><td>  0</td><td>  0</td><td>  0</td></tr>\n",
       "\t<tr><th scope=row>3</th><td>list     </td><td>  1</td><td>  2</td><td>  4</td><td>  6</td><td>  5</td><td>  5</td></tr>\n",
       "\t<tr><th scope=row>4</th><td>political</td><td>  1</td><td> 12</td><td>  3</td><td>  6</td><td>  8</td><td>  9</td></tr>\n",
       "\t<tr><th scope=row>5</th><td>group    </td><td> 11</td><td> 13</td><td> 13</td><td>  6</td><td>  4</td><td>  3</td></tr>\n",
       "\t<tr><th scope=row>6</th><td>support  </td><td> 12</td><td> 52</td><td> 56</td><td> 66</td><td> 42</td><td> 32</td></tr>\n",
       "\t<tr><th scope=row>7</th><td>&lt;number&gt; </td><td>110</td><td>340</td><td>317</td><td>524</td><td>517</td><td>393</td></tr>\n",
       "\t<tr><th scope=row>8</th><td>trimester</td><td>  0</td><td>  2</td><td>  0</td><td>  0</td><td>  0</td><td>  0</td></tr>\n",
       "</tbody>\n",
       "</table>\n"
      ],
      "text/latex": [
       "A data.frame: 8 × 7\n",
       "\\begin{tabular}{r|lllllll}\n",
       "  & Token & Class\\_0 & Class\\_1 & Class\\_2 & Class\\_3 & Class\\_4 & Class\\_5\\\\\n",
       "  & <chr> & <dbl> & <dbl> & <dbl> & <dbl> & <dbl> & <dbl>\\\\\n",
       "\\hline\n",
       "\t1 & say       & 209 & 430 & 410 & 442 & 371 & 304\\\\\n",
       "\t2 & annies    &   0 &   1 &   0 &   0 &   0 &   0\\\\\n",
       "\t3 & list      &   1 &   2 &   4 &   6 &   5 &   5\\\\\n",
       "\t4 & political &   1 &  12 &   3 &   6 &   8 &   9\\\\\n",
       "\t5 & group     &  11 &  13 &  13 &   6 &   4 &   3\\\\\n",
       "\t6 & support   &  12 &  52 &  56 &  66 &  42 &  32\\\\\n",
       "\t7 & <number>  & 110 & 340 & 317 & 524 & 517 & 393\\\\\n",
       "\t8 & trimester &   0 &   2 &   0 &   0 &   0 &   0\\\\\n",
       "\\end{tabular}\n"
      ],
      "text/markdown": [
       "\n",
       "A data.frame: 8 × 7\n",
       "\n",
       "| <!--/--> | Token &lt;chr&gt; | Class_0 &lt;dbl&gt; | Class_1 &lt;dbl&gt; | Class_2 &lt;dbl&gt; | Class_3 &lt;dbl&gt; | Class_4 &lt;dbl&gt; | Class_5 &lt;dbl&gt; |\n",
       "|---|---|---|---|---|---|---|---|\n",
       "| 1 | say       | 209 | 430 | 410 | 442 | 371 | 304 |\n",
       "| 2 | annies    |   0 |   1 |   0 |   0 |   0 |   0 |\n",
       "| 3 | list      |   1 |   2 |   4 |   6 |   5 |   5 |\n",
       "| 4 | political |   1 |  12 |   3 |   6 |   8 |   9 |\n",
       "| 5 | group     |  11 |  13 |  13 |   6 |   4 |   3 |\n",
       "| 6 | support   |  12 |  52 |  56 |  66 |  42 |  32 |\n",
       "| 7 | &lt;number&gt;  | 110 | 340 | 317 | 524 | 517 | 393 |\n",
       "| 8 | trimester |   0 |   2 |   0 |   0 |   0 |   0 |\n",
       "\n"
      ],
      "text/plain": [
       "  Token     Class_0 Class_1 Class_2 Class_3 Class_4 Class_5\n",
       "1 say       209     430     410     442     371     304    \n",
       "2 annies      0       1       0       0       0       0    \n",
       "3 list        1       2       4       6       5       5    \n",
       "4 political   1      12       3       6       8       9    \n",
       "5 group      11      13      13       6       4       3    \n",
       "6 support    12      52      56      66      42      32    \n",
       "7 <number>  110     340     317     524     517     393    \n",
       "8 trimester   0       2       0       0       0       0    "
      ]
     },
     "metadata": {},
     "output_type": "display_data"
    }
   ],
   "source": [
    "head(vocab.bool.df, 8)"
   ]
  },
  {
   "cell_type": "code",
   "execution_count": 124,
   "metadata": {},
   "outputs": [
    {
     "data": {
      "text/html": [
       "<style>\n",
       ".list-inline {list-style: none; margin:0; padding: 0}\n",
       ".list-inline>li {display: inline-block}\n",
       ".list-inline>li:not(:last-child)::after {content: \"\\00b7\"; padding: 0 .5ex}\n",
       "</style>\n",
       "<ol class=list-inline><li>'n'</li><li>'a'</li></ol>\n"
      ],
      "text/latex": [
       "\\begin{enumerate*}\n",
       "\\item 'n'\n",
       "\\item 'a'\n",
       "\\end{enumerate*}\n"
      ],
      "text/markdown": [
       "1. 'n'\n",
       "2. 'a'\n",
       "\n",
       "\n"
      ],
      "text/plain": [
       "[1] \"n\" \"a\""
      ]
     },
     "metadata": {},
     "output_type": "display_data"
    }
   ],
   "source": [
    "vocab.bool.df$Token[str_length(vocab.bool.df$Token) < 2]"
   ]
  },
  {
   "cell_type": "code",
   "execution_count": 125,
   "metadata": {},
   "outputs": [],
   "source": [
    "vocab.bool.df <- vocab.bool.df[-which(str_length(vocab.bool.df$Token) < 2), ]\n",
    "vocab.df <- vocab.df[-which(str_length(vocab.df$Token) < 2), ]"
   ]
  },
  {
   "cell_type": "markdown",
   "metadata": {},
   "source": [
    "## Feature selection\n",
    "\n",
    "We must now perform feature selection: this means selecting a subset of the vocabulary and use that subset for classification.\n",
    "\n",
    "### $\\chi^2$ method\n",
    "\n",
    "The aim of the $\\chi^2$ method is to evaluate which tokens are the most correlated to a class, that is, to verify where $P(t)P(c) != P(t,c)$."
   ]
  },
  {
   "cell_type": "code",
   "execution_count": 23,
   "metadata": {
    "scrolled": true,
    "vscode": {
     "languageId": "r"
    }
   },
   "outputs": [
    {
     "data": {
      "text/html": [
       "<style>\n",
       ".list-inline {list-style: none; margin:0; padding: 0}\n",
       ".list-inline>li {display: inline-block}\n",
       ".list-inline>li:not(:last-child)::after {content: \"\\00b7\"; padding: 0 .5ex}\n",
       "</style>\n",
       "<ol class=list-inline><li>657</li><li>1593</li><li>1310</li><li>1698</li><li>1580</li><li>1351</li></ol>\n"
      ],
      "text/latex": [
       "\\begin{enumerate*}\n",
       "\\item 657\n",
       "\\item 1593\n",
       "\\item 1310\n",
       "\\item 1698\n",
       "\\item 1580\n",
       "\\item 1351\n",
       "\\end{enumerate*}\n"
      ],
      "text/markdown": [
       "1. 657\n",
       "2. 1593\n",
       "3. 1310\n",
       "4. 1698\n",
       "5. 1580\n",
       "6. 1351\n",
       "\n",
       "\n"
      ],
      "text/plain": [
       "[1]  657 1593 1310 1698 1580 1351"
      ]
     },
     "metadata": {},
     "output_type": "display_data"
    }
   ],
   "source": [
    "CHIs <- rep(0, length(vocab.bool.df$Token))                                 #Vector with Chi^2 values\n",
    "NCs <- hist(train.df$Labels,breaks=seq(-1,(Nclasses-1)),plot=FALSE)$counts  #Number of documents for each class\n",
    "NCs"
   ]
  },
  {
   "cell_type": "code",
   "execution_count": 24,
   "metadata": {
    "vscode": {
     "languageId": "r"
    }
   },
   "outputs": [],
   "source": [
    "for(i in 1:length(vocab.bool.df$Token)){\n",
    "    Chi <- 0\n",
    "    N.t <- sum(vocab.bool.df[i, 2:(Nclasses+1)])\n",
    "    N.nott <- n.records - N.t \n",
    "    for(class in 0:(Nclasses-1)){\n",
    "        N.c <- NCs[class + 1]                   #number of documents of that class\n",
    "        N.ct <- vocab.bool.df[i, class + 2]     #number of docs in the class c containing token t\n",
    "        E <- n.records * N.c/n.records * N.t/n.records #Expected value of N.ct (if t,c independent)\n",
    "        Chi <- Chi + (N.ct - E)^2 / E\n",
    "        \n",
    "        # N_c,nontoken - E_c, nontoken          #same calculations as above with docs in class c not containing token t\n",
    "        N.c.nott <- N.c - N.ct                 \n",
    "        E <- n.records * N.c/n.records * N.nott/n.records\n",
    "        Chi <- Chi + (N.c.nott - E)^2 / E\n",
    "    }\n",
    "    \n",
    "    CHIs[i] <- Chi\n",
    "}"
   ]
  },
  {
   "cell_type": "code",
   "execution_count": 25,
   "metadata": {
    "vscode": {
     "languageId": "r"
    }
   },
   "outputs": [],
   "source": [
    "#Now CHIs contains the chi^2 for each token --> let's try ranking them\n",
    "vocab.df$Chi <- CHIs"
   ]
  },
  {
   "cell_type": "code",
   "execution_count": 26,
   "metadata": {
    "vscode": {
     "languageId": "r"
    }
   },
   "outputs": [],
   "source": [
    "vocab.bool.df$Chi <- CHIs"
   ]
  },
  {
   "cell_type": "code",
   "execution_count": 27,
   "metadata": {
    "scrolled": true,
    "vscode": {
     "languageId": "r"
    }
   },
   "outputs": [
    {
     "data": {
      "text/html": [
       "<table class=\"dataframe\">\n",
       "<caption>A data.frame: 6 × 8</caption>\n",
       "<thead>\n",
       "\t<tr><th></th><th scope=col>Token</th><th scope=col>Class_0</th><th scope=col>Class_1</th><th scope=col>Class_2</th><th scope=col>Class_3</th><th scope=col>Class_4</th><th scope=col>Class_5</th><th scope=col>Chi</th></tr>\n",
       "\t<tr><th></th><th scope=col>&lt;chr&gt;</th><th scope=col>&lt;dbl&gt;</th><th scope=col>&lt;dbl&gt;</th><th scope=col>&lt;dbl&gt;</th><th scope=col>&lt;dbl&gt;</th><th scope=col>&lt;dbl&gt;</th><th scope=col>&lt;dbl&gt;</th><th scope=col>&lt;dbl&gt;</th></tr>\n",
       "</thead>\n",
       "<tbody>\n",
       "\t<tr><th scope=row>7</th><td>&lt;number&gt; </td><td>148</td><td>471</td><td>419</td><td>776</td><td>744</td><td>590</td><td>108.46551</td></tr>\n",
       "\t<tr><th scope=row>725</th><td>socialist</td><td> 10</td><td>  1</td><td>  1</td><td>  0</td><td>  0</td><td>  1</td><td> 84.35517</td></tr>\n",
       "\t<tr><th scope=row>163</th><td>rep      </td><td> 30</td><td> 19</td><td> 25</td><td> 16</td><td>  5</td><td> 10</td><td> 77.77005</td></tr>\n",
       "\t<tr><th scope=row>148</th><td>percent  </td><td> 34</td><td>115</td><td>121</td><td>228</td><td>233</td><td>193</td><td> 62.54439</td></tr>\n",
       "\t<tr><th scope=row>1</th><td>say      </td><td>233</td><td>465</td><td>442</td><td>473</td><td>398</td><td>326</td><td> 43.91115</td></tr>\n",
       "\t<tr><th scope=row>77</th><td>since    </td><td> 14</td><td> 30</td><td> 30</td><td> 74</td><td> 67</td><td> 69</td><td> 40.23848</td></tr>\n",
       "</tbody>\n",
       "</table>\n"
      ],
      "text/latex": [
       "A data.frame: 6 × 8\n",
       "\\begin{tabular}{r|llllllll}\n",
       "  & Token & Class\\_0 & Class\\_1 & Class\\_2 & Class\\_3 & Class\\_4 & Class\\_5 & Chi\\\\\n",
       "  & <chr> & <dbl> & <dbl> & <dbl> & <dbl> & <dbl> & <dbl> & <dbl>\\\\\n",
       "\\hline\n",
       "\t7 & <number>  & 148 & 471 & 419 & 776 & 744 & 590 & 108.46551\\\\\n",
       "\t725 & socialist &  10 &   1 &   1 &   0 &   0 &   1 &  84.35517\\\\\n",
       "\t163 & rep       &  30 &  19 &  25 &  16 &   5 &  10 &  77.77005\\\\\n",
       "\t148 & percent   &  34 & 115 & 121 & 228 & 233 & 193 &  62.54439\\\\\n",
       "\t1 & say       & 233 & 465 & 442 & 473 & 398 & 326 &  43.91115\\\\\n",
       "\t77 & since     &  14 &  30 &  30 &  74 &  67 &  69 &  40.23848\\\\\n",
       "\\end{tabular}\n"
      ],
      "text/markdown": [
       "\n",
       "A data.frame: 6 × 8\n",
       "\n",
       "| <!--/--> | Token &lt;chr&gt; | Class_0 &lt;dbl&gt; | Class_1 &lt;dbl&gt; | Class_2 &lt;dbl&gt; | Class_3 &lt;dbl&gt; | Class_4 &lt;dbl&gt; | Class_5 &lt;dbl&gt; | Chi &lt;dbl&gt; |\n",
       "|---|---|---|---|---|---|---|---|---|\n",
       "| 7 | &lt;number&gt;  | 148 | 471 | 419 | 776 | 744 | 590 | 108.46551 |\n",
       "| 725 | socialist |  10 |   1 |   1 |   0 |   0 |   1 |  84.35517 |\n",
       "| 163 | rep       |  30 |  19 |  25 |  16 |   5 |  10 |  77.77005 |\n",
       "| 148 | percent   |  34 | 115 | 121 | 228 | 233 | 193 |  62.54439 |\n",
       "| 1 | say       | 233 | 465 | 442 | 473 | 398 | 326 |  43.91115 |\n",
       "| 77 | since     |  14 |  30 |  30 |  74 |  67 |  69 |  40.23848 |\n",
       "\n"
      ],
      "text/plain": [
       "    Token     Class_0 Class_1 Class_2 Class_3 Class_4 Class_5 Chi      \n",
       "7   <number>  148     471     419     776     744     590     108.46551\n",
       "725 socialist  10       1       1       0       0       1      84.35517\n",
       "163 rep        30      19      25      16       5      10      77.77005\n",
       "148 percent    34     115     121     228     233     193      62.54439\n",
       "1   say       233     465     442     473     398     326      43.91115\n",
       "77  since      14      30      30      74      67      69      40.23848"
      ]
     },
     "metadata": {},
     "output_type": "display_data"
    }
   ],
   "source": [
    "vocab.df[order(vocab.df$Chi, decreasing = TRUE),] %>% head"
   ]
  },
  {
   "cell_type": "code",
   "execution_count": 28,
   "metadata": {},
   "outputs": [],
   "source": [
    "vocab.df.order.chi <- vocab.df[order(vocab.df$Chi, decreasing = TRUE),]"
   ]
  },
  {
   "cell_type": "markdown",
   "metadata": {},
   "source": [
    "We don't really like that the $\\chi^2$ method seems to like rare tokens which appear only in one class. This can be misguiding, so let's try with the Mutual Information.\n",
    "\n",
    "## Mutual Information \n",
    "We evaluate the mutual information for each class (among the possibilities (class, not class)) and make an average.\n",
    "\n",
    "$\\sum_{\\mathrm{class}\\in\\{0,1\\}}\\sum_{\\mathrm{token}\\in\\{0,1\\}}P(class, token) \\log{\\frac{P(class, token)}{P(class)P(token)}}$\n",
    "\n",
    "We evaluate this quantity for each class, then take the sum."
   ]
  },
  {
   "cell_type": "code",
   "execution_count": 29,
   "metadata": {
    "vscode": {
     "languageId": "r"
    }
   },
   "outputs": [],
   "source": [
    "#function to evalute single terms of MI sum\n",
    "mi.term <- function(ab,a,b,n){ \n",
    "    output <- ifelse(ab > 0, ab/n*log(ab*n/(a*b)), 0)\n",
    "    return(output)\n",
    "}"
   ]
  },
  {
   "cell_type": "code",
   "execution_count": 30,
   "metadata": {
    "vscode": {
     "languageId": "r"
    }
   },
   "outputs": [],
   "source": [
    "MIs <- rep(0, length(vocab.bool.df$Token))\n",
    "\n",
    "#Evaluate MI separately for each class, then average\n",
    "for(i in 1:length(vocab.df$Token)){\n",
    "    MI <- 0\n",
    "    N.t <- sum(vocab.bool.df[i, 2:(Nclasses+1)])\n",
    "    N.not.t <- n.records - N.t\n",
    "    for(class in 0:(Nclasses-1)){\n",
    "        MI.c <- 0\n",
    "        N.c <- NCs[class + 1]\n",
    "        N.not.c <- n.records - N.c \n",
    "        N.ct <- vocab.bool.df[i, class + 2]\n",
    "        \n",
    "        class.index <- switch(class + 1, \"Class_0\", \"Class_1\", \n",
    "                              \"Class_2\", \"Class_3\", \"Class_4\", \"Class_5\")\n",
    "        N.not.c.not.t <- n.records - sum(vocab.bool.df[i, 2:(Nclasses+1)]) + N.ct - sum(vocab.bool.df$class.index)\n",
    "        \n",
    "        \n",
    "        #P(class, token)log(...) + P(nonclass, token) + P(class, non token) + P(non class, non token)\n",
    "        term <- mi.term(N.ct, N.c, N.t, n.records) +                                     #class and token\n",
    "                mi.term(N.t - N.ct, N.not.c , N.t, n.records) +            #not class, token\n",
    "                mi.term(N.c - N.ct, N.not.t , N.c, n.records) +      #class, not token     \n",
    "                mi.term(N.not.c.not.t, N.not.c, N.not.t, n.records)        #neither class nor token\n",
    "                \n",
    "        MI <- MI + term\n",
    "        \n",
    "    }\n",
    "    \n",
    "    MIs[i] <- MI\n",
    "}"
   ]
  },
  {
   "cell_type": "code",
   "execution_count": 31,
   "metadata": {
    "vscode": {
     "languageId": "r"
    }
   },
   "outputs": [],
   "source": [
    "vocab.df$MI <- MIs"
   ]
  },
  {
   "cell_type": "code",
   "execution_count": 32,
   "metadata": {
    "vscode": {
     "languageId": "r"
    }
   },
   "outputs": [],
   "source": [
    "vocab.df.order.MI <- vocab.df[order(vocab.df$MI, decreasing = TRUE), ] "
   ]
  },
  {
   "cell_type": "code",
   "execution_count": 33,
   "metadata": {
    "scrolled": true,
    "vscode": {
     "languageId": "r"
    }
   },
   "outputs": [
    {
     "data": {
      "text/html": [
       "<table class=\"dataframe\">\n",
       "<caption>A data.frame: 6 × 9</caption>\n",
       "<thead>\n",
       "\t<tr><th></th><th scope=col>Token</th><th scope=col>Class_0</th><th scope=col>Class_1</th><th scope=col>Class_2</th><th scope=col>Class_3</th><th scope=col>Class_4</th><th scope=col>Class_5</th><th scope=col>Chi</th><th scope=col>MI</th></tr>\n",
       "\t<tr><th></th><th scope=col>&lt;chr&gt;</th><th scope=col>&lt;dbl&gt;</th><th scope=col>&lt;dbl&gt;</th><th scope=col>&lt;dbl&gt;</th><th scope=col>&lt;dbl&gt;</th><th scope=col>&lt;dbl&gt;</th><th scope=col>&lt;dbl&gt;</th><th scope=col>&lt;dbl&gt;</th><th scope=col>&lt;dbl&gt;</th></tr>\n",
       "</thead>\n",
       "<tbody>\n",
       "\t<tr><th scope=row>7</th><td>&lt;number&gt;</td><td>148</td><td>471</td><td>419</td><td>776</td><td>744</td><td>590</td><td>108.46551</td><td>1.144939</td></tr>\n",
       "\t<tr><th scope=row>1</th><td>say     </td><td>233</td><td>465</td><td>442</td><td>473</td><td>398</td><td>326</td><td> 43.91115</td><td>1.136849</td></tr>\n",
       "\t<tr><th scope=row>197</th><td>state   </td><td> 55</td><td>214</td><td>163</td><td>241</td><td>253</td><td>219</td><td> 26.90833</td><td>1.117582</td></tr>\n",
       "\t<tr><th scope=row>148</th><td>percent </td><td> 34</td><td>115</td><td>121</td><td>228</td><td>233</td><td>193</td><td> 62.54439</td><td>1.116305</td></tr>\n",
       "\t<tr><th scope=row>51</th><td>year    </td><td> 44</td><td>155</td><td>159</td><td>230</td><td>230</td><td>184</td><td> 29.70379</td><td>1.115615</td></tr>\n",
       "\t<tr><th scope=row>80</th><td>&lt;money&gt; </td><td> 54</td><td>163</td><td>183</td><td>246</td><td>228</td><td>142</td><td> 23.18670</td><td>1.114317</td></tr>\n",
       "</tbody>\n",
       "</table>\n"
      ],
      "text/latex": [
       "A data.frame: 6 × 9\n",
       "\\begin{tabular}{r|lllllllll}\n",
       "  & Token & Class\\_0 & Class\\_1 & Class\\_2 & Class\\_3 & Class\\_4 & Class\\_5 & Chi & MI\\\\\n",
       "  & <chr> & <dbl> & <dbl> & <dbl> & <dbl> & <dbl> & <dbl> & <dbl> & <dbl>\\\\\n",
       "\\hline\n",
       "\t7 & <number> & 148 & 471 & 419 & 776 & 744 & 590 & 108.46551 & 1.144939\\\\\n",
       "\t1 & say      & 233 & 465 & 442 & 473 & 398 & 326 &  43.91115 & 1.136849\\\\\n",
       "\t197 & state    &  55 & 214 & 163 & 241 & 253 & 219 &  26.90833 & 1.117582\\\\\n",
       "\t148 & percent  &  34 & 115 & 121 & 228 & 233 & 193 &  62.54439 & 1.116305\\\\\n",
       "\t51 & year     &  44 & 155 & 159 & 230 & 230 & 184 &  29.70379 & 1.115615\\\\\n",
       "\t80 & <money>  &  54 & 163 & 183 & 246 & 228 & 142 &  23.18670 & 1.114317\\\\\n",
       "\\end{tabular}\n"
      ],
      "text/markdown": [
       "\n",
       "A data.frame: 6 × 9\n",
       "\n",
       "| <!--/--> | Token &lt;chr&gt; | Class_0 &lt;dbl&gt; | Class_1 &lt;dbl&gt; | Class_2 &lt;dbl&gt; | Class_3 &lt;dbl&gt; | Class_4 &lt;dbl&gt; | Class_5 &lt;dbl&gt; | Chi &lt;dbl&gt; | MI &lt;dbl&gt; |\n",
       "|---|---|---|---|---|---|---|---|---|---|\n",
       "| 7 | &lt;number&gt; | 148 | 471 | 419 | 776 | 744 | 590 | 108.46551 | 1.144939 |\n",
       "| 1 | say      | 233 | 465 | 442 | 473 | 398 | 326 |  43.91115 | 1.136849 |\n",
       "| 197 | state    |  55 | 214 | 163 | 241 | 253 | 219 |  26.90833 | 1.117582 |\n",
       "| 148 | percent  |  34 | 115 | 121 | 228 | 233 | 193 |  62.54439 | 1.116305 |\n",
       "| 51 | year     |  44 | 155 | 159 | 230 | 230 | 184 |  29.70379 | 1.115615 |\n",
       "| 80 | &lt;money&gt;  |  54 | 163 | 183 | 246 | 228 | 142 |  23.18670 | 1.114317 |\n",
       "\n"
      ],
      "text/plain": [
       "    Token    Class_0 Class_1 Class_2 Class_3 Class_4 Class_5 Chi       MI      \n",
       "7   <number> 148     471     419     776     744     590     108.46551 1.144939\n",
       "1   say      233     465     442     473     398     326      43.91115 1.136849\n",
       "197 state     55     214     163     241     253     219      26.90833 1.117582\n",
       "148 percent   34     115     121     228     233     193      62.54439 1.116305\n",
       "51  year      44     155     159     230     230     184      29.70379 1.115615\n",
       "80  <money>   54     163     183     246     228     142      23.18670 1.114317"
      ]
     },
     "metadata": {},
     "output_type": "display_data"
    }
   ],
   "source": [
    "vocab.df.order.MI %>% head()"
   ]
  },
  {
   "cell_type": "markdown",
   "metadata": {},
   "source": [
    "### Frequency\n",
    "\n",
    "Another method, which was not on our sources but which we found to be used quite often online, is to simply rank the tokens in order of descending frequency."
   ]
  },
  {
   "cell_type": "code",
   "execution_count": 132,
   "metadata": {},
   "outputs": [],
   "source": [
    "#How many times does each token appear in total?\n",
    "total.frequencies <- rowSums(vocab.df[, 2:(Nclasses + 1)])"
   ]
  },
  {
   "cell_type": "code",
   "execution_count": 46,
   "metadata": {},
   "outputs": [],
   "source": [
    "vocab.df.order.frequencies <- vocab.df[order(total.frequencies, decreasing = TRUE), ]"
   ]
  },
  {
   "cell_type": "markdown",
   "metadata": {},
   "source": [
    "# Training and validation\n",
    "\n",
    "We compute the parameters of our MNB, using different numbers of features and different feature selection criteria. We train it on different vocabulary sizes."
   ]
  },
  {
   "cell_type": "code",
   "execution_count": 107,
   "metadata": {
    "vscode": {
     "languageId": "r"
    }
   },
   "outputs": [
    {
     "data": {
      "text/html": [
       "<style>\n",
       ".list-inline {list-style: none; margin:0; padding: 0}\n",
       ".list-inline>li {display: inline-block}\n",
       ".list-inline>li:not(:last-child)::after {content: \"\\00b7\"; padding: 0 .5ex}\n",
       "</style>\n",
       "<ol class=list-inline><li>10</li><li>13</li><li>16</li><li>20</li><li>26</li><li>32</li><li>40</li><li>51</li><li>64</li><li>80</li><li>100</li><li>126</li><li>159</li><li>200</li><li>252</li><li>317</li><li>399</li><li>502</li><li>631</li><li>795</li><li>1000</li><li>1259</li><li>1585</li><li>1996</li><li>2512</li><li>3163</li><li>3982</li><li>5012</li><li>6310</li></ol>\n"
      ],
      "text/latex": [
       "\\begin{enumerate*}\n",
       "\\item 10\n",
       "\\item 13\n",
       "\\item 16\n",
       "\\item 20\n",
       "\\item 26\n",
       "\\item 32\n",
       "\\item 40\n",
       "\\item 51\n",
       "\\item 64\n",
       "\\item 80\n",
       "\\item 100\n",
       "\\item 126\n",
       "\\item 159\n",
       "\\item 200\n",
       "\\item 252\n",
       "\\item 317\n",
       "\\item 399\n",
       "\\item 502\n",
       "\\item 631\n",
       "\\item 795\n",
       "\\item 1000\n",
       "\\item 1259\n",
       "\\item 1585\n",
       "\\item 1996\n",
       "\\item 2512\n",
       "\\item 3163\n",
       "\\item 3982\n",
       "\\item 5012\n",
       "\\item 6310\n",
       "\\end{enumerate*}\n"
      ],
      "text/markdown": [
       "1. 10\n",
       "2. 13\n",
       "3. 16\n",
       "4. 20\n",
       "5. 26\n",
       "6. 32\n",
       "7. 40\n",
       "8. 51\n",
       "9. 64\n",
       "10. 80\n",
       "11. 100\n",
       "12. 126\n",
       "13. 159\n",
       "14. 200\n",
       "15. 252\n",
       "16. 317\n",
       "17. 399\n",
       "18. 502\n",
       "19. 631\n",
       "20. 795\n",
       "21. 1000\n",
       "22. 1259\n",
       "23. 1585\n",
       "24. 1996\n",
       "25. 2512\n",
       "26. 3163\n",
       "27. 3982\n",
       "28. 5012\n",
       "29. 6310\n",
       "\n",
       "\n"
      ],
      "text/plain": [
       " [1]   10   13   16   20   26   32   40   51   64   80  100  126  159  200  252\n",
       "[16]  317  399  502  631  795 1000 1259 1585 1996 2512 3163 3982 5012 6310"
      ]
     },
     "metadata": {},
     "output_type": "display_data"
    }
   ],
   "source": [
    "vocab.sizes <- unique(ceiling(10^seq(from = 1, to = 3.8, by = 0.1)))\n",
    "vocab.sizes"
   ]
  },
  {
   "cell_type": "markdown",
   "metadata": {},
   "source": [
    "#### Score for different vocabulary sizes"
   ]
  },
  {
   "cell_type": "code",
   "execution_count": 108,
   "metadata": {
    "vscode": {
     "languageId": "r"
    }
   },
   "outputs": [],
   "source": [
    "#Returns validation score with the first *size* features\n",
    "validate <- function(size, ordered.vocabulary){\n",
    "    vocab.short <- ordered.vocabulary[1:size, ]\n",
    "    \n",
    "    #Priors\n",
    "    p.c <- log(NCs / n.records)\n",
    "    \n",
    "    #Posteriors\n",
    "    posteriors.df <- vocab.short\n",
    "    \n",
    "    #Evaluate posterior for each token\n",
    "    for(class in 0:(Nclasses-1)){\n",
    "        posteriors.df[, class + 2] <- log((posteriors.df[, class + 2] + 1) / sum(posteriors.df[, class + 2]+1))\n",
    "    } \n",
    "    \n",
    "    #Predict labels for validation set\n",
    "    predictions <- rep(0, length(validation.df$Text))\n",
    "    for(i in 1:length(validation.df$Text)){\n",
    "        record <- validation.df$Text[i]\n",
    "        words <- str_split_1(plain(record), \" \") \n",
    "        posteriors <- rep(0, Nclasses) #Posterior probabilities (we want to find the maximum)\n",
    "        for(class in 0:(Nclasses - 1)){\n",
    "            #For each class evaluate posterior\n",
    "            posterior <- p.c[class + 1]\n",
    "            for(word in words){\n",
    "                #Check if word in vocabulary\n",
    "                if(word %in% posteriors.df$Token){\n",
    "                    posterior <- posterior + posteriors.df[which(posteriors.df$Token == word) , class + 2]\n",
    "                }\n",
    "            }\n",
    "            posteriors[class + 1] <- posterior\n",
    "        }\n",
    "\n",
    "        predictions[i] <- which.max(posteriors) - 1\n",
    "    }\n",
    "    \n",
    "    return(sum(predictions == validation.df$Labels) / length(validation.df$Labels))\n",
    " \n",
    "}\n"
   ]
  },
  {
   "cell_type": "code",
   "execution_count": 109,
   "metadata": {
    "vscode": {
     "languageId": "r"
    }
   },
   "outputs": [
    {
     "data": {
      "text/html": [
       "<table class=\"dataframe\">\n",
       "<caption>A matrix: 29 × 3 of type dbl</caption>\n",
       "<tbody>\n",
       "\t<tr><td>0.2089844</td><td>0.2050781</td><td>0.2050781</td></tr>\n",
       "\t<tr><td>0.2124023</td><td>0.2089844</td><td>0.2070312</td></tr>\n",
       "\t<tr><td>0.2099609</td><td>0.2080078</td><td>0.2128906</td></tr>\n",
       "\t<tr><td>0.2138672</td><td>0.2119141</td><td>0.2182617</td></tr>\n",
       "\t<tr><td>0.2138672</td><td>0.2153320</td><td>0.2163086</td></tr>\n",
       "\t<tr><td>0.2089844</td><td>0.2119141</td><td>0.2192383</td></tr>\n",
       "\t<tr><td>0.2099609</td><td>0.2182617</td><td>0.2143555</td></tr>\n",
       "\t<tr><td>0.2041016</td><td>0.2153320</td><td>0.2172852</td></tr>\n",
       "\t<tr><td>0.2036133</td><td>0.2202148</td><td>0.2099609</td></tr>\n",
       "\t<tr><td>0.2089844</td><td>0.2187500</td><td>0.2177734</td></tr>\n",
       "\t<tr><td>0.2084961</td><td>0.2192383</td><td>0.2163086</td></tr>\n",
       "\t<tr><td>0.2207031</td><td>0.2148438</td><td>0.2167969</td></tr>\n",
       "\t<tr><td>0.2231445</td><td>0.2167969</td><td>0.2172852</td></tr>\n",
       "\t<tr><td>0.2250977</td><td>0.2192383</td><td>0.2202148</td></tr>\n",
       "\t<tr><td>0.2211914</td><td>0.2241211</td><td>0.2211914</td></tr>\n",
       "\t<tr><td>0.2202148</td><td>0.2290039</td><td>0.2246094</td></tr>\n",
       "\t<tr><td>0.2211914</td><td>0.2343750</td><td>0.2348633</td></tr>\n",
       "\t<tr><td>0.2197266</td><td>0.2358398</td><td>0.2363281</td></tr>\n",
       "\t<tr><td>0.2211914</td><td>0.2382812</td><td>0.2377930</td></tr>\n",
       "\t<tr><td>0.2285156</td><td>0.2368164</td><td>0.2363281</td></tr>\n",
       "\t<tr><td>0.2333984</td><td>0.2324219</td><td>0.2304688</td></tr>\n",
       "\t<tr><td>0.2324219</td><td>0.2304688</td><td>0.2338867</td></tr>\n",
       "\t<tr><td>0.2319336</td><td>0.2358398</td><td>0.2373047</td></tr>\n",
       "\t<tr><td>0.2304688</td><td>0.2353516</td><td>0.2329102</td></tr>\n",
       "\t<tr><td>0.2314453</td><td>0.2294922</td><td>0.2290039</td></tr>\n",
       "\t<tr><td>0.2319336</td><td>0.2250977</td><td>0.2319336</td></tr>\n",
       "\t<tr><td>0.2314453</td><td>0.2216797</td><td>0.2270508</td></tr>\n",
       "\t<tr><td>0.2265625</td><td>0.2250977</td><td>0.2236328</td></tr>\n",
       "\t<tr><td>0.2202148</td><td>0.2275391</td><td>0.2270508</td></tr>\n",
       "</tbody>\n",
       "</table>\n"
      ],
      "text/latex": [
       "A matrix: 29 × 3 of type dbl\n",
       "\\begin{tabular}{lll}\n",
       "\t 0.2089844 & 0.2050781 & 0.2050781\\\\\n",
       "\t 0.2124023 & 0.2089844 & 0.2070312\\\\\n",
       "\t 0.2099609 & 0.2080078 & 0.2128906\\\\\n",
       "\t 0.2138672 & 0.2119141 & 0.2182617\\\\\n",
       "\t 0.2138672 & 0.2153320 & 0.2163086\\\\\n",
       "\t 0.2089844 & 0.2119141 & 0.2192383\\\\\n",
       "\t 0.2099609 & 0.2182617 & 0.2143555\\\\\n",
       "\t 0.2041016 & 0.2153320 & 0.2172852\\\\\n",
       "\t 0.2036133 & 0.2202148 & 0.2099609\\\\\n",
       "\t 0.2089844 & 0.2187500 & 0.2177734\\\\\n",
       "\t 0.2084961 & 0.2192383 & 0.2163086\\\\\n",
       "\t 0.2207031 & 0.2148438 & 0.2167969\\\\\n",
       "\t 0.2231445 & 0.2167969 & 0.2172852\\\\\n",
       "\t 0.2250977 & 0.2192383 & 0.2202148\\\\\n",
       "\t 0.2211914 & 0.2241211 & 0.2211914\\\\\n",
       "\t 0.2202148 & 0.2290039 & 0.2246094\\\\\n",
       "\t 0.2211914 & 0.2343750 & 0.2348633\\\\\n",
       "\t 0.2197266 & 0.2358398 & 0.2363281\\\\\n",
       "\t 0.2211914 & 0.2382812 & 0.2377930\\\\\n",
       "\t 0.2285156 & 0.2368164 & 0.2363281\\\\\n",
       "\t 0.2333984 & 0.2324219 & 0.2304688\\\\\n",
       "\t 0.2324219 & 0.2304688 & 0.2338867\\\\\n",
       "\t 0.2319336 & 0.2358398 & 0.2373047\\\\\n",
       "\t 0.2304688 & 0.2353516 & 0.2329102\\\\\n",
       "\t 0.2314453 & 0.2294922 & 0.2290039\\\\\n",
       "\t 0.2319336 & 0.2250977 & 0.2319336\\\\\n",
       "\t 0.2314453 & 0.2216797 & 0.2270508\\\\\n",
       "\t 0.2265625 & 0.2250977 & 0.2236328\\\\\n",
       "\t 0.2202148 & 0.2275391 & 0.2270508\\\\\n",
       "\\end{tabular}\n"
      ],
      "text/markdown": [
       "\n",
       "A matrix: 29 × 3 of type dbl\n",
       "\n",
       "| 0.2089844 | 0.2050781 | 0.2050781 |\n",
       "| 0.2124023 | 0.2089844 | 0.2070312 |\n",
       "| 0.2099609 | 0.2080078 | 0.2128906 |\n",
       "| 0.2138672 | 0.2119141 | 0.2182617 |\n",
       "| 0.2138672 | 0.2153320 | 0.2163086 |\n",
       "| 0.2089844 | 0.2119141 | 0.2192383 |\n",
       "| 0.2099609 | 0.2182617 | 0.2143555 |\n",
       "| 0.2041016 | 0.2153320 | 0.2172852 |\n",
       "| 0.2036133 | 0.2202148 | 0.2099609 |\n",
       "| 0.2089844 | 0.2187500 | 0.2177734 |\n",
       "| 0.2084961 | 0.2192383 | 0.2163086 |\n",
       "| 0.2207031 | 0.2148438 | 0.2167969 |\n",
       "| 0.2231445 | 0.2167969 | 0.2172852 |\n",
       "| 0.2250977 | 0.2192383 | 0.2202148 |\n",
       "| 0.2211914 | 0.2241211 | 0.2211914 |\n",
       "| 0.2202148 | 0.2290039 | 0.2246094 |\n",
       "| 0.2211914 | 0.2343750 | 0.2348633 |\n",
       "| 0.2197266 | 0.2358398 | 0.2363281 |\n",
       "| 0.2211914 | 0.2382812 | 0.2377930 |\n",
       "| 0.2285156 | 0.2368164 | 0.2363281 |\n",
       "| 0.2333984 | 0.2324219 | 0.2304688 |\n",
       "| 0.2324219 | 0.2304688 | 0.2338867 |\n",
       "| 0.2319336 | 0.2358398 | 0.2373047 |\n",
       "| 0.2304688 | 0.2353516 | 0.2329102 |\n",
       "| 0.2314453 | 0.2294922 | 0.2290039 |\n",
       "| 0.2319336 | 0.2250977 | 0.2319336 |\n",
       "| 0.2314453 | 0.2216797 | 0.2270508 |\n",
       "| 0.2265625 | 0.2250977 | 0.2236328 |\n",
       "| 0.2202148 | 0.2275391 | 0.2270508 |\n",
       "\n"
      ],
      "text/plain": [
       "      [,1]      [,2]      [,3]     \n",
       " [1,] 0.2089844 0.2050781 0.2050781\n",
       " [2,] 0.2124023 0.2089844 0.2070312\n",
       " [3,] 0.2099609 0.2080078 0.2128906\n",
       " [4,] 0.2138672 0.2119141 0.2182617\n",
       " [5,] 0.2138672 0.2153320 0.2163086\n",
       " [6,] 0.2089844 0.2119141 0.2192383\n",
       " [7,] 0.2099609 0.2182617 0.2143555\n",
       " [8,] 0.2041016 0.2153320 0.2172852\n",
       " [9,] 0.2036133 0.2202148 0.2099609\n",
       "[10,] 0.2089844 0.2187500 0.2177734\n",
       "[11,] 0.2084961 0.2192383 0.2163086\n",
       "[12,] 0.2207031 0.2148438 0.2167969\n",
       "[13,] 0.2231445 0.2167969 0.2172852\n",
       "[14,] 0.2250977 0.2192383 0.2202148\n",
       "[15,] 0.2211914 0.2241211 0.2211914\n",
       "[16,] 0.2202148 0.2290039 0.2246094\n",
       "[17,] 0.2211914 0.2343750 0.2348633\n",
       "[18,] 0.2197266 0.2358398 0.2363281\n",
       "[19,] 0.2211914 0.2382812 0.2377930\n",
       "[20,] 0.2285156 0.2368164 0.2363281\n",
       "[21,] 0.2333984 0.2324219 0.2304688\n",
       "[22,] 0.2324219 0.2304688 0.2338867\n",
       "[23,] 0.2319336 0.2358398 0.2373047\n",
       "[24,] 0.2304688 0.2353516 0.2329102\n",
       "[25,] 0.2314453 0.2294922 0.2290039\n",
       "[26,] 0.2319336 0.2250977 0.2319336\n",
       "[27,] 0.2314453 0.2216797 0.2270508\n",
       "[28,] 0.2265625 0.2250977 0.2236328\n",
       "[29,] 0.2202148 0.2275391 0.2270508"
      ]
     },
     "metadata": {},
     "output_type": "display_data"
    }
   ],
   "source": [
    "#Train on various vocab sizes and store the score in a dataframe\n",
    "\n",
    "scores <- matrix(data = 0, nrow = length(vocab.sizes), ncol = 3)\n",
    "vocabularies <- list(vocab.df.order.chi, vocab.df.order.MI, vocab.df.order.frequencies)\n",
    "\n",
    "for(i in 1:length(vocab.sizes)){\n",
    "    scores[i, 1] <- validate(vocab.sizes[i], vocab.df.order.chi)\n",
    "    scores[i, 2] <- validate(vocab.sizes[i], vocab.df.order.MI)\n",
    "    scores[i, 3] <- validate(vocab.sizes[i], vocab.df.order.frequencies)\n",
    "}"
   ]
  },
  {
   "cell_type": "code",
   "execution_count": 110,
   "metadata": {},
   "outputs": [],
   "source": [
    "colnames(scores) <- c(\"Chi\", \"MI\", \"Frequencies\")\n",
    "scores <- as.data.frame(scores)\n",
    "scores$\"Sizes\" <- vocab.sizes"
   ]
  },
  {
   "cell_type": "code",
   "execution_count": 113,
   "metadata": {},
   "outputs": [
    {
     "data": {
      "image/png": "[encoded data removed]",
      "text/plain": [
       "plot without title"
      ]
     },
     "metadata": {
      "image/png": {
       "height": 480,
       "width": 540
      }
     },
     "output_type": "display_data"
    }
   ],
   "source": [
    "#Plot theme\n",
    "options(repr.plot.width=9, repr.plot.height=8)\n",
    "\n",
    "theme <- theme(legend.text = element_text(size = 15), axis.title = element_text(size = 15), axis.text = element_text(size = 15), \n",
    "               plot.title = element_text(face = \"bold\", size = 16), legend.title = element_text(size=15))\n",
    "\n",
    "\n",
    "#Plot scores as a function of vocabulary size\n",
    "grafico.scores <- ggplot() + geom_line(aes(x = scores$'Sizes', y = scores$'Chi', color = \"Chi2\")) + \n",
    "                                geom_line(aes(x = scores$'Sizes', y = scores$'MI', color = \"MI\")) + \n",
    "                                    geom_line(aes(x = scores$'Sizes', y = scores$'Frequencies', color = \"Frequencies\"))\n",
    "\n",
    "#Add labels, title etc...\n",
    "grafico.scores  <- grafico.scores + theme + labs(x = \"Vocab. size\", y = \"Score\") + \n",
    "                        ggtitle(\"Vocabulary size vs. validation score\") +\n",
    "                             labs(color = \"Feature selection\")\n",
    "#Show\n",
    "grafico.scores"
   ]
  },
  {
   "cell_type": "code",
   "execution_count": 123,
   "metadata": {
    "scrolled": false,
    "vscode": {
     "languageId": "r"
    }
   },
   "outputs": [
    {
     "data": {
      "text/html": [
       "<table class=\"dataframe\">\n",
       "<caption>A data.frame: 1 × 2</caption>\n",
       "<thead>\n",
       "\t<tr><th></th><th scope=col>Sizes</th><th scope=col>Chi</th></tr>\n",
       "\t<tr><th></th><th scope=col>&lt;dbl&gt;</th><th scope=col>&lt;dbl&gt;</th></tr>\n",
       "</thead>\n",
       "<tbody>\n",
       "\t<tr><th scope=row>21</th><td>1000</td><td>0.2333984</td></tr>\n",
       "</tbody>\n",
       "</table>\n"
      ],
      "text/latex": [
       "A data.frame: 1 × 2\n",
       "\\begin{tabular}{r|ll}\n",
       "  & Sizes & Chi\\\\\n",
       "  & <dbl> & <dbl>\\\\\n",
       "\\hline\n",
       "\t21 & 1000 & 0.2333984\\\\\n",
       "\\end{tabular}\n"
      ],
      "text/markdown": [
       "\n",
       "A data.frame: 1 × 2\n",
       "\n",
       "| <!--/--> | Sizes &lt;dbl&gt; | Chi &lt;dbl&gt; |\n",
       "|---|---|---|\n",
       "| 21 | 1000 | 0.2333984 |\n",
       "\n"
      ],
      "text/plain": [
       "   Sizes Chi      \n",
       "21 1000  0.2333984"
      ]
     },
     "metadata": {},
     "output_type": "display_data"
    }
   ],
   "source": [
    "#Chi2\n",
    "scores[which.max(scores$\"Chi\"), c(\"Sizes\", \"Chi\")]"
   ]
  },
  {
   "cell_type": "code",
   "execution_count": 122,
   "metadata": {
    "scrolled": false
   },
   "outputs": [
    {
     "data": {
      "text/html": [
       "<table class=\"dataframe\">\n",
       "<caption>A data.frame: 1 × 2</caption>\n",
       "<thead>\n",
       "\t<tr><th></th><th scope=col>Sizes</th><th scope=col>MI</th></tr>\n",
       "\t<tr><th></th><th scope=col>&lt;dbl&gt;</th><th scope=col>&lt;dbl&gt;</th></tr>\n",
       "</thead>\n",
       "<tbody>\n",
       "\t<tr><th scope=row>19</th><td>631</td><td>0.2382812</td></tr>\n",
       "</tbody>\n",
       "</table>\n"
      ],
      "text/latex": [
       "A data.frame: 1 × 2\n",
       "\\begin{tabular}{r|ll}\n",
       "  & Sizes & MI\\\\\n",
       "  & <dbl> & <dbl>\\\\\n",
       "\\hline\n",
       "\t19 & 631 & 0.2382812\\\\\n",
       "\\end{tabular}\n"
      ],
      "text/markdown": [
       "\n",
       "A data.frame: 1 × 2\n",
       "\n",
       "| <!--/--> | Sizes &lt;dbl&gt; | MI &lt;dbl&gt; |\n",
       "|---|---|---|\n",
       "| 19 | 631 | 0.2382812 |\n",
       "\n"
      ],
      "text/plain": [
       "   Sizes MI       \n",
       "19 631   0.2382812"
      ]
     },
     "metadata": {},
     "output_type": "display_data"
    }
   ],
   "source": [
    "#MI\n",
    "scores[which.max(scores$\"MI\"), c(\"Sizes\", \"MI\")]"
   ]
  },
  {
   "cell_type": "code",
   "execution_count": 121,
   "metadata": {
    "scrolled": true
   },
   "outputs": [
    {
     "data": {
      "text/html": [
       "<table class=\"dataframe\">\n",
       "<caption>A data.frame: 1 × 2</caption>\n",
       "<thead>\n",
       "\t<tr><th></th><th scope=col>Sizes</th><th scope=col>Frequencies</th></tr>\n",
       "\t<tr><th></th><th scope=col>&lt;dbl&gt;</th><th scope=col>&lt;dbl&gt;</th></tr>\n",
       "</thead>\n",
       "<tbody>\n",
       "\t<tr><th scope=row>19</th><td>631</td><td>0.237793</td></tr>\n",
       "</tbody>\n",
       "</table>\n"
      ],
      "text/latex": [
       "A data.frame: 1 × 2\n",
       "\\begin{tabular}{r|ll}\n",
       "  & Sizes & Frequencies\\\\\n",
       "  & <dbl> & <dbl>\\\\\n",
       "\\hline\n",
       "\t19 & 631 & 0.237793\\\\\n",
       "\\end{tabular}\n"
      ],
      "text/markdown": [
       "\n",
       "A data.frame: 1 × 2\n",
       "\n",
       "| <!--/--> | Sizes &lt;dbl&gt; | Frequencies &lt;dbl&gt; |\n",
       "|---|---|---|\n",
       "| 19 | 631 | 0.237793 |\n",
       "\n"
      ],
      "text/plain": [
       "   Sizes Frequencies\n",
       "19 631   0.237793   "
      ]
     },
     "metadata": {},
     "output_type": "display_data"
    }
   ],
   "source": [
    "#Frequencies\n",
    "scores[which.max(scores$\"Frequencies\"), c(\"Sizes\", \"Frequencies\")]"
   ]
  },
  {
   "cell_type": "markdown",
   "metadata": {},
   "source": [
    "We get the best validation score using the Mutual Information and a vocabulary size of 631."
   ]
  },
  {
   "cell_type": "markdown",
   "metadata": {},
   "source": [
    "### Confusion matrix\n",
    "We want to plot the confusion matrices, just to check what it is doing."
   ]
  },
  {
   "cell_type": "code",
   "execution_count": 127,
   "metadata": {
    "vscode": {
     "languageId": "r"
    }
   },
   "outputs": [],
   "source": [
    "#Returns predicted labels on validation set\n",
    "fit <- function(size){\n",
    "        scores <- rep(0, length(vocab.sizes))\n",
    "    vocab.short <- vocab.df.order.MI[1:size, ]\n",
    "    \n",
    "    #Priors\n",
    "    p.c <- log(NCs / n.records)\n",
    "\n",
    "    #Posteriors\n",
    "    posteriors.df <- vocab.short\n",
    "\n",
    "    for(class in 0:(Nclasses-1)){\n",
    "        posteriors.df[, class + 2] <- log(posteriors.df[, class + 2] / sum(posteriors.df[, class + 2]))\n",
    "    } \n",
    "    \n",
    "    \n",
    "    #Make predictions\n",
    "    predictions <- rep(0, length(validation.df$Text))\n",
    "    for(i in 1:length(validation.df$Text)){\n",
    "        record <- validation.df$Text[i]\n",
    "        words <- str_split_1(plain(record), \" \") \n",
    "        posteriors <- rep(0, Nclasses) #Posterior probabilities (we want to find the maximum)\n",
    "        for(class in 0:(Nclasses - 1)){\n",
    "            #For each class evaluate posterior\n",
    "            posterior <- p.c[class + 1]\n",
    "            for(word in words){\n",
    "                #Check if word in vocabulary\n",
    "                if(word %in% posteriors.df$Token){\n",
    "                    posterior <- posterior + posteriors.df[which(posteriors.df$Token == word) , class + 2]\n",
    "                }\n",
    "            }\n",
    "            posteriors[class + 1] <- posterior\n",
    "        }\n",
    "\n",
    "        predictions[i] <- which.max(posteriors) - 1\n",
    "    }\n",
    "    \n",
    "    return(predictions)\n",
    "}"
   ]
  },
  {
   "cell_type": "code",
   "execution_count": 128,
   "metadata": {},
   "outputs": [],
   "source": [
    "best.size <- scores[which.max(scores$\"MI\"), ]$\"Sizes\"  \n",
    "fit.best <- fit(best.size)"
   ]
  },
  {
   "cell_type": "code",
   "execution_count": 130,
   "metadata": {},
   "outputs": [],
   "source": [
    "#Compute confusion matrix on validation set\n",
    "label.names <- c(\"Not Known\", \"False\", \"Barely True\", \"Half-True\", \"Mostly True\", \"True\")\n",
    "cm <- table(validation.df$Labels, fit.best)\n",
    "row.sums <- rowSums(cm)\n",
    "cm <- cm / row.sums\n",
    "cm <- as.data.frame(cm)"
   ]
  },
  {
   "cell_type": "code",
   "execution_count": 131,
   "metadata": {},
   "outputs": [
    {
     "data": {
      "image/png": "[encoded data removed]",
      "text/plain": [
       "plot without title"
      ]
     },
     "metadata": {
      "image/png": {
       "height": 480,
       "width": 540
      }
     },
     "output_type": "display_data"
    }
   ],
   "source": [
    "#Plot confusion matrix\n",
    "options(repr.plot.width=9, repr.plot.height=8)\n",
    "\n",
    "\n",
    "confusion.plot <- ggplot(cm, aes(x = fit.best, y = Var1, fill = Freq)) +\n",
    "      geom_tile() + scale_fill_distiller(palette = \"Greens\", direction = +1) + \n",
    "  labs(title = \"Confusion Matrix, Kulmar dataset\", x = \"Predicted\", y = \"Actual\", fill = NULL) + \n",
    "geom_text(aes(label = round(Freq, digits = 3)), color = \"black\", size = 6)\n",
    "\n",
    "confusion.plot +\n",
    "    theme(text = element_text(size=18),\n",
    "        axis.text.x = element_text(angle=90, hjust=1)) +\n",
    "          theme(axis.title.x = element_text(margin = margin(t = 10, r = 20, b = 0, l = 0)))+\n",
    "              theme(axis.title.y = element_text(margin = margin(t = 0, r = 20, b = 0, l = 0))) + \n",
    "                    scale_x_discrete(labels = label.names) + scale_y_discrete(labels = label.names)"
   ]
  }
 ],
 "metadata": {
  "kernelspec": {
   "display_name": "R",
   "language": "R",
   "name": "ir"
  },
  "language_info": {
   "codemirror_mode": "r",
   "file_extension": ".r",
   "mimetype": "text/x-r-source",
   "name": "R",
   "pygments_lexer": "r",
   "version": "4.1.2"
  }
 },
 "nbformat": 4,
 "nbformat_minor": 2
}
