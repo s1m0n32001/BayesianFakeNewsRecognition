{
 "cells": [
  {
   "cell_type": "markdown",
   "metadata": {},
   "source": [
    "# Fake news recognition using a Multinomial Naive Bayes Classifier\n",
    "\n",
    "## First part: Kulmar Dataset\n",
    "\n",
    "### Course: Advanced Statistics for Physics Analysis\n",
    "### Students: Feltrin Antonio (2097126),  Toso Simone (2095484)"
   ]
  },
  {
   "cell_type": "code",
   "execution_count": 2,
   "metadata": {
    "vscode": {
     "languageId": "r"
    }
   },
   "outputs": [],
   "source": [
    "library(tidyverse)\n",
    "library(stringr)\n",
    "library(tm)             #Text-mining package\n",
    "library(NLP) \n",
    "library(textstem)       #For lemmatization"
   ]
  },
  {
   "cell_type": "markdown",
   "metadata": {},
   "source": [
    "The dataset consists of \n",
    "\n",
    "\n",
    "In this notebook we apply the same procedure used on the first dataset. This new dataset presents longer documents which are classified as either \n",
    " - Reliable {0}\n",
    " - Unreliable {1}\n",
    " \n",
    "Each document is the title + text of an article.\n",
    "\n"
   ]
  },
  {
   "cell_type": "markdown",
   "metadata": {},
   "source": [
    "## Read the data"
   ]
  },
  {
   "cell_type": "code",
   "execution_count": 3,
   "metadata": {
    "vscode": {
     "languageId": "r"
    }
   },
   "outputs": [],
   "source": [
    "dir_input <- 'data/trump/train.csv'\n",
    "dir_test <- 'data/trump/test.csv'\n",
    "input.df <- read.csv(dir_input,header=TRUE,sep=',')\n",
    "test.df <- read.csv(dir_test,header=TRUE,sep=',')"
   ]
  },
  {
   "cell_type": "code",
   "execution_count": 4,
   "metadata": {},
   "outputs": [
    {
     "data": {
      "text/html": [
       "<table class=\"dataframe\">\n",
       "<caption>A data.frame: 1 × 5</caption>\n",
       "<thead>\n",
       "\t<tr><th></th><th scope=col>id</th><th scope=col>title</th><th scope=col>author</th><th scope=col>text</th><th scope=col>label</th></tr>\n",
       "\t<tr><th></th><th scope=col>&lt;int&gt;</th><th scope=col>&lt;chr&gt;</th><th scope=col>&lt;chr&gt;</th><th scope=col>&lt;chr&gt;</th><th scope=col>&lt;int&gt;</th></tr>\n",
       "</thead>\n",
       "<tbody>\n",
       "\t<tr><th scope=row>1</th><td>0</td><td>House Dem Aide: We Didn’t Even See Comey’s Letter Until Jason Chaffetz Tweeted It</td><td>Darrell Lucus</td><td>House Dem Aide: We Didn’t Even See Comey’s Letter Until Jason Chaffetz Tweeted It By Darrell Lucus on October 30, 2016 Subscribe Jason Chaffetz on the stump in American Fork, Utah ( image courtesy Michael Jolley, available under a Creative Commons-BY license) \n",
       "With apologies to Keith Olbermann, there is no doubt who the Worst Person in The World is this week–FBI Director James Comey. But according to a House Democratic aide, it looks like we also know who the second-worst person is as well. It turns out that when Comey sent his now-infamous letter announcing that the FBI was looking into emails that may be related to Hillary Clinton’s email server, the ranking Democrats on the relevant committees didn’t hear about it from Comey. They found out via a tweet from one of the Republican committee chairmen. \n",
       "As we now know, Comey notified the Republican chairmen and Democratic ranking members of the House Intelligence, Judiciary, and Oversight committees that his agency was reviewing emails it had recently discovered in order to see if they contained classified information. Not long after this letter went out, Oversight Committee Chairman Jason Chaffetz set the political world ablaze with this tweet. FBI Dir just informed me, \"The FBI has learned of the existence of emails that appear to be pertinent to the investigation.\" Case reopened \n",
       "— Jason Chaffetz (@jasoninthehouse) October 28, 2016 \n",
       "Of course, we now know that this was not the case . Comey was actually saying that it was reviewing the emails in light of “an unrelated case”–which we now know to be Anthony Weiner’s sexting with a teenager. But apparently such little things as facts didn’t matter to Chaffetz. The Utah Republican had already vowed to initiate a raft of investigations if Hillary wins–at least two years’ worth, and possibly an entire term’s worth of them. Apparently Chaffetz thought the FBI was already doing his work for him–resulting in a tweet that briefly roiled the nation before cooler heads realized it was a dud. \n",
       "But according to a senior House Democratic aide, misreading that letter may have been the least of Chaffetz’ sins. That aide told Shareblue that his boss and other Democrats didn’t even know about Comey’s letter at the time–and only found out when they checked Twitter. “Democratic Ranking Members on the relevant committees didn’t receive Comey’s letter until after the Republican Chairmen. In fact, the Democratic Ranking Members didn’ receive it until after the Chairman of the Oversight and Government Reform Committee, Jason Chaffetz, tweeted it out and made it public.” \n",
       "So let’s see if we’ve got this right. The FBI director tells Chaffetz and other GOP committee chairmen about a major development in a potentially politically explosive investigation, and neither Chaffetz nor his other colleagues had the courtesy to let their Democratic counterparts know about it. Instead, according to this aide, he made them find out about it on Twitter. \n",
       "There has already been talk on Daily Kos that Comey himself provided advance notice of this letter to Chaffetz and other Republicans, giving them time to turn on the spin machine. That may make for good theater, but there is nothing so far that even suggests this is the case. After all, there is nothing so far that suggests that Comey was anything other than grossly incompetent and tone-deaf. \n",
       "What it does suggest, however, is that Chaffetz is acting in a way that makes Dan Burton and Darrell Issa look like models of responsibility and bipartisanship. He didn’t even have the decency to notify ranking member Elijah Cummings about something this explosive. If that doesn’t trample on basic standards of fairness, I don’t know what does. \n",
       "Granted, it’s not likely that Chaffetz will have to answer for this. He sits in a ridiculously Republican district anchored in Provo and Orem; it has a Cook Partisan Voting Index of R+25, and gave Mitt Romney a punishing 78 percent of the vote in 2012. Moreover, the Republican House leadership has given its full support to Chaffetz’ planned fishing expedition. But that doesn’t mean we can’t turn the hot lights on him. After all, he is a textbook example of what the House has become under Republican control. And he is also the Second Worst Person in the World. About Darrell Lucus \n",
       "Darrell is a 30-something graduate of the University of North Carolina who considers himself a journalist of the old school. An attempt to turn him into a member of the religious right in college only succeeded in turning him into the religious right's worst nightmare--a charismatic Christian who is an unapologetic liberal. His desire to stand up for those who have been scared into silence only increased when he survived an abusive three-year marriage. You may know him on Daily Kos as Christian Dem in NC . Follow him on Twitter @DarrellLucus or connect with him on Facebook . Click here to buy Darrell a Mello Yello. Connect</td><td>1</td></tr>\n",
       "</tbody>\n",
       "</table>\n"
      ],
      "text/latex": [
       "A data.frame: 1 × 5\n",
       "\\begin{tabular}{r|lllll}\n",
       "  & id & title & author & text & label\\\\\n",
       "  & <int> & <chr> & <chr> & <chr> & <int>\\\\\n",
       "\\hline\n",
       "\t1 & 0 & House Dem Aide: We Didn’t Even See Comey’s Letter Until Jason Chaffetz Tweeted It & Darrell Lucus & House Dem Aide: We Didn’t Even See Comey’s Letter Until Jason Chaffetz Tweeted It By Darrell Lucus on October 30, 2016 Subscribe Jason Chaffetz on the stump in American Fork, Utah ( image courtesy Michael Jolley, available under a Creative Commons-BY license) \n",
       "With apologies to Keith Olbermann, there is no doubt who the Worst Person in The World is this week–FBI Director James Comey. But according to a House Democratic aide, it looks like we also know who the second-worst person is as well. It turns out that when Comey sent his now-infamous letter announcing that the FBI was looking into emails that may be related to Hillary Clinton’s email server, the ranking Democrats on the relevant committees didn’t hear about it from Comey. They found out via a tweet from one of the Republican committee chairmen. \n",
       "As we now know, Comey notified the Republican chairmen and Democratic ranking members of the House Intelligence, Judiciary, and Oversight committees that his agency was reviewing emails it had recently discovered in order to see if they contained classified information. Not long after this letter went out, Oversight Committee Chairman Jason Chaffetz set the political world ablaze with this tweet. FBI Dir just informed me, \"The FBI has learned of the existence of emails that appear to be pertinent to the investigation.\" Case reopened \n",
       "— Jason Chaffetz (@jasoninthehouse) October 28, 2016 \n",
       "Of course, we now know that this was not the case . Comey was actually saying that it was reviewing the emails in light of “an unrelated case”–which we now know to be Anthony Weiner’s sexting with a teenager. But apparently such little things as facts didn’t matter to Chaffetz. The Utah Republican had already vowed to initiate a raft of investigations if Hillary wins–at least two years’ worth, and possibly an entire term’s worth of them. Apparently Chaffetz thought the FBI was already doing his work for him–resulting in a tweet that briefly roiled the nation before cooler heads realized it was a dud. \n",
       "But according to a senior House Democratic aide, misreading that letter may have been the least of Chaffetz’ sins. That aide told Shareblue that his boss and other Democrats didn’t even know about Comey’s letter at the time–and only found out when they checked Twitter. “Democratic Ranking Members on the relevant committees didn’t receive Comey’s letter until after the Republican Chairmen. In fact, the Democratic Ranking Members didn’ receive it until after the Chairman of the Oversight and Government Reform Committee, Jason Chaffetz, tweeted it out and made it public.” \n",
       "So let’s see if we’ve got this right. The FBI director tells Chaffetz and other GOP committee chairmen about a major development in a potentially politically explosive investigation, and neither Chaffetz nor his other colleagues had the courtesy to let their Democratic counterparts know about it. Instead, according to this aide, he made them find out about it on Twitter. \n",
       "There has already been talk on Daily Kos that Comey himself provided advance notice of this letter to Chaffetz and other Republicans, giving them time to turn on the spin machine. That may make for good theater, but there is nothing so far that even suggests this is the case. After all, there is nothing so far that suggests that Comey was anything other than grossly incompetent and tone-deaf. \n",
       "What it does suggest, however, is that Chaffetz is acting in a way that makes Dan Burton and Darrell Issa look like models of responsibility and bipartisanship. He didn’t even have the decency to notify ranking member Elijah Cummings about something this explosive. If that doesn’t trample on basic standards of fairness, I don’t know what does. \n",
       "Granted, it’s not likely that Chaffetz will have to answer for this. He sits in a ridiculously Republican district anchored in Provo and Orem; it has a Cook Partisan Voting Index of R+25, and gave Mitt Romney a punishing 78 percent of the vote in 2012. Moreover, the Republican House leadership has given its full support to Chaffetz’ planned fishing expedition. But that doesn’t mean we can’t turn the hot lights on him. After all, he is a textbook example of what the House has become under Republican control. And he is also the Second Worst Person in the World. About Darrell Lucus \n",
       "Darrell is a 30-something graduate of the University of North Carolina who considers himself a journalist of the old school. An attempt to turn him into a member of the religious right in college only succeeded in turning him into the religious right's worst nightmare--a charismatic Christian who is an unapologetic liberal. His desire to stand up for those who have been scared into silence only increased when he survived an abusive three-year marriage. You may know him on Daily Kos as Christian Dem in NC . Follow him on Twitter @DarrellLucus or connect with him on Facebook . Click here to buy Darrell a Mello Yello. Connect & 1\\\\\n",
       "\\end{tabular}\n"
      ],
      "text/markdown": [
       "\n",
       "A data.frame: 1 × 5\n",
       "\n",
       "| <!--/--> | id &lt;int&gt; | title &lt;chr&gt; | author &lt;chr&gt; | text &lt;chr&gt; | label &lt;int&gt; |\n",
       "|---|---|---|---|---|---|\n",
       "| 1 | 0 | House Dem Aide: We Didn’t Even See Comey’s Letter Until Jason Chaffetz Tweeted It | Darrell Lucus | House Dem Aide: We Didn’t Even See Comey’s Letter Until Jason Chaffetz Tweeted It By Darrell Lucus on October 30, 2016 Subscribe Jason Chaffetz on the stump in American Fork, Utah ( image courtesy Michael Jolley, available under a Creative Commons-BY license) \n",
       "With apologies to Keith Olbermann, there is no doubt who the Worst Person in The World is this week–FBI Director James Comey. But according to a House Democratic aide, it looks like we also know who the second-worst person is as well. It turns out that when Comey sent his now-infamous letter announcing that the FBI was looking into emails that may be related to Hillary Clinton’s email server, the ranking Democrats on the relevant committees didn’t hear about it from Comey. They found out via a tweet from one of the Republican committee chairmen. \n",
       "As we now know, Comey notified the Republican chairmen and Democratic ranking members of the House Intelligence, Judiciary, and Oversight committees that his agency was reviewing emails it had recently discovered in order to see if they contained classified information. Not long after this letter went out, Oversight Committee Chairman Jason Chaffetz set the political world ablaze with this tweet. FBI Dir just informed me, \"The FBI has learned of the existence of emails that appear to be pertinent to the investigation.\" Case reopened \n",
       "— Jason Chaffetz (@jasoninthehouse) October 28, 2016 \n",
       "Of course, we now know that this was not the case . Comey was actually saying that it was reviewing the emails in light of “an unrelated case”–which we now know to be Anthony Weiner’s sexting with a teenager. But apparently such little things as facts didn’t matter to Chaffetz. The Utah Republican had already vowed to initiate a raft of investigations if Hillary wins–at least two years’ worth, and possibly an entire term’s worth of them. Apparently Chaffetz thought the FBI was already doing his work for him–resulting in a tweet that briefly roiled the nation before cooler heads realized it was a dud. \n",
       "But according to a senior House Democratic aide, misreading that letter may have been the least of Chaffetz’ sins. That aide told Shareblue that his boss and other Democrats didn’t even know about Comey’s letter at the time–and only found out when they checked Twitter. “Democratic Ranking Members on the relevant committees didn’t receive Comey’s letter until after the Republican Chairmen. In fact, the Democratic Ranking Members didn’ receive it until after the Chairman of the Oversight and Government Reform Committee, Jason Chaffetz, tweeted it out and made it public.” \n",
       "So let’s see if we’ve got this right. The FBI director tells Chaffetz and other GOP committee chairmen about a major development in a potentially politically explosive investigation, and neither Chaffetz nor his other colleagues had the courtesy to let their Democratic counterparts know about it. Instead, according to this aide, he made them find out about it on Twitter. \n",
       "There has already been talk on Daily Kos that Comey himself provided advance notice of this letter to Chaffetz and other Republicans, giving them time to turn on the spin machine. That may make for good theater, but there is nothing so far that even suggests this is the case. After all, there is nothing so far that suggests that Comey was anything other than grossly incompetent and tone-deaf. \n",
       "What it does suggest, however, is that Chaffetz is acting in a way that makes Dan Burton and Darrell Issa look like models of responsibility and bipartisanship. He didn’t even have the decency to notify ranking member Elijah Cummings about something this explosive. If that doesn’t trample on basic standards of fairness, I don’t know what does. \n",
       "Granted, it’s not likely that Chaffetz will have to answer for this. He sits in a ridiculously Republican district anchored in Provo and Orem; it has a Cook Partisan Voting Index of R+25, and gave Mitt Romney a punishing 78 percent of the vote in 2012. Moreover, the Republican House leadership has given its full support to Chaffetz’ planned fishing expedition. But that doesn’t mean we can’t turn the hot lights on him. After all, he is a textbook example of what the House has become under Republican control. And he is also the Second Worst Person in the World. About Darrell Lucus \n",
       "Darrell is a 30-something graduate of the University of North Carolina who considers himself a journalist of the old school. An attempt to turn him into a member of the religious right in college only succeeded in turning him into the religious right's worst nightmare--a charismatic Christian who is an unapologetic liberal. His desire to stand up for those who have been scared into silence only increased when he survived an abusive three-year marriage. You may know him on Daily Kos as Christian Dem in NC . Follow him on Twitter @DarrellLucus or connect with him on Facebook . Click here to buy Darrell a Mello Yello. Connect | 1 |\n",
       "\n"
      ],
      "text/plain": [
       "  id\n",
       "1 0 \n",
       "  title                                                                            \n",
       "1 House Dem Aide: We Didn’t Even See Comey’s Letter Until Jason Chaffetz Tweeted It\n",
       "  author       \n",
       "1 Darrell Lucus\n",
       "  text                                                                                                                                                                                                                                                                                                                                                                                                                                                                                                                                                                                                                                                                                                                                                                                                                                                                                                                                                                                                                                                                                                                                                                                                                                                                                                                                                                                                                                                                                                                                                                                                                                                                                                                                                                                                                                                                                                                                                                                                                                                                                                                                                                                                                                                                                                                                                                                                                                                                                                                                                                                                                                                                                                                                                                                                                                                                                                                                                                                                                                                                                                                                                                                                                                                                                                                                                                                                                                                                                                                                                                                                                                                                                                                                                                                                                                                                                                                                                                                                                                                                                                                                                                                                                                                                                                                                                                                                                                                                                                                                                                                                                                                                                                                                                                                                                                                                                                                                                                                                                                                                                                                                        \n",
       "1 House Dem Aide: We Didn’t Even See Comey’s Letter Until Jason Chaffetz Tweeted It By Darrell Lucus on October 30, 2016 Subscribe Jason Chaffetz on the stump in American Fork, Utah ( image courtesy Michael Jolley, available under a Creative Commons-BY license) \\nWith apologies to Keith Olbermann, there is no doubt who the Worst Person in The World is this week–FBI Director James Comey. But according to a House Democratic aide, it looks like we also know who the second-worst person is as well. It turns out that when Comey sent his now-infamous letter announcing that the FBI was looking into emails that may be related to Hillary Clinton’s email server, the ranking Democrats on the relevant committees didn’t hear about it from Comey. They found out via a tweet from one of the Republican committee chairmen. \\nAs we now know, Comey notified the Republican chairmen and Democratic ranking members of the House Intelligence, Judiciary, and Oversight committees that his agency was reviewing emails it had recently discovered in order to see if they contained classified information. Not long after this letter went out, Oversight Committee Chairman Jason Chaffetz set the political world ablaze with this tweet. FBI Dir just informed me, \"The FBI has learned of the existence of emails that appear to be pertinent to the investigation.\" Case reopened \\n— Jason Chaffetz (@jasoninthehouse) October 28, 2016 \\nOf course, we now know that this was not the case . Comey was actually saying that it was reviewing the emails in light of “an unrelated case”–which we now know to be Anthony Weiner’s sexting with a teenager. But apparently such little things as facts didn’t matter to Chaffetz. The Utah Republican had already vowed to initiate a raft of investigations if Hillary wins–at least two years’ worth, and possibly an entire term’s worth of them. Apparently Chaffetz thought the FBI was already doing his work for him–resulting in a tweet that briefly roiled the nation before cooler heads realized it was a dud. \\nBut according to a senior House Democratic aide, misreading that letter may have been the least of Chaffetz’ sins. That aide told Shareblue that his boss and other Democrats didn’t even know about Comey’s letter at the time–and only found out when they checked Twitter. “Democratic Ranking Members on the relevant committees didn’t receive Comey’s letter until after the Republican Chairmen. In fact, the Democratic Ranking Members didn’ receive it until after the Chairman of the Oversight and Government Reform Committee, Jason Chaffetz, tweeted it out and made it public.” \\nSo let’s see if we’ve got this right. The FBI director tells Chaffetz and other GOP committee chairmen about a major development in a potentially politically explosive investigation, and neither Chaffetz nor his other colleagues had the courtesy to let their Democratic counterparts know about it. Instead, according to this aide, he made them find out about it on Twitter. \\nThere has already been talk on Daily Kos that Comey himself provided advance notice of this letter to Chaffetz and other Republicans, giving them time to turn on the spin machine. That may make for good theater, but there is nothing so far that even suggests this is the case. After all, there is nothing so far that suggests that Comey was anything other than grossly incompetent and tone-deaf. \\nWhat it does suggest, however, is that Chaffetz is acting in a way that makes Dan Burton and Darrell Issa look like models of responsibility and bipartisanship. He didn’t even have the decency to notify ranking member Elijah Cummings about something this explosive. If that doesn’t trample on basic standards of fairness, I don’t know what does. \\nGranted, it’s not likely that Chaffetz will have to answer for this. He sits in a ridiculously Republican district anchored in Provo and Orem; it has a Cook Partisan Voting Index of R+25, and gave Mitt Romney a punishing 78 percent of the vote in 2012. Moreover, the Republican House leadership has given its full support to Chaffetz’ planned fishing expedition. But that doesn’t mean we can’t turn the hot lights on him. After all, he is a textbook example of what the House has become under Republican control. And he is also the Second Worst Person in the World. About Darrell Lucus \\nDarrell is a 30-something graduate of the University of North Carolina who considers himself a journalist of the old school. An attempt to turn him into a member of the religious right in college only succeeded in turning him into the religious right's worst nightmare--a charismatic Christian who is an unapologetic liberal. His desire to stand up for those who have been scared into silence only increased when he survived an abusive three-year marriage. You may know him on Daily Kos as Christian Dem in NC . Follow him on Twitter @DarrellLucus or connect with him on Facebook . Click here to buy Darrell a Mello Yello. Connect\n",
       "  label\n",
       "1 1    "
      ]
     },
     "metadata": {},
     "output_type": "display_data"
    }
   ],
   "source": [
    "head(input.df,1)"
   ]
  },
  {
   "cell_type": "markdown",
   "metadata": {},
   "source": [
    "We remove the Text column and change the column names so that they are coherent with what we had done in the previous dataset."
   ]
  },
  {
   "cell_type": "code",
   "execution_count": 5,
   "metadata": {
    "scrolled": true
   },
   "outputs": [
    {
     "data": {
      "text/html": [
       "<table class=\"dataframe\">\n",
       "<caption>A data.frame: 3 × 4</caption>\n",
       "<thead>\n",
       "\t<tr><th></th><th scope=col>id</th><th scope=col>title</th><th scope=col>author</th><th scope=col>label</th></tr>\n",
       "\t<tr><th></th><th scope=col>&lt;int&gt;</th><th scope=col>&lt;chr&gt;</th><th scope=col>&lt;chr&gt;</th><th scope=col>&lt;int&gt;</th></tr>\n",
       "</thead>\n",
       "<tbody>\n",
       "\t<tr><th scope=row>1</th><td>0</td><td>House Dem Aide: We Didn’t Even See Comey’s Letter Until Jason Chaffetz Tweeted It</td><td>Darrell Lucus     </td><td>1</td></tr>\n",
       "\t<tr><th scope=row>2</th><td>1</td><td>FLYNN: Hillary Clinton, Big Woman on Campus - Breitbart                          </td><td>Daniel J. Flynn   </td><td>0</td></tr>\n",
       "\t<tr><th scope=row>3</th><td>2</td><td>Why the Truth Might Get You Fired                                                </td><td>Consortiumnews.com</td><td>1</td></tr>\n",
       "</tbody>\n",
       "</table>\n"
      ],
      "text/latex": [
       "A data.frame: 3 × 4\n",
       "\\begin{tabular}{r|llll}\n",
       "  & id & title & author & label\\\\\n",
       "  & <int> & <chr> & <chr> & <int>\\\\\n",
       "\\hline\n",
       "\t1 & 0 & House Dem Aide: We Didn’t Even See Comey’s Letter Until Jason Chaffetz Tweeted It & Darrell Lucus      & 1\\\\\n",
       "\t2 & 1 & FLYNN: Hillary Clinton, Big Woman on Campus - Breitbart                           & Daniel J. Flynn    & 0\\\\\n",
       "\t3 & 2 & Why the Truth Might Get You Fired                                                 & Consortiumnews.com & 1\\\\\n",
       "\\end{tabular}\n"
      ],
      "text/markdown": [
       "\n",
       "A data.frame: 3 × 4\n",
       "\n",
       "| <!--/--> | id &lt;int&gt; | title &lt;chr&gt; | author &lt;chr&gt; | label &lt;int&gt; |\n",
       "|---|---|---|---|---|\n",
       "| 1 | 0 | House Dem Aide: We Didn’t Even See Comey’s Letter Until Jason Chaffetz Tweeted It | Darrell Lucus      | 1 |\n",
       "| 2 | 1 | FLYNN: Hillary Clinton, Big Woman on Campus - Breitbart                           | Daniel J. Flynn    | 0 |\n",
       "| 3 | 2 | Why the Truth Might Get You Fired                                                 | Consortiumnews.com | 1 |\n",
       "\n"
      ],
      "text/plain": [
       "  id\n",
       "1 0 \n",
       "2 1 \n",
       "3 2 \n",
       "  title                                                                            \n",
       "1 House Dem Aide: We Didn’t Even See Comey’s Letter Until Jason Chaffetz Tweeted It\n",
       "2 FLYNN: Hillary Clinton, Big Woman on Campus - Breitbart                          \n",
       "3 Why the Truth Might Get You Fired                                                \n",
       "  author             label\n",
       "1 Darrell Lucus      1    \n",
       "2 Daniel J. Flynn    0    \n",
       "3 Consortiumnews.com 1    "
      ]
     },
     "metadata": {},
     "output_type": "display_data"
    }
   ],
   "source": [
    "notext <- input.df[, c(1,2,3,5)]\n",
    "head(notext, 3)"
   ]
  },
  {
   "cell_type": "markdown",
   "metadata": {},
   "source": [
    "## Preprocessing"
   ]
  },
  {
   "cell_type": "code",
   "execution_count": 6,
   "metadata": {
    "vscode": {
     "languageId": "r"
    }
   },
   "outputs": [],
   "source": [
    "#Removes punctuation, uppercase to lowercase\n",
    "plain <- function(word,punct='[:punct:]'){\n",
    "    word <- str_to_lower(str_replace_all(word,punct,' '))  \n",
    "    return(word) \n",
    "}\n",
    "\n",
    "#Removes stopwords\n",
    "remove_sw <- function(data) {\n",
    "    data = data %>% str_split(' ')\n",
    "    data = data[!(data %in% stopwords('en')) & str_length(data)>1]\n",
    "    data = str_flatten(data, collapse = ' ')\n",
    "    return(data)\n",
    "}\n",
    "\n",
    "#Removes all stopwords, punctuation etc. from the records\n",
    "get.quotes <- function (quotes.bag,sep) {\n",
    "    all.quotes <- list()\n",
    "    for (record in quotes.bag){\n",
    "        temp.q <- str_split_1(plain(record),sep)\n",
    "        temp.q <- remove_sw(temp.q) #str_flatten(temp.q[!(temp.q %in% stopwords('en')) & str_length(temp.q)>1], collapse = ' ')  \n",
    "        all.quotes <- c(all.quotes,temp.q)\n",
    "        }\n",
    "    return(all.quotes)\n",
    "}"
   ]
  },
  {
   "cell_type": "code",
   "execution_count": 7,
   "metadata": {
    "vscode": {
     "languageId": "r"
    }
   },
   "outputs": [],
   "source": [
    "quotes <- get.quotes(input.df$title,sep=' ')\n",
    "\n",
    "train.df <- data.frame(Labels = input.df$label, Text = unlist(quotes))"
   ]
  },
  {
   "cell_type": "markdown",
   "metadata": {},
   "source": [
    "#### Lemmatization"
   ]
  },
  {
   "cell_type": "code",
   "execution_count": 8,
   "metadata": {
    "vscode": {
     "languageId": "r"
    }
   },
   "outputs": [],
   "source": [
    "#Perform lemmatization\n",
    "train.df$Text <- lemmatize_strings(train.df$Text)"
   ]
  },
  {
   "cell_type": "code",
   "execution_count": 9,
   "metadata": {
    "scrolled": true,
    "vscode": {
     "languageId": "r"
    }
   },
   "outputs": [
    {
     "data": {
      "text/html": [
       "<table class=\"dataframe\">\n",
       "<caption>A data.frame: 6 × 2</caption>\n",
       "<thead>\n",
       "\t<tr><th></th><th scope=col>Labels</th><th scope=col>Text</th></tr>\n",
       "\t<tr><th></th><th scope=col>&lt;int&gt;</th><th scope=col>&lt;chr&gt;</th></tr>\n",
       "</thead>\n",
       "<tbody>\n",
       "\t<tr><th scope=row>1</th><td>1</td><td>house dem aide didn even see comey letter jason chaffetz tweet                                  </td></tr>\n",
       "\t<tr><th scope=row>2</th><td>0</td><td>flynn hillary clinton big woman campus breitbart                                                </td></tr>\n",
       "\t<tr><th scope=row>3</th><td>1</td><td>truth may get fire                                                                              </td></tr>\n",
       "\t<tr><th scope=row>4</th><td>1</td><td>15 civilian kill single us airstrike identify                                                   </td></tr>\n",
       "\t<tr><th scope=row>5</th><td>1</td><td>iranian woman jail fictional unpublished story woman stone death adultery                       </td></tr>\n",
       "\t<tr><th scope=row>6</th><td>0</td><td>jackie mason hollywood love trump bomb north korea lack trans bathroom exclusive video breitbart</td></tr>\n",
       "</tbody>\n",
       "</table>\n"
      ],
      "text/latex": [
       "A data.frame: 6 × 2\n",
       "\\begin{tabular}{r|ll}\n",
       "  & Labels & Text\\\\\n",
       "  & <int> & <chr>\\\\\n",
       "\\hline\n",
       "\t1 & 1 & house dem aide didn even see comey letter jason chaffetz tweet                                  \\\\\n",
       "\t2 & 0 & flynn hillary clinton big woman campus breitbart                                                \\\\\n",
       "\t3 & 1 & truth may get fire                                                                              \\\\\n",
       "\t4 & 1 & 15 civilian kill single us airstrike identify                                                   \\\\\n",
       "\t5 & 1 & iranian woman jail fictional unpublished story woman stone death adultery                       \\\\\n",
       "\t6 & 0 & jackie mason hollywood love trump bomb north korea lack trans bathroom exclusive video breitbart\\\\\n",
       "\\end{tabular}\n"
      ],
      "text/markdown": [
       "\n",
       "A data.frame: 6 × 2\n",
       "\n",
       "| <!--/--> | Labels &lt;int&gt; | Text &lt;chr&gt; |\n",
       "|---|---|---|\n",
       "| 1 | 1 | house dem aide didn even see comey letter jason chaffetz tweet                                   |\n",
       "| 2 | 0 | flynn hillary clinton big woman campus breitbart                                                 |\n",
       "| 3 | 1 | truth may get fire                                                                               |\n",
       "| 4 | 1 | 15 civilian kill single us airstrike identify                                                    |\n",
       "| 5 | 1 | iranian woman jail fictional unpublished story woman stone death adultery                        |\n",
       "| 6 | 0 | jackie mason hollywood love trump bomb north korea lack trans bathroom exclusive video breitbart |\n",
       "\n"
      ],
      "text/plain": [
       "  Labels\n",
       "1 1     \n",
       "2 0     \n",
       "3 1     \n",
       "4 1     \n",
       "5 1     \n",
       "6 0     \n",
       "  Text                                                                                            \n",
       "1 house dem aide didn even see comey letter jason chaffetz tweet                                  \n",
       "2 flynn hillary clinton big woman campus breitbart                                                \n",
       "3 truth may get fire                                                                              \n",
       "4 15 civilian kill single us airstrike identify                                                   \n",
       "5 iranian woman jail fictional unpublished story woman stone death adultery                       \n",
       "6 jackie mason hollywood love trump bomb north korea lack trans bathroom exclusive video breitbart"
      ]
     },
     "metadata": {},
     "output_type": "display_data"
    }
   ],
   "source": [
    "head(train.df)"
   ]
  },
  {
   "cell_type": "markdown",
   "metadata": {},
   "source": [
    "#### Token normalization: \n",
    "We now perform *token normalization*: we want words with similar meaning to be considered as identical. \n",
    "\n",
    "For example, it wouldn't make much sense for the model to treat \"<span>&#36;</span>15\" and \"<span>&#36;</span>81\" as two different tokens. Instead, we would like to count them as a unique \"&lt;MONEY&gt;\" token. \n",
    "\n",
    "Similarly, the tokens \"1931\", \"1982\" and \"2011\" should all fall into \"&lt;YEAR&gt;\"."
   ]
  },
  {
   "cell_type": "code",
   "execution_count": 10,
   "metadata": {
    "vscode": {
     "languageId": "r"
    }
   },
   "outputs": [],
   "source": [
    "# $1234 --> <MONEY>\n",
    "train.df$Text <- str_replace_all(train.df$Text, regex(\"\\\\$[0-9]*\"), \"<MONEY>\")"
   ]
  },
  {
   "cell_type": "code",
   "execution_count": 11,
   "metadata": {
    "vscode": {
     "languageId": "r"
    }
   },
   "outputs": [],
   "source": [
    "# 1945, 2013, 2042 --> <YEAR>\n",
    "train.df$Text <- str_replace_all(train.df$Text, regex(\"(18|19|20)\\\\d{2}\"), \"<YEAR>\")"
   ]
  },
  {
   "cell_type": "code",
   "execution_count": 12,
   "metadata": {
    "vscode": {
     "languageId": "r"
    }
   },
   "outputs": [],
   "source": [
    "# 12345... --> <NUMBER>\n",
    "train.df$Text <- str_replace_all(train.df$Text, regex(\"\\\\d+\"), \"<NUMBER>\")"
   ]
  },
  {
   "cell_type": "code",
   "execution_count": 13,
   "metadata": {
    "scrolled": true,
    "vscode": {
     "languageId": "r"
    }
   },
   "outputs": [
    {
     "data": {
      "text/html": [
       "<table class=\"dataframe\">\n",
       "<caption>A data.frame: 15 × 2</caption>\n",
       "<thead>\n",
       "\t<tr><th></th><th scope=col>Labels</th><th scope=col>Text</th></tr>\n",
       "\t<tr><th></th><th scope=col>&lt;int&gt;</th><th scope=col>&lt;chr&gt;</th></tr>\n",
       "</thead>\n",
       "<tbody>\n",
       "\t<tr><th scope=row>1</th><td>1</td><td>house dem aide didn even see comey letter jason chaffetz tweet                                  </td></tr>\n",
       "\t<tr><th scope=row>2</th><td>0</td><td>flynn hillary clinton big woman campus breitbart                                                </td></tr>\n",
       "\t<tr><th scope=row>3</th><td>1</td><td>truth may get fire                                                                              </td></tr>\n",
       "\t<tr><th scope=row>4</th><td>1</td><td><span style=white-space:pre-wrap>&lt;NUMBER&gt; civilian kill single us airstrike identify                                             </span></td></tr>\n",
       "\t<tr><th scope=row>5</th><td>1</td><td>iranian woman jail fictional unpublished story woman stone death adultery                       </td></tr>\n",
       "\t<tr><th scope=row>6</th><td>0</td><td>jackie mason hollywood love trump bomb north korea lack trans bathroom exclusive video breitbart</td></tr>\n",
       "\t<tr><th scope=row>7</th><td>1</td><td>life life luxury elton john favorite shark picture stare long transcontinental flight           </td></tr>\n",
       "\t<tr><th scope=row>8</th><td>0</td><td>benoît hamon win french socialist party presidential nomination new york time                   </td></tr>\n",
       "\t<tr><th scope=row>9</th><td>0</td><td>excerpt draft script donald trump ampa black church pastor new york time                        </td></tr>\n",
       "\t<tr><th scope=row>10</th><td>0</td><td>back channel plan ukraine russia courtesy trump associate new york time                         </td></tr>\n",
       "\t<tr><th scope=row>11</th><td>0</td><td>obama organize action partner soros link indivisible disrupt trump agendum                      </td></tr>\n",
       "\t<tr><th scope=row>12</th><td>0</td><td>bbc comedy sketch real housewife isis cause outrage                                             </td></tr>\n",
       "\t<tr><th scope=row>13</th><td>1</td><td>russian researcher discover secret nazi military base treasure hunter arctic photo              </td></tr>\n",
       "\t<tr><th scope=row>14</th><td>1</td><td>us official see link trump russia                                                               </td></tr>\n",
       "\t<tr><th scope=row>15</th><td>1</td><td>re yes pay government troll social medium blogs forum website                                   </td></tr>\n",
       "</tbody>\n",
       "</table>\n"
      ],
      "text/latex": [
       "A data.frame: 15 × 2\n",
       "\\begin{tabular}{r|ll}\n",
       "  & Labels & Text\\\\\n",
       "  & <int> & <chr>\\\\\n",
       "\\hline\n",
       "\t1 & 1 & house dem aide didn even see comey letter jason chaffetz tweet                                  \\\\\n",
       "\t2 & 0 & flynn hillary clinton big woman campus breitbart                                                \\\\\n",
       "\t3 & 1 & truth may get fire                                                                              \\\\\n",
       "\t4 & 1 & <NUMBER> civilian kill single us airstrike identify                                             \\\\\n",
       "\t5 & 1 & iranian woman jail fictional unpublished story woman stone death adultery                       \\\\\n",
       "\t6 & 0 & jackie mason hollywood love trump bomb north korea lack trans bathroom exclusive video breitbart\\\\\n",
       "\t7 & 1 & life life luxury elton john favorite shark picture stare long transcontinental flight           \\\\\n",
       "\t8 & 0 & benoît hamon win french socialist party presidential nomination new york time                   \\\\\n",
       "\t9 & 0 & excerpt draft script donald trump ampa black church pastor new york time                        \\\\\n",
       "\t10 & 0 & back channel plan ukraine russia courtesy trump associate new york time                         \\\\\n",
       "\t11 & 0 & obama organize action partner soros link indivisible disrupt trump agendum                      \\\\\n",
       "\t12 & 0 & bbc comedy sketch real housewife isis cause outrage                                             \\\\\n",
       "\t13 & 1 & russian researcher discover secret nazi military base treasure hunter arctic photo              \\\\\n",
       "\t14 & 1 & us official see link trump russia                                                               \\\\\n",
       "\t15 & 1 & re yes pay government troll social medium blogs forum website                                   \\\\\n",
       "\\end{tabular}\n"
      ],
      "text/markdown": [
       "\n",
       "A data.frame: 15 × 2\n",
       "\n",
       "| <!--/--> | Labels &lt;int&gt; | Text &lt;chr&gt; |\n",
       "|---|---|---|\n",
       "| 1 | 1 | house dem aide didn even see comey letter jason chaffetz tweet                                   |\n",
       "| 2 | 0 | flynn hillary clinton big woman campus breitbart                                                 |\n",
       "| 3 | 1 | truth may get fire                                                                               |\n",
       "| 4 | 1 | &lt;NUMBER&gt; civilian kill single us airstrike identify                                              |\n",
       "| 5 | 1 | iranian woman jail fictional unpublished story woman stone death adultery                        |\n",
       "| 6 | 0 | jackie mason hollywood love trump bomb north korea lack trans bathroom exclusive video breitbart |\n",
       "| 7 | 1 | life life luxury elton john favorite shark picture stare long transcontinental flight            |\n",
       "| 8 | 0 | benoît hamon win french socialist party presidential nomination new york time                    |\n",
       "| 9 | 0 | excerpt draft script donald trump ampa black church pastor new york time                         |\n",
       "| 10 | 0 | back channel plan ukraine russia courtesy trump associate new york time                          |\n",
       "| 11 | 0 | obama organize action partner soros link indivisible disrupt trump agendum                       |\n",
       "| 12 | 0 | bbc comedy sketch real housewife isis cause outrage                                              |\n",
       "| 13 | 1 | russian researcher discover secret nazi military base treasure hunter arctic photo               |\n",
       "| 14 | 1 | us official see link trump russia                                                                |\n",
       "| 15 | 1 | re yes pay government troll social medium blogs forum website                                    |\n",
       "\n"
      ],
      "text/plain": [
       "   Labels\n",
       "1  1     \n",
       "2  0     \n",
       "3  1     \n",
       "4  1     \n",
       "5  1     \n",
       "6  0     \n",
       "7  1     \n",
       "8  0     \n",
       "9  0     \n",
       "10 0     \n",
       "11 0     \n",
       "12 0     \n",
       "13 1     \n",
       "14 1     \n",
       "15 1     \n",
       "   Text                                                                                            \n",
       "1  house dem aide didn even see comey letter jason chaffetz tweet                                  \n",
       "2  flynn hillary clinton big woman campus breitbart                                                \n",
       "3  truth may get fire                                                                              \n",
       "4  <NUMBER> civilian kill single us airstrike identify                                             \n",
       "5  iranian woman jail fictional unpublished story woman stone death adultery                       \n",
       "6  jackie mason hollywood love trump bomb north korea lack trans bathroom exclusive video breitbart\n",
       "7  life life luxury elton john favorite shark picture stare long transcontinental flight           \n",
       "8  benoît hamon win french socialist party presidential nomination new york time                   \n",
       "9  excerpt draft script donald trump ampa black church pastor new york time                        \n",
       "10 back channel plan ukraine russia courtesy trump associate new york time                         \n",
       "11 obama organize action partner soros link indivisible disrupt trump agendum                      \n",
       "12 bbc comedy sketch real housewife isis cause outrage                                             \n",
       "13 russian researcher discover secret nazi military base treasure hunter arctic photo              \n",
       "14 us official see link trump russia                                                               \n",
       "15 re yes pay government troll social medium blogs forum website                                   "
      ]
     },
     "metadata": {},
     "output_type": "display_data"
    }
   ],
   "source": [
    "head(train.df, 15)"
   ]
  },
  {
   "cell_type": "markdown",
   "metadata": {},
   "source": [
    "## Vocabulary building \n",
    "\n",
    "#### We take part of the dataset (e.g. the first 80% of the records) and construct our vocabulary, which will be used for training. \n",
    "#### The remaining 20% will serve for validation."
   ]
  },
  {
   "cell_type": "code",
   "execution_count": 147,
   "metadata": {
    "vscode": {
     "languageId": "r"
    }
   },
   "outputs": [],
   "source": [
    "validation.df <- train.df[ceiling(0.8*nrow(train.df)):nrow(train.df),]\n",
    "train.df <- train.df[1:floor(0.8*nrow(train.df)),]"
   ]
  },
  {
   "cell_type": "code",
   "execution_count": 15,
   "metadata": {
    "scrolled": true,
    "vscode": {
     "languageId": "r"
    }
   },
   "outputs": [
    {
     "data": {
      "text/html": [
       "'house'"
      ],
      "text/latex": [
       "'house'"
      ],
      "text/markdown": [
       "'house'"
      ],
      "text/plain": [
       "[1] \"house\""
      ]
     },
     "metadata": {},
     "output_type": "display_data"
    },
    {
     "data": {
      "text/html": [
       "2"
      ],
      "text/latex": [
       "2"
      ],
      "text/markdown": [
       "2"
      ],
      "text/plain": [
       "[1] 2"
      ]
     },
     "metadata": {},
     "output_type": "display_data"
    }
   ],
   "source": [
    "first.word <- str_split_1(train.df$Text[1],' ')[1]\n",
    "first.word\n",
    "Nclasses <- length(unique(train.df$Labels))\n",
    "Nclasses"
   ]
  },
  {
   "cell_type": "markdown",
   "metadata": {},
   "source": [
    "### vocab.df, to store how many times each word appears\n",
    "This function creates a data.frame with all the unique words (tokens) in the dataset and for each token it keeps track of the number of occurences in every class it appears in.\n",
    "\n",
    "We will use this to calculate the paramterers for the Multivariate NBC."
   ]
  },
  {
   "cell_type": "code",
   "execution_count": 16,
   "metadata": {
    "vscode": {
     "languageId": "r"
    }
   },
   "outputs": [],
   "source": [
    "# Unique is used to select whether we want to count multiple occurrences of the same token in a quote or not\n",
    "find.vocabulary <- function(N, unique=FALSE){\n",
    "\n",
    "    #Dataframe initialization\n",
    "    vocabulary.df <- data.frame(\"Token\" = first.word, \"True\" = 0, \"False\" = 1)\n",
    "    for (i in 1:N){ \n",
    "        record <- train.df$Text[i]         #record = single quote/sentence in dataset\n",
    "        class <- train.df$Labels[i]\n",
    "        temp.q <- str_split_1(plain(record), \" \")         #temporary tokenized sentence\n",
    "        if(unique){ \n",
    "            temp.q <- unique(temp.q)\n",
    "        }\n",
    "        \n",
    "        for(word in temp.q){\n",
    "            if(!(word %in% vocabulary.df$Token)){\n",
    "                classes <- rep(0, Nclasses)\n",
    "                classes[class + 1] <- 1 #if word is new, adds row and initialize class count to 1. [class + 1] beacuse class \\in {0,5} \n",
    "                vocabulary.df <- rbind(vocabulary.df, list(word, classes[1], classes[2]))\n",
    "            }\n",
    "            else{\n",
    "                #Find where word is --> + 1 to class counter\n",
    "                vocabulary.df[which(vocabulary.df$Token == word), class + 2] <- vocabulary.df[which(vocabulary.df$Token == word), class + 2] + 1\n",
    "            }\n",
    "        }\n",
    "    }\n",
    "    return(vocabulary.df)\n",
    "}"
   ]
  },
  {
   "cell_type": "code",
   "execution_count": 17,
   "metadata": {
    "vscode": {
     "languageId": "r"
    }
   },
   "outputs": [],
   "source": [
    "n.records <- length(train.df$Text) #Number of records\n",
    "vocab.df <- find.vocabulary(n.records)"
   ]
  },
  {
   "cell_type": "markdown",
   "metadata": {},
   "source": [
    "### vocab.bool.df $\\rightarrow$ here we store in how many documents of each class the word appears\n",
    "We use vocab.bool.df to compute Feature Selections Criteria"
   ]
  },
  {
   "cell_type": "code",
   "execution_count": 18,
   "metadata": {
    "vscode": {
     "languageId": "r"
    }
   },
   "outputs": [],
   "source": [
    "vocab.bool.df <- find.vocabulary(n.records, TRUE)"
   ]
  },
  {
   "cell_type": "code",
   "execution_count": 19,
   "metadata": {
    "scrolled": true,
    "vscode": {
     "languageId": "r"
    }
   },
   "outputs": [
    {
     "data": {
      "text/html": [
       "<table class=\"dataframe\">\n",
       "<caption>A data.frame: 8 × 3</caption>\n",
       "<thead>\n",
       "\t<tr><th></th><th scope=col>Token</th><th scope=col>True</th><th scope=col>False</th></tr>\n",
       "\t<tr><th></th><th scope=col>&lt;chr&gt;</th><th scope=col>&lt;dbl&gt;</th><th scope=col>&lt;dbl&gt;</th></tr>\n",
       "</thead>\n",
       "<tbody>\n",
       "\t<tr><th scope=row>1</th><td>house </td><td>178</td><td>73</td></tr>\n",
       "\t<tr><th scope=row>2</th><td>dem   </td><td> 23</td><td>12</td></tr>\n",
       "\t<tr><th scope=row>3</th><td>aide  </td><td> 20</td><td>19</td></tr>\n",
       "\t<tr><th scope=row>4</th><td>didn  </td><td> 14</td><td>24</td></tr>\n",
       "\t<tr><th scope=row>5</th><td>even  </td><td>158</td><td>29</td></tr>\n",
       "\t<tr><th scope=row>6</th><td>see   </td><td> 79</td><td>67</td></tr>\n",
       "\t<tr><th scope=row>7</th><td>comey </td><td> 62</td><td>77</td></tr>\n",
       "\t<tr><th scope=row>8</th><td>letter</td><td> 16</td><td>36</td></tr>\n",
       "</tbody>\n",
       "</table>\n"
      ],
      "text/latex": [
       "A data.frame: 8 × 3\n",
       "\\begin{tabular}{r|lll}\n",
       "  & Token & True & False\\\\\n",
       "  & <chr> & <dbl> & <dbl>\\\\\n",
       "\\hline\n",
       "\t1 & house  & 178 & 73\\\\\n",
       "\t2 & dem    &  23 & 12\\\\\n",
       "\t3 & aide   &  20 & 19\\\\\n",
       "\t4 & didn   &  14 & 24\\\\\n",
       "\t5 & even   & 158 & 29\\\\\n",
       "\t6 & see    &  79 & 67\\\\\n",
       "\t7 & comey  &  62 & 77\\\\\n",
       "\t8 & letter &  16 & 36\\\\\n",
       "\\end{tabular}\n"
      ],
      "text/markdown": [
       "\n",
       "A data.frame: 8 × 3\n",
       "\n",
       "| <!--/--> | Token &lt;chr&gt; | True &lt;dbl&gt; | False &lt;dbl&gt; |\n",
       "|---|---|---|---|\n",
       "| 1 | house  | 178 | 73 |\n",
       "| 2 | dem    |  23 | 12 |\n",
       "| 3 | aide   |  20 | 19 |\n",
       "| 4 | didn   |  14 | 24 |\n",
       "| 5 | even   | 158 | 29 |\n",
       "| 6 | see    |  79 | 67 |\n",
       "| 7 | comey  |  62 | 77 |\n",
       "| 8 | letter |  16 | 36 |\n",
       "\n"
      ],
      "text/plain": [
       "  Token  True False\n",
       "1 house  178  73   \n",
       "2 dem     23  12   \n",
       "3 aide    20  19   \n",
       "4 didn    14  24   \n",
       "5 even   158  29   \n",
       "6 see     79  67   \n",
       "7 comey   62  77   \n",
       "8 letter  16  36   "
      ]
     },
     "metadata": {},
     "output_type": "display_data"
    }
   ],
   "source": [
    "head(vocab.bool.df, 8)"
   ]
  },
  {
   "cell_type": "markdown",
   "metadata": {},
   "source": [
    "We check which tokens have length $<1$, since they may be artifacts which arise during string manipulation."
   ]
  },
  {
   "cell_type": "code",
   "execution_count": 20,
   "metadata": {},
   "outputs": [
    {
     "data": {
      "text/html": [
       "<style>\n",
       ".list-inline {list-style: none; margin:0; padding: 0}\n",
       ".list-inline>li {display: inline-block}\n",
       ".list-inline>li:not(:last-child)::after {content: \"\\00b7\"; padding: 0 .5ex}\n",
       "</style>\n",
       "<ol class=list-inline><li>''</li><li>'t'</li><li>'r'</li></ol>\n"
      ],
      "text/latex": [
       "\\begin{enumerate*}\n",
       "\\item ''\n",
       "\\item 't'\n",
       "\\item 'r'\n",
       "\\end{enumerate*}\n"
      ],
      "text/markdown": [
       "1. ''\n",
       "2. 't'\n",
       "3. 'r'\n",
       "\n",
       "\n"
      ],
      "text/plain": [
       "[1] \"\"  \"t\" \"r\""
      ]
     },
     "metadata": {},
     "output_type": "display_data"
    }
   ],
   "source": [
    "vocab.bool.df$Token[str_length(vocab.bool.df$Token) < 2]"
   ]
  },
  {
   "cell_type": "code",
   "execution_count": 21,
   "metadata": {},
   "outputs": [],
   "source": [
    "vocab.bool.df <- vocab.bool.df[-which(str_length(vocab.bool.df$Token) < 2), ]\n",
    "vocab.df <- vocab.df[-which(str_length(vocab.df$Token) < 2), ]"
   ]
  },
  {
   "cell_type": "markdown",
   "metadata": {},
   "source": [
    "## Feature selection\n",
    "\n",
    "We must now perform feature selection: this means selecting a subset of the vocabulary and use that subset for classification.\n",
    "\n",
    "### $\\chi^2$ method\n",
    "\n",
    "The aim of the $\\chi^2$ method is to evaluate which tokens are the most correlated to a class, that is, to verify where $P(t)P(c) != P(t,c)$."
   ]
  },
  {
   "cell_type": "code",
   "execution_count": 22,
   "metadata": {
    "scrolled": false,
    "vscode": {
     "languageId": "r"
    }
   },
   "outputs": [
    {
     "data": {
      "text/html": [
       "<style>\n",
       ".list-inline {list-style: none; margin:0; padding: 0}\n",
       ".list-inline>li {display: inline-block}\n",
       ".list-inline>li:not(:last-child)::after {content: \"\\00b7\"; padding: 0 .5ex}\n",
       "</style>\n",
       "<ol class=list-inline><li>8340</li><li>8300</li></ol>\n"
      ],
      "text/latex": [
       "\\begin{enumerate*}\n",
       "\\item 8340\n",
       "\\item 8300\n",
       "\\end{enumerate*}\n"
      ],
      "text/markdown": [
       "1. 8340\n",
       "2. 8300\n",
       "\n",
       "\n"
      ],
      "text/plain": [
       "[1] 8340 8300"
      ]
     },
     "metadata": {},
     "output_type": "display_data"
    }
   ],
   "source": [
    "CHIs <- rep(0, length(vocab.bool.df$Token))                                 #Vector with Chi^2 values\n",
    "NCs <- hist(train.df$Labels,breaks=seq(-1,(Nclasses-1)),plot=FALSE)$counts  #Number of documents for each class\n",
    "NCs"
   ]
  },
  {
   "cell_type": "code",
   "execution_count": 23,
   "metadata": {
    "vscode": {
     "languageId": "r"
    }
   },
   "outputs": [],
   "source": [
    "for(i in 1:length(vocab.bool.df$Token)){\n",
    "    Chi <- 0\n",
    "    N.t <- sum(vocab.bool.df[i, 2:(Nclasses+1)])\n",
    "    N.nott <- n.records - N.t \n",
    "    for(class in 0:(Nclasses-1)){\n",
    "        N.c <- NCs[class + 1]                   #number of documents of that class\n",
    "        N.ct <- vocab.bool.df[i, class + 2]     #number of docs in the class c containing token t\n",
    "        E <- n.records * N.c/n.records * N.t/n.records #Expected value of N.ct (if t,c independent)\n",
    "        Chi <- Chi + (N.ct - E)^2 / E\n",
    "        \n",
    "        # N_c,nontoken - E_c, nontoken          #same calculations as above with docs in class c not containing token t\n",
    "        N.c.nott <- N.c - N.ct                 \n",
    "        E <- n.records * N.c/n.records * N.nott/n.records\n",
    "        Chi <- Chi + (N.c.nott - E)^2 / E\n",
    "    }\n",
    "    \n",
    "    CHIs[i] <- Chi\n",
    "}"
   ]
  },
  {
   "cell_type": "code",
   "execution_count": 24,
   "metadata": {
    "vscode": {
     "languageId": "r"
    }
   },
   "outputs": [],
   "source": [
    "#Now CHIs contains the chi^2 for each token --> let's try ranking them\n",
    "vocab.df$Chi <- CHIs"
   ]
  },
  {
   "cell_type": "code",
   "execution_count": 25,
   "metadata": {
    "vscode": {
     "languageId": "r"
    }
   },
   "outputs": [],
   "source": [
    "vocab.bool.df$Chi <- CHIs"
   ]
  },
  {
   "cell_type": "code",
   "execution_count": 26,
   "metadata": {
    "scrolled": false,
    "vscode": {
     "languageId": "r"
    }
   },
   "outputs": [
    {
     "data": {
      "text/html": [
       "<table class=\"dataframe\">\n",
       "<caption>A data.frame: 6 × 4</caption>\n",
       "<thead>\n",
       "\t<tr><th></th><th scope=col>Token</th><th scope=col>True</th><th scope=col>False</th><th scope=col>Chi</th></tr>\n",
       "\t<tr><th></th><th scope=col>&lt;chr&gt;</th><th scope=col>&lt;dbl&gt;</th><th scope=col>&lt;dbl&gt;</th><th scope=col>&lt;dbl&gt;</th></tr>\n",
       "</thead>\n",
       "<tbody>\n",
       "\t<tr><th scope=row>71</th><td>york     </td><td>5091</td><td> 24</td><td>7044.1504</td></tr>\n",
       "\t<tr><th scope=row>72</th><td>time     </td><td>5120</td><td>128</td><td>6743.1968</td></tr>\n",
       "\t<tr><th scope=row>70</th><td>new      </td><td>5375</td><td>347</td><td>6103.2600</td></tr>\n",
       "\t<tr><th scope=row>18</th><td>breitbart</td><td>1945</td><td>  1</td><td>2139.0023</td></tr>\n",
       "\t<tr><th scope=row>13</th><td>hillary  </td><td> 168</td><td>846</td><td> 481.3188</td></tr>\n",
       "\t<tr><th scope=row>14</th><td>clinton  </td><td> 229</td><td>749</td><td> 287.3178</td></tr>\n",
       "</tbody>\n",
       "</table>\n"
      ],
      "text/latex": [
       "A data.frame: 6 × 4\n",
       "\\begin{tabular}{r|llll}\n",
       "  & Token & True & False & Chi\\\\\n",
       "  & <chr> & <dbl> & <dbl> & <dbl>\\\\\n",
       "\\hline\n",
       "\t71 & york      & 5091 &  24 & 7044.1504\\\\\n",
       "\t72 & time      & 5120 & 128 & 6743.1968\\\\\n",
       "\t70 & new       & 5375 & 347 & 6103.2600\\\\\n",
       "\t18 & breitbart & 1945 &   1 & 2139.0023\\\\\n",
       "\t13 & hillary   &  168 & 846 &  481.3188\\\\\n",
       "\t14 & clinton   &  229 & 749 &  287.3178\\\\\n",
       "\\end{tabular}\n"
      ],
      "text/markdown": [
       "\n",
       "A data.frame: 6 × 4\n",
       "\n",
       "| <!--/--> | Token &lt;chr&gt; | True &lt;dbl&gt; | False &lt;dbl&gt; | Chi &lt;dbl&gt; |\n",
       "|---|---|---|---|---|\n",
       "| 71 | york      | 5091 |  24 | 7044.1504 |\n",
       "| 72 | time      | 5120 | 128 | 6743.1968 |\n",
       "| 70 | new       | 5375 | 347 | 6103.2600 |\n",
       "| 18 | breitbart | 1945 |   1 | 2139.0023 |\n",
       "| 13 | hillary   |  168 | 846 |  481.3188 |\n",
       "| 14 | clinton   |  229 | 749 |  287.3178 |\n",
       "\n"
      ],
      "text/plain": [
       "   Token     True False Chi      \n",
       "71 york      5091  24   7044.1504\n",
       "72 time      5120 128   6743.1968\n",
       "70 new       5375 347   6103.2600\n",
       "18 breitbart 1945   1   2139.0023\n",
       "13 hillary    168 846    481.3188\n",
       "14 clinton    229 749    287.3178"
      ]
     },
     "metadata": {},
     "output_type": "display_data"
    }
   ],
   "source": [
    "vocab.df[order(vocab.df$Chi, decreasing = TRUE),] %>% head"
   ]
  },
  {
   "cell_type": "code",
   "execution_count": 43,
   "metadata": {},
   "outputs": [],
   "source": [
    "vocab.df.order.Chi <- vocab.df[order(vocab.df$Chi, decreasing = TRUE),]"
   ]
  },
  {
   "cell_type": "markdown",
   "metadata": {},
   "source": [
    "We don't really like that the $\\chi^2$ method seems to like rare tokens which appear only in one class. This can be misguiding, so let's try with the Mutual Information.\n",
    "\n",
    "## Mutual Information \n",
    "We evaluate the mutual information for each class (among the possibilities (class, not class)) and make an average.\n",
    "\n",
    "$\\sum_{\\mathrm{class}\\in\\{0,1\\}}\\sum_{\\mathrm{token}\\in\\{0,1\\}}P(class, token) \\log{\\frac{P(class, token)}{P(class)P(token)}}$\n",
    "\n",
    "We evaluate this quantity for each class, then take the sum."
   ]
  },
  {
   "cell_type": "code",
   "execution_count": 27,
   "metadata": {
    "vscode": {
     "languageId": "r"
    }
   },
   "outputs": [],
   "source": [
    "#function to evalute single terms of MI sum\n",
    "mi.term <- function(ab,a,b,n){ \n",
    "    output <- ifelse(ab > 0, ab/n*log(ab*n/(a*b)), 0)\n",
    "    return(output)\n",
    "}"
   ]
  },
  {
   "cell_type": "code",
   "execution_count": 28,
   "metadata": {
    "vscode": {
     "languageId": "r"
    }
   },
   "outputs": [],
   "source": [
    "MIs <- rep(0, length(vocab.bool.df$Token))\n",
    "\n",
    "#Evaluate MI separately for each class, then average\n",
    "for(i in 1:length(vocab.df$Token)){\n",
    "    MI <- 0\n",
    "    N.t <- sum(vocab.bool.df[i, 2:(Nclasses+1)])\n",
    "    N.not.t <- n.records - N.t\n",
    "    for(class in 0:(Nclasses-1)){\n",
    "        MI.c <- 0\n",
    "        N.c <- NCs[class + 1]\n",
    "        N.not.c <- n.records - N.c \n",
    "        N.ct <- vocab.bool.df[i, class + 2]\n",
    "        \n",
    "        class.index <- switch(class + 1, \"True\", \"False\")\n",
    "        N.not.c.not.t <- n.records - sum(vocab.bool.df[i, 2:(Nclasses+1)]) + N.ct - sum(vocab.bool.df$class.index)\n",
    "        \n",
    "        \n",
    "        #P(class, token)log(...) + P(nonclass, token) + P(class, non token) + P(non class, non token)\n",
    "        term <- mi.term(N.ct, N.c, N.t, n.records) +                                     #class and token\n",
    "                mi.term(N.t - N.ct, N.not.c , N.t, n.records) +            #not class, token\n",
    "                mi.term(N.c - N.ct, N.not.t , N.c, n.records) +      #class, not token     \n",
    "                mi.term(N.not.c.not.t, N.not.c, N.not.t, n.records)        #neither class nor token\n",
    "                \n",
    "        MI <- MI + term\n",
    "        \n",
    "    }\n",
    "    \n",
    "    MIs[i] <- MI\n",
    "}"
   ]
  },
  {
   "cell_type": "code",
   "execution_count": 29,
   "metadata": {
    "vscode": {
     "languageId": "r"
    }
   },
   "outputs": [],
   "source": [
    "vocab.df$MI <- MIs"
   ]
  },
  {
   "cell_type": "code",
   "execution_count": 30,
   "metadata": {
    "vscode": {
     "languageId": "r"
    }
   },
   "outputs": [],
   "source": [
    "vocab.df.order.MI <- vocab.df[order(vocab.df$MI, decreasing = TRUE), ] "
   ]
  },
  {
   "cell_type": "code",
   "execution_count": 31,
   "metadata": {
    "scrolled": true,
    "vscode": {
     "languageId": "r"
    }
   },
   "outputs": [
    {
     "data": {
      "text/html": [
       "<table class=\"dataframe\">\n",
       "<caption>A data.frame: 10 × 5</caption>\n",
       "<thead>\n",
       "\t<tr><th></th><th scope=col>Token</th><th scope=col>True</th><th scope=col>False</th><th scope=col>Chi</th><th scope=col>MI</th></tr>\n",
       "\t<tr><th></th><th scope=col>&lt;chr&gt;</th><th scope=col>&lt;dbl&gt;</th><th scope=col>&lt;dbl&gt;</th><th scope=col>&lt;dbl&gt;</th><th scope=col>&lt;dbl&gt;</th></tr>\n",
       "</thead>\n",
       "<tbody>\n",
       "\t<tr><th scope=row>71</th><td>york     </td><td>5091</td><td>  24</td><td>7044.15041</td><td>2.002708</td></tr>\n",
       "\t<tr><th scope=row>72</th><td>time     </td><td>5120</td><td> 128</td><td>6743.19678</td><td>1.963304</td></tr>\n",
       "\t<tr><th scope=row>70</th><td>new      </td><td>5375</td><td> 347</td><td>6103.26000</td><td>1.906130</td></tr>\n",
       "\t<tr><th scope=row>18</th><td>breitbart</td><td>1945</td><td>   1</td><td>2139.00227</td><td>1.593531</td></tr>\n",
       "\t<tr><th scope=row>42</th><td>trump    </td><td>1839</td><td>1154</td><td> 200.66407</td><td>1.461358</td></tr>\n",
       "\t<tr><th scope=row>13</th><td>hillary  </td><td> 168</td><td> 846</td><td> 481.31875</td><td>1.436723</td></tr>\n",
       "\t<tr><th scope=row>14</th><td>clinton  </td><td> 229</td><td> 749</td><td> 287.31779</td><td>1.422700</td></tr>\n",
       "\t<tr><th scope=row>23</th><td>&lt;number&gt; </td><td> 645</td><td> 838</td><td><span style=white-space:pre-wrap>   6.38512</span></td><td>1.411283</td></tr>\n",
       "\t<tr><th scope=row>975</th><td>comment  </td><td>  11</td><td> 273</td><td> 247.18568</td><td>1.409904</td></tr>\n",
       "\t<tr><th scope=row>275</th><td>election </td><td> 104</td><td> 435</td><td> 208.13552</td><td>1.409678</td></tr>\n",
       "</tbody>\n",
       "</table>\n"
      ],
      "text/latex": [
       "A data.frame: 10 × 5\n",
       "\\begin{tabular}{r|lllll}\n",
       "  & Token & True & False & Chi & MI\\\\\n",
       "  & <chr> & <dbl> & <dbl> & <dbl> & <dbl>\\\\\n",
       "\\hline\n",
       "\t71 & york      & 5091 &   24 & 7044.15041 & 2.002708\\\\\n",
       "\t72 & time      & 5120 &  128 & 6743.19678 & 1.963304\\\\\n",
       "\t70 & new       & 5375 &  347 & 6103.26000 & 1.906130\\\\\n",
       "\t18 & breitbart & 1945 &    1 & 2139.00227 & 1.593531\\\\\n",
       "\t42 & trump     & 1839 & 1154 &  200.66407 & 1.461358\\\\\n",
       "\t13 & hillary   &  168 &  846 &  481.31875 & 1.436723\\\\\n",
       "\t14 & clinton   &  229 &  749 &  287.31779 & 1.422700\\\\\n",
       "\t23 & <number>  &  645 &  838 &    6.38512 & 1.411283\\\\\n",
       "\t975 & comment   &   11 &  273 &  247.18568 & 1.409904\\\\\n",
       "\t275 & election  &  104 &  435 &  208.13552 & 1.409678\\\\\n",
       "\\end{tabular}\n"
      ],
      "text/markdown": [
       "\n",
       "A data.frame: 10 × 5\n",
       "\n",
       "| <!--/--> | Token &lt;chr&gt; | True &lt;dbl&gt; | False &lt;dbl&gt; | Chi &lt;dbl&gt; | MI &lt;dbl&gt; |\n",
       "|---|---|---|---|---|---|\n",
       "| 71 | york      | 5091 |   24 | 7044.15041 | 2.002708 |\n",
       "| 72 | time      | 5120 |  128 | 6743.19678 | 1.963304 |\n",
       "| 70 | new       | 5375 |  347 | 6103.26000 | 1.906130 |\n",
       "| 18 | breitbart | 1945 |    1 | 2139.00227 | 1.593531 |\n",
       "| 42 | trump     | 1839 | 1154 |  200.66407 | 1.461358 |\n",
       "| 13 | hillary   |  168 |  846 |  481.31875 | 1.436723 |\n",
       "| 14 | clinton   |  229 |  749 |  287.31779 | 1.422700 |\n",
       "| 23 | &lt;number&gt;  |  645 |  838 |    6.38512 | 1.411283 |\n",
       "| 975 | comment   |   11 |  273 |  247.18568 | 1.409904 |\n",
       "| 275 | election  |  104 |  435 |  208.13552 | 1.409678 |\n",
       "\n"
      ],
      "text/plain": [
       "    Token     True False Chi        MI      \n",
       "71  york      5091   24  7044.15041 2.002708\n",
       "72  time      5120  128  6743.19678 1.963304\n",
       "70  new       5375  347  6103.26000 1.906130\n",
       "18  breitbart 1945    1  2139.00227 1.593531\n",
       "42  trump     1839 1154   200.66407 1.461358\n",
       "13  hillary    168  846   481.31875 1.436723\n",
       "14  clinton    229  749   287.31779 1.422700\n",
       "23  <number>   645  838     6.38512 1.411283\n",
       "975 comment     11  273   247.18568 1.409904\n",
       "275 election   104  435   208.13552 1.409678"
      ]
     },
     "metadata": {},
     "output_type": "display_data"
    }
   ],
   "source": [
    "vocab.df.order.MI %>% head(10)"
   ]
  },
  {
   "cell_type": "markdown",
   "metadata": {},
   "source": [
    "### Frequencies"
   ]
  },
  {
   "cell_type": "code",
   "execution_count": 165,
   "metadata": {
    "scrolled": true
   },
   "outputs": [],
   "source": [
    "total.frequencies <- rowSums(vocab.df[, 2:(Nclasses + 1)])\n",
    "vocab.df.order.frequencies <- vocab.df[order(total.frequencies, decreasing = TRUE), ]"
   ]
  },
  {
   "cell_type": "markdown",
   "metadata": {},
   "source": [
    "# Training and validation\n",
    "\n",
    "We compute the parameters of our MNB, using different numbers of features. We train it on different vocabulary sizes."
   ]
  },
  {
   "cell_type": "code",
   "execution_count": 175,
   "metadata": {
    "scrolled": true,
    "vscode": {
     "languageId": "r"
    }
   },
   "outputs": [
    {
     "data": {
      "text/html": [
       "<style>\n",
       ".list-inline {list-style: none; margin:0; padding: 0}\n",
       ".list-inline>li {display: inline-block}\n",
       ".list-inline>li:not(:last-child)::after {content: \"\\00b7\"; padding: 0 .5ex}\n",
       "</style>\n",
       "<ol class=list-inline><li>1000</li><li>1024</li><li>1048</li><li>1072</li><li>1097</li><li>1123</li><li>1149</li><li>1175</li><li>1203</li><li>1231</li><li>1259</li><li>1289</li><li>1319</li><li>1349</li><li>1381</li><li>1413</li><li>1446</li><li>1480</li><li>1514</li><li>1549</li><li>1585</li><li>1622</li><li>1660</li><li>1699</li><li>1738</li><li>1779</li><li>1820</li><li>1863</li><li>1906</li><li>1950</li><li>1996</li><li>2042</li><li>2090</li><li>2138</li><li>2188</li><li>2239</li><li>2291</li><li>2345</li><li>2399</li><li>2455</li><li>2512</li><li>2571</li><li>2631</li><li>2692</li><li>2755</li><li>2819</li><li>2885</li><li>2952</li><li>3020</li><li>3091</li><li>3163</li><li>3236</li><li>3312</li><li>3389</li><li>3468</li><li>3549</li><li>3631</li><li>3716</li><li>3802</li><li>3891</li><li>3982</li><li>4074</li><li>4169</li><li>4266</li><li>4366</li><li>4467</li><li>4571</li><li>4678</li><li>4787</li><li>4898</li><li>5012</li><li>5129</li><li>5249</li><li>5371</li><li>5496</li><li>5624</li><li>5755</li><li>5889</li><li>6026</li><li>6166</li><li>6310</li><li>6457</li><li>6607</li><li>6761</li><li>6919</li><li>7080</li><li>7245</li><li>7414</li><li>7586</li><li>7763</li><li>7944</li><li>8129</li><li>8318</li><li>8512</li><li>8710</li><li>8913</li><li>9121</li><li>9333</li><li>9550</li><li>9773</li><li>10000</li></ol>\n"
      ],
      "text/latex": [
       "\\begin{enumerate*}\n",
       "\\item 1000\n",
       "\\item 1024\n",
       "\\item 1048\n",
       "\\item 1072\n",
       "\\item 1097\n",
       "\\item 1123\n",
       "\\item 1149\n",
       "\\item 1175\n",
       "\\item 1203\n",
       "\\item 1231\n",
       "\\item 1259\n",
       "\\item 1289\n",
       "\\item 1319\n",
       "\\item 1349\n",
       "\\item 1381\n",
       "\\item 1413\n",
       "\\item 1446\n",
       "\\item 1480\n",
       "\\item 1514\n",
       "\\item 1549\n",
       "\\item 1585\n",
       "\\item 1622\n",
       "\\item 1660\n",
       "\\item 1699\n",
       "\\item 1738\n",
       "\\item 1779\n",
       "\\item 1820\n",
       "\\item 1863\n",
       "\\item 1906\n",
       "\\item 1950\n",
       "\\item 1996\n",
       "\\item 2042\n",
       "\\item 2090\n",
       "\\item 2138\n",
       "\\item 2188\n",
       "\\item 2239\n",
       "\\item 2291\n",
       "\\item 2345\n",
       "\\item 2399\n",
       "\\item 2455\n",
       "\\item 2512\n",
       "\\item 2571\n",
       "\\item 2631\n",
       "\\item 2692\n",
       "\\item 2755\n",
       "\\item 2819\n",
       "\\item 2885\n",
       "\\item 2952\n",
       "\\item 3020\n",
       "\\item 3091\n",
       "\\item 3163\n",
       "\\item 3236\n",
       "\\item 3312\n",
       "\\item 3389\n",
       "\\item 3468\n",
       "\\item 3549\n",
       "\\item 3631\n",
       "\\item 3716\n",
       "\\item 3802\n",
       "\\item 3891\n",
       "\\item 3982\n",
       "\\item 4074\n",
       "\\item 4169\n",
       "\\item 4266\n",
       "\\item 4366\n",
       "\\item 4467\n",
       "\\item 4571\n",
       "\\item 4678\n",
       "\\item 4787\n",
       "\\item 4898\n",
       "\\item 5012\n",
       "\\item 5129\n",
       "\\item 5249\n",
       "\\item 5371\n",
       "\\item 5496\n",
       "\\item 5624\n",
       "\\item 5755\n",
       "\\item 5889\n",
       "\\item 6026\n",
       "\\item 6166\n",
       "\\item 6310\n",
       "\\item 6457\n",
       "\\item 6607\n",
       "\\item 6761\n",
       "\\item 6919\n",
       "\\item 7080\n",
       "\\item 7245\n",
       "\\item 7414\n",
       "\\item 7586\n",
       "\\item 7763\n",
       "\\item 7944\n",
       "\\item 8129\n",
       "\\item 8318\n",
       "\\item 8512\n",
       "\\item 8710\n",
       "\\item 8913\n",
       "\\item 9121\n",
       "\\item 9333\n",
       "\\item 9550\n",
       "\\item 9773\n",
       "\\item 10000\n",
       "\\end{enumerate*}\n"
      ],
      "text/markdown": [
       "1. 1000\n",
       "2. 1024\n",
       "3. 1048\n",
       "4. 1072\n",
       "5. 1097\n",
       "6. 1123\n",
       "7. 1149\n",
       "8. 1175\n",
       "9. 1203\n",
       "10. 1231\n",
       "11. 1259\n",
       "12. 1289\n",
       "13. 1319\n",
       "14. 1349\n",
       "15. 1381\n",
       "16. 1413\n",
       "17. 1446\n",
       "18. 1480\n",
       "19. 1514\n",
       "20. 1549\n",
       "21. 1585\n",
       "22. 1622\n",
       "23. 1660\n",
       "24. 1699\n",
       "25. 1738\n",
       "26. 1779\n",
       "27. 1820\n",
       "28. 1863\n",
       "29. 1906\n",
       "30. 1950\n",
       "31. 1996\n",
       "32. 2042\n",
       "33. 2090\n",
       "34. 2138\n",
       "35. 2188\n",
       "36. 2239\n",
       "37. 2291\n",
       "38. 2345\n",
       "39. 2399\n",
       "40. 2455\n",
       "41. 2512\n",
       "42. 2571\n",
       "43. 2631\n",
       "44. 2692\n",
       "45. 2755\n",
       "46. 2819\n",
       "47. 2885\n",
       "48. 2952\n",
       "49. 3020\n",
       "50. 3091\n",
       "51. 3163\n",
       "52. 3236\n",
       "53. 3312\n",
       "54. 3389\n",
       "55. 3468\n",
       "56. 3549\n",
       "57. 3631\n",
       "58. 3716\n",
       "59. 3802\n",
       "60. 3891\n",
       "61. 3982\n",
       "62. 4074\n",
       "63. 4169\n",
       "64. 4266\n",
       "65. 4366\n",
       "66. 4467\n",
       "67. 4571\n",
       "68. 4678\n",
       "69. 4787\n",
       "70. 4898\n",
       "71. 5012\n",
       "72. 5129\n",
       "73. 5249\n",
       "74. 5371\n",
       "75. 5496\n",
       "76. 5624\n",
       "77. 5755\n",
       "78. 5889\n",
       "79. 6026\n",
       "80. 6166\n",
       "81. 6310\n",
       "82. 6457\n",
       "83. 6607\n",
       "84. 6761\n",
       "85. 6919\n",
       "86. 7080\n",
       "87. 7245\n",
       "88. 7414\n",
       "89. 7586\n",
       "90. 7763\n",
       "91. 7944\n",
       "92. 8129\n",
       "93. 8318\n",
       "94. 8512\n",
       "95. 8710\n",
       "96. 8913\n",
       "97. 9121\n",
       "98. 9333\n",
       "99. 9550\n",
       "100. 9773\n",
       "101. 10000\n",
       "\n",
       "\n"
      ],
      "text/plain": [
       "  [1]  1000  1024  1048  1072  1097  1123  1149  1175  1203  1231  1259  1289\n",
       " [13]  1319  1349  1381  1413  1446  1480  1514  1549  1585  1622  1660  1699\n",
       " [25]  1738  1779  1820  1863  1906  1950  1996  2042  2090  2138  2188  2239\n",
       " [37]  2291  2345  2399  2455  2512  2571  2631  2692  2755  2819  2885  2952\n",
       " [49]  3020  3091  3163  3236  3312  3389  3468  3549  3631  3716  3802  3891\n",
       " [61]  3982  4074  4169  4266  4366  4467  4571  4678  4787  4898  5012  5129\n",
       " [73]  5249  5371  5496  5624  5755  5889  6026  6166  6310  6457  6607  6761\n",
       " [85]  6919  7080  7245  7414  7586  7763  7944  8129  8318  8512  8710  8913\n",
       " [97]  9121  9333  9550  9773 10000"
      ]
     },
     "metadata": {},
     "output_type": "display_data"
    }
   ],
   "source": [
    "vocab.sizes <- unique(ceiling(10^seq(from = 3, to = 4, by = 0.01)))\n",
    "vocab.sizes"
   ]
  },
  {
   "cell_type": "markdown",
   "metadata": {},
   "source": [
    "#### Score for different vocabulary sizes"
   ]
  },
  {
   "cell_type": "code",
   "execution_count": 167,
   "metadata": {
    "vscode": {
     "languageId": "r"
    }
   },
   "outputs": [],
   "source": [
    "#Returns validation score with the first *size* features\n",
    "validate <- function(size, ordered.vocabulary){\n",
    "    vocab.short <- ordered.vocabulary[1:size, ]\n",
    "    \n",
    "    #Priors\n",
    "    p.c <- log(NCs / n.records)\n",
    "    \n",
    "    #Posteriors\n",
    "    posteriors.df <- vocab.short\n",
    "    \n",
    "    #Evaluate posterior for each token\n",
    "    for(class in 0:(Nclasses-1)){\n",
    "        posteriors.df[, class + 2] <- log((posteriors.df[, class + 2] + 1) / sum(posteriors.df[, class + 2]+1))\n",
    "    } \n",
    "    \n",
    "    #Predict labels for validation set\n",
    "    predictions <- rep(0, length(validation.df$Text))\n",
    "    for(i in 1:length(validation.df$Text)){\n",
    "        record <- validation.df$Text[i]\n",
    "        words <- str_split_1(plain(record), \" \") \n",
    "        posteriors <- rep(0, Nclasses) #Posterior probabilities (we want to find the maximum)\n",
    "        for(class in 0:(Nclasses - 1)){\n",
    "            #For each class evaluate posterior\n",
    "            posterior <- p.c[class + 1]\n",
    "            for(word in words){\n",
    "                #Check if word in vocabulary\n",
    "                if(word %in% posteriors.df$Token){\n",
    "                    posterior <- posterior + posteriors.df[which(posteriors.df$Token == word) , class + 2]\n",
    "                }\n",
    "            }\n",
    "            posteriors[class + 1] <- posterior\n",
    "        }\n",
    "\n",
    "        predictions[i] <- which.max(posteriors) - 1\n",
    "    }\n",
    "    \n",
    "    return(sum(predictions == validation.df$Labels) / length(validation.df$Labels))\n",
    " \n",
    "}"
   ]
  },
  {
   "cell_type": "code",
   "execution_count": 168,
   "metadata": {
    "vscode": {
     "languageId": "r"
    }
   },
   "outputs": [],
   "source": [
    "#Train on various vocab sizes and store the score in a dataframe\n",
    "\n",
    "scores <- matrix(data = 0, nrow = length(vocab.sizes), ncol = 3)\n",
    "\n",
    "for(i in 1:length(vocab.sizes)){\n",
    "    scores[i, 1] <- validate(vocab.sizes[i], vocab.df.order.Chi)\n",
    "    scores[i, 2] <- validate(vocab.sizes[i], vocab.df.order.MI)\n",
    "    scores[i, 3] <- validate(vocab.sizes[i], vocab.df.order.frequencies)\n",
    "}"
   ]
  },
  {
   "cell_type": "code",
   "execution_count": 169,
   "metadata": {
    "scrolled": false,
    "vscode": {
     "languageId": "r"
    }
   },
   "outputs": [],
   "source": [
    "colnames(scores) <- c(\"Chi\", \"MI\", \"Frequencies\")\n",
    "scores <- as.data.frame(scores)\n",
    "scores$\"Sizes\" <- vocab.sizes"
   ]
  },
  {
   "cell_type": "code",
   "execution_count": 203,
   "metadata": {},
   "outputs": [
    {
     "data": {
      "image/png": "[encoded data removed]",
      "text/plain": [
       "plot without title"
      ]
     },
     "metadata": {
      "image/png": {
       "height": 480,
       "width": 540
      }
     },
     "output_type": "display_data"
    }
   ],
   "source": [
    "#Plot theme\n",
    "options(repr.plot.width=9, repr.plot.height=8)\n",
    "\n",
    "theme <- theme(legend.text = element_text(size = 15), axis.title = element_text(size = 15), axis.text = element_text(size = 15), \n",
    "               plot.title = element_text(face = \"bold\", size = 16), legend.title = element_text(size=15))\n",
    "\n",
    "\n",
    "#Plot scores as a function of vocabulary size\n",
    "grafico.scores <- ggplot() + geom_line(aes(x = scores$'Sizes', y = scores$'Chi', color = \"Chi2\")) + \n",
    "                                geom_line(aes(x = scores$'Sizes', y = scores$'MI', color = \"MI\")) + \n",
    "                                    geom_line(aes(x = scores$'Sizes', y = scores$'Frequencies', color = \"Frequencies\"))\n",
    "\n",
    "#Add labels, title etc...\n",
    "grafico.scores  <- grafico.scores + theme + labs(x = \"Vocab. size\", y = \"Score\") + \n",
    "                        ggtitle(\"Vocabulary size vs. validation score\") +\n",
    "                             labs(color = \"Feature selection\")\n",
    "#Show\n",
    "grafico.scores"
   ]
  },
  {
   "cell_type": "code",
   "execution_count": 204,
   "metadata": {
    "scrolled": false
   },
   "outputs": [
    {
     "data": {
      "text/html": [
       "<table class=\"dataframe\">\n",
       "<caption>A data.frame: 1 × 2</caption>\n",
       "<thead>\n",
       "\t<tr><th></th><th scope=col>Sizes</th><th scope=col>Chi</th></tr>\n",
       "\t<tr><th></th><th scope=col>&lt;dbl&gt;</th><th scope=col>&lt;dbl&gt;</th></tr>\n",
       "</thead>\n",
       "<tbody>\n",
       "\t<tr><th scope=row>98</th><td>9333</td><td>0.912286</td></tr>\n",
       "</tbody>\n",
       "</table>\n"
      ],
      "text/latex": [
       "A data.frame: 1 × 2\n",
       "\\begin{tabular}{r|ll}\n",
       "  & Sizes & Chi\\\\\n",
       "  & <dbl> & <dbl>\\\\\n",
       "\\hline\n",
       "\t98 & 9333 & 0.912286\\\\\n",
       "\\end{tabular}\n"
      ],
      "text/markdown": [
       "\n",
       "A data.frame: 1 × 2\n",
       "\n",
       "| <!--/--> | Sizes &lt;dbl&gt; | Chi &lt;dbl&gt; |\n",
       "|---|---|---|\n",
       "| 98 | 9333 | 0.912286 |\n",
       "\n"
      ],
      "text/plain": [
       "   Sizes Chi     \n",
       "98 9333  0.912286"
      ]
     },
     "metadata": {},
     "output_type": "display_data"
    }
   ],
   "source": [
    "#Chi2\n",
    "scores[which.max(scores$\"Chi\"), c(\"Sizes\", \"Chi\")]"
   ]
  },
  {
   "cell_type": "code",
   "execution_count": 205,
   "metadata": {},
   "outputs": [
    {
     "data": {
      "text/html": [
       "<table class=\"dataframe\">\n",
       "<caption>A data.frame: 1 × 2</caption>\n",
       "<thead>\n",
       "\t<tr><th></th><th scope=col>Sizes</th><th scope=col>MI</th></tr>\n",
       "\t<tr><th></th><th scope=col>&lt;dbl&gt;</th><th scope=col>&lt;dbl&gt;</th></tr>\n",
       "</thead>\n",
       "<tbody>\n",
       "\t<tr><th scope=row>81</th><td>6310</td><td>0.9134875</td></tr>\n",
       "</tbody>\n",
       "</table>\n"
      ],
      "text/latex": [
       "A data.frame: 1 × 2\n",
       "\\begin{tabular}{r|ll}\n",
       "  & Sizes & MI\\\\\n",
       "  & <dbl> & <dbl>\\\\\n",
       "\\hline\n",
       "\t81 & 6310 & 0.9134875\\\\\n",
       "\\end{tabular}\n"
      ],
      "text/markdown": [
       "\n",
       "A data.frame: 1 × 2\n",
       "\n",
       "| <!--/--> | Sizes &lt;dbl&gt; | MI &lt;dbl&gt; |\n",
       "|---|---|---|\n",
       "| 81 | 6310 | 0.9134875 |\n",
       "\n"
      ],
      "text/plain": [
       "   Sizes MI       \n",
       "81 6310  0.9134875"
      ]
     },
     "metadata": {},
     "output_type": "display_data"
    }
   ],
   "source": [
    "#MI\n",
    "scores[which.max(scores$\"MI\"), c(\"Sizes\", \"MI\")]"
   ]
  },
  {
   "cell_type": "code",
   "execution_count": 206,
   "metadata": {
    "scrolled": false
   },
   "outputs": [
    {
     "data": {
      "text/html": [
       "<table class=\"dataframe\">\n",
       "<caption>A data.frame: 1 × 2</caption>\n",
       "<thead>\n",
       "\t<tr><th></th><th scope=col>Sizes</th><th scope=col>Frequencies</th></tr>\n",
       "\t<tr><th></th><th scope=col>&lt;dbl&gt;</th><th scope=col>&lt;dbl&gt;</th></tr>\n",
       "</thead>\n",
       "<tbody>\n",
       "\t<tr><th scope=row>94</th><td>8512</td><td>0.9143887</td></tr>\n",
       "</tbody>\n",
       "</table>\n"
      ],
      "text/latex": [
       "A data.frame: 1 × 2\n",
       "\\begin{tabular}{r|ll}\n",
       "  & Sizes & Frequencies\\\\\n",
       "  & <dbl> & <dbl>\\\\\n",
       "\\hline\n",
       "\t94 & 8512 & 0.9143887\\\\\n",
       "\\end{tabular}\n"
      ],
      "text/markdown": [
       "\n",
       "A data.frame: 1 × 2\n",
       "\n",
       "| <!--/--> | Sizes &lt;dbl&gt; | Frequencies &lt;dbl&gt; |\n",
       "|---|---|---|\n",
       "| 94 | 8512 | 0.9143887 |\n",
       "\n"
      ],
      "text/plain": [
       "   Sizes Frequencies\n",
       "94 8512  0.9143887  "
      ]
     },
     "metadata": {},
     "output_type": "display_data"
    }
   ],
   "source": [
    "#Frequencies\n",
    "scores[which.max(scores$\"Frequencies\"), c(\"Sizes\", \"Frequencies\")]"
   ]
  },
  {
   "cell_type": "code",
   "execution_count": 226,
   "metadata": {
    "scrolled": true
   },
   "outputs": [
    {
     "data": {
      "text/html": [
       "<table class=\"dataframe\">\n",
       "<caption>A data.frame: 11 × 4</caption>\n",
       "<thead>\n",
       "\t<tr><th></th><th scope=col>Chi</th><th scope=col>MI</th><th scope=col>Frequencies</th><th scope=col>Sizes</th></tr>\n",
       "\t<tr><th></th><th scope=col>&lt;dbl&gt;</th><th scope=col>&lt;dbl&gt;</th><th scope=col>&lt;dbl&gt;</th><th scope=col>&lt;dbl&gt;</th></tr>\n",
       "</thead>\n",
       "<tbody>\n",
       "\t<tr><th scope=row>50</th><td>0.8936618</td><td>0.8999700</td><td>0.8912586</td><td>3091</td></tr>\n",
       "\t<tr><th scope=row>51</th><td>0.8945629</td><td>0.8999700</td><td>0.8921598</td><td>3163</td></tr>\n",
       "\t<tr><th scope=row>52</th><td>0.8945629</td><td>0.9002704</td><td>0.8921598</td><td>3236</td></tr>\n",
       "\t<tr><th scope=row>53</th><td>0.8954641</td><td>0.9026735</td><td>0.8936618</td><td>3312</td></tr>\n",
       "\t<tr><th scope=row>54</th><td>0.8963653</td><td>0.9032743</td><td>0.8942625</td><td>3389</td></tr>\n",
       "\t<tr><th scope=row>55</th><td>0.8978672</td><td>0.9038750</td><td>0.8942625</td><td>3468</td></tr>\n",
       "\t<tr><th scope=row>56</th><td>0.8981676</td><td>0.9041754</td><td>0.8969661</td><td>3549</td></tr>\n",
       "\t<tr><th scope=row>57</th><td>0.8978672</td><td>0.9044758</td><td>0.8966657</td><td>3631</td></tr>\n",
       "\t<tr><th scope=row>58</th><td>0.8984680</td><td>0.9044758</td><td>0.8978672</td><td>3716</td></tr>\n",
       "\t<tr><th scope=row>59</th><td>0.8984680</td><td>0.9053770</td><td>0.8978672</td><td>3802</td></tr>\n",
       "\t<tr><th scope=row>60</th><td>0.8984680</td><td>0.9062782</td><td>0.8981676</td><td>3891</td></tr>\n",
       "</tbody>\n",
       "</table>\n"
      ],
      "text/latex": [
       "A data.frame: 11 × 4\n",
       "\\begin{tabular}{r|llll}\n",
       "  & Chi & MI & Frequencies & Sizes\\\\\n",
       "  & <dbl> & <dbl> & <dbl> & <dbl>\\\\\n",
       "\\hline\n",
       "\t50 & 0.8936618 & 0.8999700 & 0.8912586 & 3091\\\\\n",
       "\t51 & 0.8945629 & 0.8999700 & 0.8921598 & 3163\\\\\n",
       "\t52 & 0.8945629 & 0.9002704 & 0.8921598 & 3236\\\\\n",
       "\t53 & 0.8954641 & 0.9026735 & 0.8936618 & 3312\\\\\n",
       "\t54 & 0.8963653 & 0.9032743 & 0.8942625 & 3389\\\\\n",
       "\t55 & 0.8978672 & 0.9038750 & 0.8942625 & 3468\\\\\n",
       "\t56 & 0.8981676 & 0.9041754 & 0.8969661 & 3549\\\\\n",
       "\t57 & 0.8978672 & 0.9044758 & 0.8966657 & 3631\\\\\n",
       "\t58 & 0.8984680 & 0.9044758 & 0.8978672 & 3716\\\\\n",
       "\t59 & 0.8984680 & 0.9053770 & 0.8978672 & 3802\\\\\n",
       "\t60 & 0.8984680 & 0.9062782 & 0.8981676 & 3891\\\\\n",
       "\\end{tabular}\n"
      ],
      "text/markdown": [
       "\n",
       "A data.frame: 11 × 4\n",
       "\n",
       "| <!--/--> | Chi &lt;dbl&gt; | MI &lt;dbl&gt; | Frequencies &lt;dbl&gt; | Sizes &lt;dbl&gt; |\n",
       "|---|---|---|---|---|\n",
       "| 50 | 0.8936618 | 0.8999700 | 0.8912586 | 3091 |\n",
       "| 51 | 0.8945629 | 0.8999700 | 0.8921598 | 3163 |\n",
       "| 52 | 0.8945629 | 0.9002704 | 0.8921598 | 3236 |\n",
       "| 53 | 0.8954641 | 0.9026735 | 0.8936618 | 3312 |\n",
       "| 54 | 0.8963653 | 0.9032743 | 0.8942625 | 3389 |\n",
       "| 55 | 0.8978672 | 0.9038750 | 0.8942625 | 3468 |\n",
       "| 56 | 0.8981676 | 0.9041754 | 0.8969661 | 3549 |\n",
       "| 57 | 0.8978672 | 0.9044758 | 0.8966657 | 3631 |\n",
       "| 58 | 0.8984680 | 0.9044758 | 0.8978672 | 3716 |\n",
       "| 59 | 0.8984680 | 0.9053770 | 0.8978672 | 3802 |\n",
       "| 60 | 0.8984680 | 0.9062782 | 0.8981676 | 3891 |\n",
       "\n"
      ],
      "text/plain": [
       "   Chi       MI        Frequencies Sizes\n",
       "50 0.8936618 0.8999700 0.8912586   3091 \n",
       "51 0.8945629 0.8999700 0.8921598   3163 \n",
       "52 0.8945629 0.9002704 0.8921598   3236 \n",
       "53 0.8954641 0.9026735 0.8936618   3312 \n",
       "54 0.8963653 0.9032743 0.8942625   3389 \n",
       "55 0.8978672 0.9038750 0.8942625   3468 \n",
       "56 0.8981676 0.9041754 0.8969661   3549 \n",
       "57 0.8978672 0.9044758 0.8966657   3631 \n",
       "58 0.8984680 0.9044758 0.8978672   3716 \n",
       "59 0.8984680 0.9053770 0.8978672   3802 \n",
       "60 0.8984680 0.9062782 0.8981676   3891 "
      ]
     },
     "metadata": {},
     "output_type": "display_data"
    }
   ],
   "source": [
    "scores[50:60,]"
   ]
  },
  {
   "cell_type": "markdown",
   "metadata": {},
   "source": [
    "### Confusion matrix\n",
    "We want to plot the confusion matrices, just to check what it is doing."
   ]
  },
  {
   "cell_type": "code",
   "execution_count": 207,
   "metadata": {
    "vscode": {
     "languageId": "r"
    }
   },
   "outputs": [],
   "source": [
    "#Returns predicted labels on validation set\n",
    "fit <- function(size, ordered.vocabulary){\n",
    "    vocab.short <- ordered.vocabulary[1:size, ]\n",
    "    \n",
    "    #Priors\n",
    "    p.c <- log(NCs / n.records)\n",
    "\n",
    "    #Posteriors\n",
    "    posteriors.df <- vocab.short\n",
    "\n",
    "    for(class in 0:(Nclasses-1)){\n",
    "        posteriors.df[, class + 2] <- log(posteriors.df[, class + 2] / sum(posteriors.df[, class + 2]))\n",
    "    } \n",
    "    \n",
    "    \n",
    "    #Make predictions\n",
    "    predictions <- rep(0, length(validation.df$Text))\n",
    "    for(i in 1:length(validation.df$Text)){\n",
    "        record <- validation.df$Text[i]\n",
    "        words <- str_split_1(plain(record), \" \") \n",
    "        posteriors <- rep(0, Nclasses) #Posterior probabilities (we want to find the maximum)\n",
    "        for(class in 0:(Nclasses - 1)){\n",
    "            #For each class evaluate posterior\n",
    "            posterior <- p.c[class + 1]\n",
    "            for(word in words){\n",
    "                #Check if word in vocabulary\n",
    "                if(word %in% posteriors.df$Token){\n",
    "                    posterior <- posterior + posteriors.df[which(posteriors.df$Token == word) , class + 2]\n",
    "                }\n",
    "            }\n",
    "            posteriors[class + 1] <- posterior\n",
    "        }\n",
    "\n",
    "        predictions[i] <- which.max(posteriors) - 1\n",
    "    }\n",
    "    \n",
    "    return(predictions)\n",
    "}"
   ]
  },
  {
   "cell_type": "code",
   "execution_count": 208,
   "metadata": {},
   "outputs": [],
   "source": [
    "best.size <- scores[which.max(scores$\"MI\"), ]$\"Sizes\"  \n",
    "fit.best <- fit(best.size, vocab.df.order.MI)"
   ]
  },
  {
   "cell_type": "code",
   "execution_count": 209,
   "metadata": {
    "scrolled": false
   },
   "outputs": [
    {
     "data": {
      "text/html": [
       "6310"
      ],
      "text/latex": [
       "6310"
      ],
      "text/markdown": [
       "6310"
      ],
      "text/plain": [
       "[1] 6310"
      ]
     },
     "metadata": {},
     "output_type": "display_data"
    }
   ],
   "source": [
    "best.size"
   ]
  },
  {
   "cell_type": "code",
   "execution_count": 210,
   "metadata": {},
   "outputs": [],
   "source": [
    "#Compute confusion matrix on validation set\n",
    "label.names <- c(\"True\", \"False\")\n",
    "cm <- table(validation.df$Labels, fit.best)\n",
    "row.sums <- rowSums(cm)\n",
    "cm <- cm / row.sums\n",
    "cm <- as.data.frame(cm)"
   ]
  },
  {
   "cell_type": "code",
   "execution_count": 211,
   "metadata": {
    "scrolled": true
   },
   "outputs": [
    {
     "data": {
      "image/png": "[encoded data removed]",
      "text/plain": [
       "plot without title"
      ]
     },
     "metadata": {
      "image/png": {
       "height": 480,
       "width": 540
      }
     },
     "output_type": "display_data"
    }
   ],
   "source": [
    "#Plot confusion matrix\n",
    "options(repr.plot.width=9, repr.plot.height=8)\n",
    "\n",
    "\n",
    "confusion.plot <- ggplot(cm, aes(x = fit.best, y = Var1, fill = Freq)) +\n",
    "      geom_tile() + scale_fill_distiller(palette = \"Blues\", direction = +1) + \n",
    "  labs(title = \"Confusion Matrix, Kulmar dataset\", x = \"Predicted\", y = \"Actual\", fill = NULL) + \n",
    "geom_text(aes(label = round(Freq, digits = 3)), color = \"black\", size = 6)\n",
    "\n",
    "confusion.plot +\n",
    "    theme(text = element_text(size=18),\n",
    "        axis.text.x = element_text(angle=90, hjust=1)) +\n",
    "          theme(axis.title.x = element_text(margin = margin(t = 10, r = 20, b = 0, l = 0)))+\n",
    "              theme(axis.title.y = element_text(margin = margin(t = 0, r = 20, b = 0, l = 0))) + \n",
    "                    scale_x_discrete(labels = label.names) + scale_y_discrete(labels = label.names)"
   ]
  },
  {
   "cell_type": "markdown",
   "metadata": {},
   "source": [
    "## Test set\n",
    "\n",
    "We want to try this classifier on the test set, to see what score we get."
   ]
  },
  {
   "cell_type": "code",
   "execution_count": 212,
   "metadata": {},
   "outputs": [],
   "source": [
    "test.df <- read.csv(dir_test,header=TRUE,sep=',')"
   ]
  },
  {
   "cell_type": "code",
   "execution_count": 213,
   "metadata": {},
   "outputs": [],
   "source": [
    "#Remove stopwords, punctuation etc...\n",
    "quotes <- get.quotes(test.df$title,sep=' ')\n",
    "\n",
    "#Two columns: test and ID\n",
    "test.df <- data.frame(Text = unlist(quotes), ID = test.df$id)\n",
    "\n",
    "#Lemmatisation\n",
    "test.df$Text <- lemmatize_strings(test.df$Text)\n",
    "\n",
    "#Token normalization\n",
    "test.df$Text <- str_replace_all(test.df$Text, regex(\"\\\\$[0-9]*\"), \"<MONEY>\")\n",
    "test.df$Text <- str_replace_all(test.df$Text, regex(\"(18|19|20)\\\\d{2}\"), \"<YEAR>\")\n",
    "test.df$Text <- str_replace_all(test.df$Text, regex(\"\\\\d+\"), \"<NUMBER>\")"
   ]
  },
  {
   "cell_type": "code",
   "execution_count": 214,
   "metadata": {
    "scrolled": true
   },
   "outputs": [
    {
     "data": {
      "text/html": [
       "<table class=\"dataframe\">\n",
       "<caption>A data.frame: 6 × 2</caption>\n",
       "<thead>\n",
       "\t<tr><th></th><th scope=col>Text</th><th scope=col>ID</th></tr>\n",
       "\t<tr><th></th><th scope=col>&lt;chr&gt;</th><th scope=col>&lt;int&gt;</th></tr>\n",
       "</thead>\n",
       "<tbody>\n",
       "\t<tr><th scope=row>1</th><td>specter trump loosen tongue purse string silicon valley new york time</td><td>20800</td></tr>\n",
       "\t<tr><th scope=row>2</th><td>russian warship ready strike terrorist near aleppo                   </td><td>20801</td></tr>\n",
       "\t<tr><th scope=row>3</th><td>nodapl native american leader vow stay winter file lawsuit police    </td><td>20802</td></tr>\n",
       "\t<tr><th scope=row>4</th><td>tim tebow will attempt another comeback time baseball new york time  </td><td>20803</td></tr>\n",
       "\t<tr><th scope=row>5</th><td><span style=white-space:pre-wrap>keiser report meme war e&lt;NUMBER&gt;                                     </span></td><td>20804</td></tr>\n",
       "\t<tr><th scope=row>6</th><td>trump usa antique hero clinton will next president                   </td><td>20805</td></tr>\n",
       "</tbody>\n",
       "</table>\n"
      ],
      "text/latex": [
       "A data.frame: 6 × 2\n",
       "\\begin{tabular}{r|ll}\n",
       "  & Text & ID\\\\\n",
       "  & <chr> & <int>\\\\\n",
       "\\hline\n",
       "\t1 & specter trump loosen tongue purse string silicon valley new york time & 20800\\\\\n",
       "\t2 & russian warship ready strike terrorist near aleppo                    & 20801\\\\\n",
       "\t3 & nodapl native american leader vow stay winter file lawsuit police     & 20802\\\\\n",
       "\t4 & tim tebow will attempt another comeback time baseball new york time   & 20803\\\\\n",
       "\t5 & keiser report meme war e<NUMBER>                                      & 20804\\\\\n",
       "\t6 & trump usa antique hero clinton will next president                    & 20805\\\\\n",
       "\\end{tabular}\n"
      ],
      "text/markdown": [
       "\n",
       "A data.frame: 6 × 2\n",
       "\n",
       "| <!--/--> | Text &lt;chr&gt; | ID &lt;int&gt; |\n",
       "|---|---|---|\n",
       "| 1 | specter trump loosen tongue purse string silicon valley new york time | 20800 |\n",
       "| 2 | russian warship ready strike terrorist near aleppo                    | 20801 |\n",
       "| 3 | nodapl native american leader vow stay winter file lawsuit police     | 20802 |\n",
       "| 4 | tim tebow will attempt another comeback time baseball new york time   | 20803 |\n",
       "| 5 | keiser report meme war e&lt;NUMBER&gt;                                      | 20804 |\n",
       "| 6 | trump usa antique hero clinton will next president                    | 20805 |\n",
       "\n"
      ],
      "text/plain": [
       "  Text                                                                  ID   \n",
       "1 specter trump loosen tongue purse string silicon valley new york time 20800\n",
       "2 russian warship ready strike terrorist near aleppo                    20801\n",
       "3 nodapl native american leader vow stay winter file lawsuit police     20802\n",
       "4 tim tebow will attempt another comeback time baseball new york time   20803\n",
       "5 keiser report meme war e<NUMBER>                                      20804\n",
       "6 trump usa antique hero clinton will next president                    20805"
      ]
     },
     "metadata": {},
     "output_type": "display_data"
    }
   ],
   "source": [
    "head(test.df)"
   ]
  },
  {
   "cell_type": "code",
   "execution_count": 215,
   "metadata": {},
   "outputs": [],
   "source": [
    "fit.test <- function(size, ordered.vocab){\n",
    "    vocab.short <- ordered.vocab[1:size, ]\n",
    "    \n",
    "    #Priors\n",
    "    p.c <- log(NCs / n.records)\n",
    "\n",
    "    #Posteriors\n",
    "    posteriors.df <- vocab.short\n",
    "\n",
    "    for(class in 0:(Nclasses-1)){\n",
    "        posteriors.df[, class + 2] <- log(posteriors.df[, class + 2] / sum(posteriors.df[, class + 2]))\n",
    "    } \n",
    "    \n",
    "    \n",
    "    #Make predictions\n",
    "    predictions <- rep(0, length(test.df$Text))\n",
    "    for(i in 1:length(test.df$Text)){\n",
    "        record <- test.df$Text[i]\n",
    "        words <- str_split_1(plain(record), \" \") \n",
    "        posteriors <- rep(0, Nclasses) #Posterior probabilities (we want to find the maximum)\n",
    "        for(class in 0:(Nclasses - 1)){\n",
    "            #For each class evaluate posterior\n",
    "            posterior <- p.c[class + 1]\n",
    "            for(word in words){\n",
    "                #Check if word in vocabulary\n",
    "                if(word %in% posteriors.df$Token){\n",
    "                    posterior <- posterior + posteriors.df[which(posteriors.df$Token == word) , class + 2]\n",
    "                }\n",
    "            }\n",
    "            posteriors[class + 1] <- posterior\n",
    "        }\n",
    "\n",
    "        predictions[i] <- which.max(posteriors) - 1\n",
    "    }\n",
    "    \n",
    "    return(predictions)\n",
    "}"
   ]
  },
  {
   "cell_type": "code",
   "execution_count": 216,
   "metadata": {
    "scrolled": true
   },
   "outputs": [],
   "source": [
    "prediction <- fit.test(best.size, vocab.df.order.MI)"
   ]
  },
  {
   "cell_type": "code",
   "execution_count": 217,
   "metadata": {},
   "outputs": [],
   "source": [
    "submit.df <- data.frame(id = test.df$ID, label = prediction)"
   ]
  },
  {
   "cell_type": "code",
   "execution_count": 218,
   "metadata": {},
   "outputs": [
    {
     "data": {
      "text/html": [
       "<table class=\"dataframe\">\n",
       "<caption>A data.frame: 10 × 2</caption>\n",
       "<thead>\n",
       "\t<tr><th></th><th scope=col>id</th><th scope=col>label</th></tr>\n",
       "\t<tr><th></th><th scope=col>&lt;int&gt;</th><th scope=col>&lt;dbl&gt;</th></tr>\n",
       "</thead>\n",
       "<tbody>\n",
       "\t<tr><th scope=row>1</th><td>20800</td><td>0</td></tr>\n",
       "\t<tr><th scope=row>2</th><td>20801</td><td>1</td></tr>\n",
       "\t<tr><th scope=row>3</th><td>20802</td><td>1</td></tr>\n",
       "\t<tr><th scope=row>4</th><td>20803</td><td>0</td></tr>\n",
       "\t<tr><th scope=row>5</th><td>20804</td><td>1</td></tr>\n",
       "\t<tr><th scope=row>6</th><td>20805</td><td>1</td></tr>\n",
       "\t<tr><th scope=row>7</th><td>20806</td><td>0</td></tr>\n",
       "\t<tr><th scope=row>8</th><td>20807</td><td>0</td></tr>\n",
       "\t<tr><th scope=row>9</th><td>20808</td><td>1</td></tr>\n",
       "\t<tr><th scope=row>10</th><td>20809</td><td>0</td></tr>\n",
       "</tbody>\n",
       "</table>\n"
      ],
      "text/latex": [
       "A data.frame: 10 × 2\n",
       "\\begin{tabular}{r|ll}\n",
       "  & id & label\\\\\n",
       "  & <int> & <dbl>\\\\\n",
       "\\hline\n",
       "\t1 & 20800 & 0\\\\\n",
       "\t2 & 20801 & 1\\\\\n",
       "\t3 & 20802 & 1\\\\\n",
       "\t4 & 20803 & 0\\\\\n",
       "\t5 & 20804 & 1\\\\\n",
       "\t6 & 20805 & 1\\\\\n",
       "\t7 & 20806 & 0\\\\\n",
       "\t8 & 20807 & 0\\\\\n",
       "\t9 & 20808 & 1\\\\\n",
       "\t10 & 20809 & 0\\\\\n",
       "\\end{tabular}\n"
      ],
      "text/markdown": [
       "\n",
       "A data.frame: 10 × 2\n",
       "\n",
       "| <!--/--> | id &lt;int&gt; | label &lt;dbl&gt; |\n",
       "|---|---|---|\n",
       "| 1 | 20800 | 0 |\n",
       "| 2 | 20801 | 1 |\n",
       "| 3 | 20802 | 1 |\n",
       "| 4 | 20803 | 0 |\n",
       "| 5 | 20804 | 1 |\n",
       "| 6 | 20805 | 1 |\n",
       "| 7 | 20806 | 0 |\n",
       "| 8 | 20807 | 0 |\n",
       "| 9 | 20808 | 1 |\n",
       "| 10 | 20809 | 0 |\n",
       "\n"
      ],
      "text/plain": [
       "   id    label\n",
       "1  20800 0    \n",
       "2  20801 1    \n",
       "3  20802 1    \n",
       "4  20803 0    \n",
       "5  20804 1    \n",
       "6  20805 1    \n",
       "7  20806 0    \n",
       "8  20807 0    \n",
       "9  20808 1    \n",
       "10 20809 0    "
      ]
     },
     "metadata": {},
     "output_type": "display_data"
    }
   ],
   "source": [
    "head(submit.df, 10)"
   ]
  },
  {
   "cell_type": "code",
   "execution_count": 219,
   "metadata": {},
   "outputs": [],
   "source": [
    "write.csv(submit.df, \"data//trump//submit_def.csv\", row.names=FALSE)"
   ]
  }
 ],
 "metadata": {
  "kernelspec": {
   "display_name": "R",
   "language": "R",
   "name": "ir"
  },
  "language_info": {
   "codemirror_mode": "r",
   "file_extension": ".r",
   "mimetype": "text/x-r-source",
   "name": "R",
   "pygments_lexer": "r",
   "version": "4.1.2"
  }
 },
 "nbformat": 4,
 "nbformat_minor": 2
}
