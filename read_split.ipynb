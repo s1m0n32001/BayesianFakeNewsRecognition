{
 "cells": [
  {
   "cell_type": "code",
   "execution_count": 7,
   "metadata": {
    "vscode": {
     "languageId": "r"
    }
   },
   "outputs": [],
   "source": [
    "dir_train = 'data/train.csv'\n",
    "dir_test = 'data/test.csv'\n",
    "train.df = read.csv(dir_train,header=TRUE,sep=',')\n",
    "test.df = read.csv(dir_test,header=TRUE,sep=',')"
   ]
  },
  {
   "cell_type": "code",
   "execution_count": 8,
   "metadata": {
    "vscode": {
     "languageId": "r"
    }
   },
   "outputs": [
    {
     "data": {
      "text/html": [
       "<table class=\"dataframe\">\n",
       "<caption>A data.frame: 5 × 3</caption>\n",
       "<thead>\n",
       "\t<tr><th></th><th scope=col>Labels</th><th scope=col>Text</th><th scope=col>Text_Tag</th></tr>\n",
       "\t<tr><th></th><th scope=col>&lt;int&gt;</th><th scope=col>&lt;chr&gt;</th><th scope=col>&lt;chr&gt;</th></tr>\n",
       "</thead>\n",
       "<tbody>\n",
       "\t<tr><th scope=row>1</th><td>1</td><td>Says the Annies List political group supports third-trimester abortions on demand.                                                           </td><td>abortion                          </td></tr>\n",
       "\t<tr><th scope=row>2</th><td>2</td><td>When did the decline of coal start? It started when natural gas took off that started to begin in (President George W.) Bushs administration.</td><td>energy,history,job-accomplishments</td></tr>\n",
       "\t<tr><th scope=row>3</th><td>3</td><td>Hillary Clinton agrees with John McCain \"by voting to give George Bush the benefit of the doubt on Iran.\"                                    </td><td>foreign-policy                    </td></tr>\n",
       "\t<tr><th scope=row>4</th><td>1</td><td>Health care reform legislation is likely to mandate free sex change surgeries.                                                               </td><td>health-care                       </td></tr>\n",
       "\t<tr><th scope=row>5</th><td>2</td><td>The economic turnaround started at the end of my term.                                                                                       </td><td>economy,jobs                      </td></tr>\n",
       "</tbody>\n",
       "</table>\n"
      ],
      "text/latex": [
       "A data.frame: 5 × 3\n",
       "\\begin{tabular}{r|lll}\n",
       "  & Labels & Text & Text\\_Tag\\\\\n",
       "  & <int> & <chr> & <chr>\\\\\n",
       "\\hline\n",
       "\t1 & 1 & Says the Annies List political group supports third-trimester abortions on demand.                                                            & abortion                          \\\\\n",
       "\t2 & 2 & When did the decline of coal start? It started when natural gas took off that started to begin in (President George W.) Bushs administration. & energy,history,job-accomplishments\\\\\n",
       "\t3 & 3 & Hillary Clinton agrees with John McCain \"by voting to give George Bush the benefit of the doubt on Iran.\"                                     & foreign-policy                    \\\\\n",
       "\t4 & 1 & Health care reform legislation is likely to mandate free sex change surgeries.                                                                & health-care                       \\\\\n",
       "\t5 & 2 & The economic turnaround started at the end of my term.                                                                                        & economy,jobs                      \\\\\n",
       "\\end{tabular}\n"
      ],
      "text/markdown": [
       "\n",
       "A data.frame: 5 × 3\n",
       "\n",
       "| <!--/--> | Labels &lt;int&gt; | Text &lt;chr&gt; | Text_Tag &lt;chr&gt; |\n",
       "|---|---|---|---|\n",
       "| 1 | 1 | Says the Annies List political group supports third-trimester abortions on demand.                                                            | abortion                           |\n",
       "| 2 | 2 | When did the decline of coal start? It started when natural gas took off that started to begin in (President George W.) Bushs administration. | energy,history,job-accomplishments |\n",
       "| 3 | 3 | Hillary Clinton agrees with John McCain \"by voting to give George Bush the benefit of the doubt on Iran.\"                                     | foreign-policy                     |\n",
       "| 4 | 1 | Health care reform legislation is likely to mandate free sex change surgeries.                                                                | health-care                        |\n",
       "| 5 | 2 | The economic turnaround started at the end of my term.                                                                                        | economy,jobs                       |\n",
       "\n"
      ],
      "text/plain": [
       "  Labels\n",
       "1 1     \n",
       "2 2     \n",
       "3 3     \n",
       "4 1     \n",
       "5 2     \n",
       "  Text                                                                                                                                         \n",
       "1 Says the Annies List political group supports third-trimester abortions on demand.                                                           \n",
       "2 When did the decline of coal start? It started when natural gas took off that started to begin in (President George W.) Bushs administration.\n",
       "3 Hillary Clinton agrees with John McCain \"by voting to give George Bush the benefit of the doubt on Iran.\"                                    \n",
       "4 Health care reform legislation is likely to mandate free sex change surgeries.                                                               \n",
       "5 The economic turnaround started at the end of my term.                                                                                       \n",
       "  Text_Tag                          \n",
       "1 abortion                          \n",
       "2 energy,history,job-accomplishments\n",
       "3 foreign-policy                    \n",
       "4 health-care                       \n",
       "5 economy,jobs                      "
      ]
     },
     "metadata": {},
     "output_type": "display_data"
    }
   ],
   "source": [
    "head(train.df,5)"
   ]
  },
  {
   "cell_type": "code",
   "execution_count": 9,
   "metadata": {
    "vscode": {
     "languageId": "r"
    }
   },
   "outputs": [
    {
     "data": {
      "text/html": [
       "<table class=\"dataframe\">\n",
       "<caption>A data.frame: 5 × 2</caption>\n",
       "<thead>\n",
       "\t<tr><th></th><th scope=col>Text</th><th scope=col>Text_Tag</th></tr>\n",
       "\t<tr><th></th><th scope=col>&lt;chr&gt;</th><th scope=col>&lt;chr&gt;</th></tr>\n",
       "</thead>\n",
       "<tbody>\n",
       "\t<tr><th scope=row>1</th><td>Building a wall on the U.S.-Mexico border will take literally years.                                                           </td><td>immigration                                       </td></tr>\n",
       "\t<tr><th scope=row>2</th><td>Wisconsin is on pace to double the number of layoffs this year.                                                                </td><td>jobs                                              </td></tr>\n",
       "\t<tr><th scope=row>3</th><td>Says John McCain has done nothing to help the vets.                                                                            </td><td>military,veterans,voting-record                   </td></tr>\n",
       "\t<tr><th scope=row>4</th><td>Suzanne Bonamici supports a plan that will cut choice for Medicare Advantage seniors.                                          </td><td>medicare,message-machine-2012,campaign-advertising</td></tr>\n",
       "\t<tr><th scope=row>5</th><td>When asked by a reporter whether hes at the center of a criminal scheme to violate campaign laws, Gov. Scott Walker nodded yes.</td><td>campaign-finance,legal-issues,campaign-advertising</td></tr>\n",
       "</tbody>\n",
       "</table>\n"
      ],
      "text/latex": [
       "A data.frame: 5 × 2\n",
       "\\begin{tabular}{r|ll}\n",
       "  & Text & Text\\_Tag\\\\\n",
       "  & <chr> & <chr>\\\\\n",
       "\\hline\n",
       "\t1 & Building a wall on the U.S.-Mexico border will take literally years.                                                            & immigration                                       \\\\\n",
       "\t2 & Wisconsin is on pace to double the number of layoffs this year.                                                                 & jobs                                              \\\\\n",
       "\t3 & Says John McCain has done nothing to help the vets.                                                                             & military,veterans,voting-record                   \\\\\n",
       "\t4 & Suzanne Bonamici supports a plan that will cut choice for Medicare Advantage seniors.                                           & medicare,message-machine-2012,campaign-advertising\\\\\n",
       "\t5 & When asked by a reporter whether hes at the center of a criminal scheme to violate campaign laws, Gov. Scott Walker nodded yes. & campaign-finance,legal-issues,campaign-advertising\\\\\n",
       "\\end{tabular}\n"
      ],
      "text/markdown": [
       "\n",
       "A data.frame: 5 × 2\n",
       "\n",
       "| <!--/--> | Text &lt;chr&gt; | Text_Tag &lt;chr&gt; |\n",
       "|---|---|---|\n",
       "| 1 | Building a wall on the U.S.-Mexico border will take literally years.                                                            | immigration                                        |\n",
       "| 2 | Wisconsin is on pace to double the number of layoffs this year.                                                                 | jobs                                               |\n",
       "| 3 | Says John McCain has done nothing to help the vets.                                                                             | military,veterans,voting-record                    |\n",
       "| 4 | Suzanne Bonamici supports a plan that will cut choice for Medicare Advantage seniors.                                           | medicare,message-machine-2012,campaign-advertising |\n",
       "| 5 | When asked by a reporter whether hes at the center of a criminal scheme to violate campaign laws, Gov. Scott Walker nodded yes. | campaign-finance,legal-issues,campaign-advertising |\n",
       "\n"
      ],
      "text/plain": [
       "  Text                                                                                                                           \n",
       "1 Building a wall on the U.S.-Mexico border will take literally years.                                                           \n",
       "2 Wisconsin is on pace to double the number of layoffs this year.                                                                \n",
       "3 Says John McCain has done nothing to help the vets.                                                                            \n",
       "4 Suzanne Bonamici supports a plan that will cut choice for Medicare Advantage seniors.                                          \n",
       "5 When asked by a reporter whether hes at the center of a criminal scheme to violate campaign laws, Gov. Scott Walker nodded yes.\n",
       "  Text_Tag                                          \n",
       "1 immigration                                       \n",
       "2 jobs                                              \n",
       "3 military,veterans,voting-record                   \n",
       "4 medicare,message-machine-2012,campaign-advertising\n",
       "5 campaign-finance,legal-issues,campaign-advertising"
      ]
     },
     "metadata": {},
     "output_type": "display_data"
    }
   ],
   "source": [
    "head(test.df,5)"
   ]
  },
  {
   "cell_type": "code",
   "execution_count": 13,
   "metadata": {
    "vscode": {
     "languageId": "r"
    }
   },
   "outputs": [
    {
     "data": {
      "text/html": [
       "1267"
      ],
      "text/latex": [
       "1267"
      ],
      "text/markdown": [
       "1267"
      ],
      "text/plain": [
       "[1] 1267"
      ]
     },
     "metadata": {},
     "output_type": "display_data"
    }
   ],
   "source": [
    "length(train.df$Text)"
   ]
  },
  {
   "cell_type": "code",
   "execution_count": null,
   "metadata": {
    "vscode": {
     "languageId": "r"
    }
   },
   "outputs": [],
   "source": []
  }
 ],
 "metadata": {
  "kernelspec": {
   "display_name": "R",
   "language": "R",
   "name": "ir"
  },
  "language_info": {
   "codemirror_mode": "r",
   "file_extension": ".r",
   "mimetype": "text/x-r-source",
   "name": "R",
   "pygments_lexer": "r",
   "version": "4.2.2"
  },
  "orig_nbformat": 4
 },
 "nbformat": 4,
 "nbformat_minor": 2
}
