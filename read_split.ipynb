{
 "cells": [
  {
   "cell_type": "code",
   "execution_count": 1,
   "metadata": {
    "vscode": {
     "languageId": "r"
    }
   },
   "outputs": [],
   "source": [
    "library(stringr)"
   ]
  },
  {
   "cell_type": "code",
   "execution_count": 2,
   "metadata": {
    "vscode": {
     "languageId": "r"
    }
   },
   "outputs": [],
   "source": [
    "dir_train = 'data/train.csv'\n",
    "dir_test = 'data/test.csv'\n",
    "train.df = read.csv(dir_train,header=TRUE,sep=',')\n",
    "test.df = read.csv(dir_test,header=TRUE,sep=',')"
   ]
  },
  {
   "cell_type": "code",
   "execution_count": 3,
   "metadata": {
    "vscode": {
     "languageId": "r"
    }
   },
   "outputs": [
    {
     "data": {
      "text/html": [
       "<table class=\"dataframe\">\n",
       "<caption>A data.frame: 5 × 3</caption>\n",
       "<thead>\n",
       "\t<tr><th></th><th scope=col>Labels</th><th scope=col>Text</th><th scope=col>Text_Tag</th></tr>\n",
       "\t<tr><th></th><th scope=col>&lt;int&gt;</th><th scope=col>&lt;chr&gt;</th><th scope=col>&lt;chr&gt;</th></tr>\n",
       "</thead>\n",
       "<tbody>\n",
       "\t<tr><th scope=row>1</th><td>1</td><td>Says the Annies List political group supports third-trimester abortions on demand.                                                           </td><td>abortion                          </td></tr>\n",
       "\t<tr><th scope=row>2</th><td>2</td><td>When did the decline of coal start? It started when natural gas took off that started to begin in (President George W.) Bushs administration.</td><td>energy,history,job-accomplishments</td></tr>\n",
       "\t<tr><th scope=row>3</th><td>3</td><td>Hillary Clinton agrees with John McCain \"by voting to give George Bush the benefit of the doubt on Iran.\"                                    </td><td>foreign-policy                    </td></tr>\n",
       "\t<tr><th scope=row>4</th><td>1</td><td>Health care reform legislation is likely to mandate free sex change surgeries.                                                               </td><td>health-care                       </td></tr>\n",
       "\t<tr><th scope=row>5</th><td>2</td><td>The economic turnaround started at the end of my term.                                                                                       </td><td>economy,jobs                      </td></tr>\n",
       "</tbody>\n",
       "</table>\n"
      ],
      "text/latex": [
       "A data.frame: 5 × 3\n",
       "\\begin{tabular}{r|lll}\n",
       "  & Labels & Text & Text\\_Tag\\\\\n",
       "  & <int> & <chr> & <chr>\\\\\n",
       "\\hline\n",
       "\t1 & 1 & Says the Annies List political group supports third-trimester abortions on demand.                                                            & abortion                          \\\\\n",
       "\t2 & 2 & When did the decline of coal start? It started when natural gas took off that started to begin in (President George W.) Bushs administration. & energy,history,job-accomplishments\\\\\n",
       "\t3 & 3 & Hillary Clinton agrees with John McCain \"by voting to give George Bush the benefit of the doubt on Iran.\"                                     & foreign-policy                    \\\\\n",
       "\t4 & 1 & Health care reform legislation is likely to mandate free sex change surgeries.                                                                & health-care                       \\\\\n",
       "\t5 & 2 & The economic turnaround started at the end of my term.                                                                                        & economy,jobs                      \\\\\n",
       "\\end{tabular}\n"
      ],
      "text/markdown": [
       "\n",
       "A data.frame: 5 × 3\n",
       "\n",
       "| <!--/--> | Labels &lt;int&gt; | Text &lt;chr&gt; | Text_Tag &lt;chr&gt; |\n",
       "|---|---|---|---|\n",
       "| 1 | 1 | Says the Annies List political group supports third-trimester abortions on demand.                                                            | abortion                           |\n",
       "| 2 | 2 | When did the decline of coal start? It started when natural gas took off that started to begin in (President George W.) Bushs administration. | energy,history,job-accomplishments |\n",
       "| 3 | 3 | Hillary Clinton agrees with John McCain \"by voting to give George Bush the benefit of the doubt on Iran.\"                                     | foreign-policy                     |\n",
       "| 4 | 1 | Health care reform legislation is likely to mandate free sex change surgeries.                                                                | health-care                        |\n",
       "| 5 | 2 | The economic turnaround started at the end of my term.                                                                                        | economy,jobs                       |\n",
       "\n"
      ],
      "text/plain": [
       "  Labels\n",
       "1 1     \n",
       "2 2     \n",
       "3 3     \n",
       "4 1     \n",
       "5 2     \n",
       "  Text                                                                                                                                         \n",
       "1 Says the Annies List political group supports third-trimester abortions on demand.                                                           \n",
       "2 When did the decline of coal start? It started when natural gas took off that started to begin in (President George W.) Bushs administration.\n",
       "3 Hillary Clinton agrees with John McCain \"by voting to give George Bush the benefit of the doubt on Iran.\"                                    \n",
       "4 Health care reform legislation is likely to mandate free sex change surgeries.                                                               \n",
       "5 The economic turnaround started at the end of my term.                                                                                       \n",
       "  Text_Tag                          \n",
       "1 abortion                          \n",
       "2 energy,history,job-accomplishments\n",
       "3 foreign-policy                    \n",
       "4 health-care                       \n",
       "5 economy,jobs                      "
      ]
     },
     "metadata": {},
     "output_type": "display_data"
    }
   ],
   "source": [
    "head(train.df,5)"
   ]
  },
  {
   "cell_type": "code",
   "execution_count": 4,
   "metadata": {
    "vscode": {
     "languageId": "r"
    }
   },
   "outputs": [
    {
     "data": {
      "text/html": [
       "<table class=\"dataframe\">\n",
       "<caption>A data.frame: 5 × 2</caption>\n",
       "<thead>\n",
       "\t<tr><th></th><th scope=col>Text</th><th scope=col>Text_Tag</th></tr>\n",
       "\t<tr><th></th><th scope=col>&lt;chr&gt;</th><th scope=col>&lt;chr&gt;</th></tr>\n",
       "</thead>\n",
       "<tbody>\n",
       "\t<tr><th scope=row>1</th><td>Building a wall on the U.S.-Mexico border will take literally years.                                                           </td><td>immigration                                       </td></tr>\n",
       "\t<tr><th scope=row>2</th><td>Wisconsin is on pace to double the number of layoffs this year.                                                                </td><td>jobs                                              </td></tr>\n",
       "\t<tr><th scope=row>3</th><td>Says John McCain has done nothing to help the vets.                                                                            </td><td>military,veterans,voting-record                   </td></tr>\n",
       "\t<tr><th scope=row>4</th><td>Suzanne Bonamici supports a plan that will cut choice for Medicare Advantage seniors.                                          </td><td>medicare,message-machine-2012,campaign-advertising</td></tr>\n",
       "\t<tr><th scope=row>5</th><td>When asked by a reporter whether hes at the center of a criminal scheme to violate campaign laws, Gov. Scott Walker nodded yes.</td><td>campaign-finance,legal-issues,campaign-advertising</td></tr>\n",
       "</tbody>\n",
       "</table>\n"
      ],
      "text/latex": [
       "A data.frame: 5 × 2\n",
       "\\begin{tabular}{r|ll}\n",
       "  & Text & Text\\_Tag\\\\\n",
       "  & <chr> & <chr>\\\\\n",
       "\\hline\n",
       "\t1 & Building a wall on the U.S.-Mexico border will take literally years.                                                            & immigration                                       \\\\\n",
       "\t2 & Wisconsin is on pace to double the number of layoffs this year.                                                                 & jobs                                              \\\\\n",
       "\t3 & Says John McCain has done nothing to help the vets.                                                                             & military,veterans,voting-record                   \\\\\n",
       "\t4 & Suzanne Bonamici supports a plan that will cut choice for Medicare Advantage seniors.                                           & medicare,message-machine-2012,campaign-advertising\\\\\n",
       "\t5 & When asked by a reporter whether hes at the center of a criminal scheme to violate campaign laws, Gov. Scott Walker nodded yes. & campaign-finance,legal-issues,campaign-advertising\\\\\n",
       "\\end{tabular}\n"
      ],
      "text/markdown": [
       "\n",
       "A data.frame: 5 × 2\n",
       "\n",
       "| <!--/--> | Text &lt;chr&gt; | Text_Tag &lt;chr&gt; |\n",
       "|---|---|---|\n",
       "| 1 | Building a wall on the U.S.-Mexico border will take literally years.                                                            | immigration                                        |\n",
       "| 2 | Wisconsin is on pace to double the number of layoffs this year.                                                                 | jobs                                               |\n",
       "| 3 | Says John McCain has done nothing to help the vets.                                                                             | military,veterans,voting-record                    |\n",
       "| 4 | Suzanne Bonamici supports a plan that will cut choice for Medicare Advantage seniors.                                           | medicare,message-machine-2012,campaign-advertising |\n",
       "| 5 | When asked by a reporter whether hes at the center of a criminal scheme to violate campaign laws, Gov. Scott Walker nodded yes. | campaign-finance,legal-issues,campaign-advertising |\n",
       "\n"
      ],
      "text/plain": [
       "  Text                                                                                                                           \n",
       "1 Building a wall on the U.S.-Mexico border will take literally years.                                                           \n",
       "2 Wisconsin is on pace to double the number of layoffs this year.                                                                \n",
       "3 Says John McCain has done nothing to help the vets.                                                                            \n",
       "4 Suzanne Bonamici supports a plan that will cut choice for Medicare Advantage seniors.                                          \n",
       "5 When asked by a reporter whether hes at the center of a criminal scheme to violate campaign laws, Gov. Scott Walker nodded yes.\n",
       "  Text_Tag                                          \n",
       "1 immigration                                       \n",
       "2 jobs                                              \n",
       "3 military,veterans,voting-record                   \n",
       "4 medicare,message-machine-2012,campaign-advertising\n",
       "5 campaign-finance,legal-issues,campaign-advertising"
      ]
     },
     "metadata": {},
     "output_type": "display_data"
    }
   ],
   "source": [
    "head(test.df,5)"
   ]
  },
  {
   "cell_type": "code",
   "execution_count": 187,
   "metadata": {
    "vscode": {
     "languageId": "r"
    }
   },
   "outputs": [],
   "source": [
    "plain <- function(word){\n",
    "    word = str_to_lower(str_remove_all(word,'[.:;!?*@#()]'))\n",
    "    return(word) \n",
    "}\n",
    "\n",
    "get.tags <- function (tags.bag,sep,sortit=FALSE) {\n",
    "    all.tags = c()\n",
    "    for (record in tags.bag){\n",
    "        temp.tags = str_split_1(record,sep)\n",
    "        for (word in temp.tags) {\n",
    "            word = plain(word)\n",
    "            if (word %in% all.tags == FALSE & word != '') {\n",
    "                    all.tags = c(all.tags,str_to_lower(word))\n",
    "                } \n",
    "            }\n",
    "        }\n",
    "    if (sortit) {all.tags = sort(all.tags)}\n",
    "    return(all.tags)\n",
    "}\n",
    "\n",
    "get.quotes <- function (quotes.bag,sep) {\n",
    "    all.quotes = list()\n",
    "    for (record in quotes.bag){\n",
    "        temp.q = plain(str_split_1(record,sep))\n",
    "        \n",
    "        all.quotes = c(all.quotes,temp.q)\n",
    "        }\n",
    "\n",
    "    return(all.quotes)\n",
    "}"
   ]
  },
  {
   "cell_type": "code",
   "execution_count": 53,
   "metadata": {
    "vscode": {
     "languageId": "r"
    }
   },
   "outputs": [],
   "source": [
    "train.tags = get.tags(train.df$Text_Tag,sep=',',sortit=TRUE)\n",
    "test.tags = get.tags(test.df$Text_Tag,sep=',',sortit=TRUE)    \n",
    "vocabulray = get.tags(train.df$Text,sep=' ')"
   ]
  },
  {
   "cell_type": "code",
   "execution_count": 188,
   "metadata": {
    "vscode": {
     "languageId": "r"
    }
   },
   "outputs": [],
   "source": [
    "quotes = get.quotes(test.df$Text,sep=' ')"
   ]
  },
  {
   "cell_type": "code",
   "execution_count": 189,
   "metadata": {
    "vscode": {
     "languageId": "r"
    }
   },
   "outputs": [
    {
     "data": {
      "text/html": [
       "<ol>\n",
       "\t<li>'a'</li>\n",
       "</ol>\n"
      ],
      "text/latex": [
       "\\begin{enumerate}\n",
       "\\item 'a'\n",
       "\\end{enumerate}\n"
      ],
      "text/markdown": [
       "1. 'a'\n",
       "\n",
       "\n"
      ],
      "text/plain": [
       "[[1]]\n",
       "[1] \"a\"\n"
      ]
     },
     "metadata": {},
     "output_type": "display_data"
    }
   ],
   "source": [
    "quotes[2]"
   ]
  },
  {
   "cell_type": "code",
   "execution_count": 153,
   "metadata": {
    "vscode": {
     "languageId": "r"
    }
   },
   "outputs": [
    {
     "data": {
      "text/html": [
       "<style>\n",
       ".list-inline {list-style: none; margin:0; padding: 0}\n",
       ".list-inline>li {display: inline-block}\n",
       ".list-inline>li:not(:last-child)::after {content: \"\\00b7\"; padding: 0 .5ex}\n",
       "</style>\n",
       "<ol class=list-inline><li>'abc-news-week'</li><li>'abortion'</li><li>'afghanistan'</li><li>'agriculture'</li><li>'alcohol'</li><li>'animals'</li><li>'bankruptcy'</li><li>'baseball'</li><li>'bipartisanship'</li><li>'bush-administration'</li><li>'campaign-advertising'</li><li>'campaign-finance'</li><li>'candidates-biography'</li><li>'cap-and-trade'</li><li>'census'</li><li>'children'</li><li>'china'</li><li>'city-budget'</li><li>'city-government'</li><li>'civil-rights'</li><li>'climate-change'</li><li>'congress'</li><li>'congressional-rules'</li><li>'consumer-safety'</li><li>'corporations'</li><li>'corrections-and-updates'</li><li>'county-budget'</li><li>'county-government'</li><li>'crime'</li><li>'criminal-justice'</li><li>'debates'</li><li>'debt'</li><li>'deficit'</li><li>'disability'</li><li>'diversity'</li><li>'drugs'</li><li>'ebola'</li><li>'economy'</li><li>'education'</li><li>'elections'</li><li>'energy'</li><li>'environment'</li><li>'ethics'</li><li>'fake-news'</li><li>'families'</li><li>'federal-budget'</li><li>'financial-regulation'</li><li>'florida'</li><li>'food-safety'</li><li>'foreign-policy'</li><li>'gambling'</li><li>'gas-prices'</li><li>'gays-and-lesbians'</li><li>'government-efficiency'</li><li>'government-regulation'</li><li>'guns'</li><li>'health-care'</li><li>'history'</li><li>'homeland-security'</li><li>'housing'</li><li>'human-rights'</li><li>'hunger'</li><li>'immigration'</li><li>'income'</li><li>'infrastructure'</li><li>'iraq'</li><li>'islam'</li><li>'israel'</li><li>'job-accomplishments'</li><li>'jobs'</li><li>'kagan-nomination'</li><li>'labor'</li><li>'legal-issues'</li><li>'marijuana'</li><li>'market-regulation'</li><li>'marriage'</li><li>'medicaid'</li><li>'medicare'</li><li>'message-machine'</li><li>'message-machine-2012'</li><li>'message-machine-2014'</li><li>'military'</li><li>'natural-disasters'</li><li>'new-hampshire-2012'</li><li>'nightlife'</li><li>'nuclear'</li><li>'obama-birth-certificate'</li><li>'occupy-wall-street'</li><li>'oil-spill'</li><li>'patriotism'</li><li>'pensions'</li><li>'politifacts-top-promises'</li><li>'polls'</li><li>'pop-culture'</li><li>'population'</li><li>'poverty'</li><li>'privacy'</li><li>'public-health'</li><li>'public-safety'</li><li>'public-service'</li><li>'pundits'</li><li>'recreation'</li><li>'redistricting'</li><li>'religion'</li><li>'retirement'</li><li>'science'</li><li>'sexuality'</li><li>'small-business'</li><li>'social-security'</li><li>'sotomayor-nomination'</li><li>'space'</li><li>'sports'</li><li>'state-budget'</li><li>'state-finances'</li><li>'states'</li><li>'stimulus'</li><li>'supreme-court'</li><li>'taxes'</li><li>'technology'</li><li>'terrorism'</li><li>'tourism'</li><li>'trade'</li><li>'transparency'</li><li>'transportation'</li><li>'unions'</li><li>'urban'</li><li>'veterans'</li><li>'voting-record'</li><li>'water'</li><li>'wealth'</li><li>'weather'</li><li>'welfare'</li><li>'women'</li><li>'workers'</li></ol>\n"
      ],
      "text/latex": [
       "\\begin{enumerate*}\n",
       "\\item 'abc-news-week'\n",
       "\\item 'abortion'\n",
       "\\item 'afghanistan'\n",
       "\\item 'agriculture'\n",
       "\\item 'alcohol'\n",
       "\\item 'animals'\n",
       "\\item 'bankruptcy'\n",
       "\\item 'baseball'\n",
       "\\item 'bipartisanship'\n",
       "\\item 'bush-administration'\n",
       "\\item 'campaign-advertising'\n",
       "\\item 'campaign-finance'\n",
       "\\item 'candidates-biography'\n",
       "\\item 'cap-and-trade'\n",
       "\\item 'census'\n",
       "\\item 'children'\n",
       "\\item 'china'\n",
       "\\item 'city-budget'\n",
       "\\item 'city-government'\n",
       "\\item 'civil-rights'\n",
       "\\item 'climate-change'\n",
       "\\item 'congress'\n",
       "\\item 'congressional-rules'\n",
       "\\item 'consumer-safety'\n",
       "\\item 'corporations'\n",
       "\\item 'corrections-and-updates'\n",
       "\\item 'county-budget'\n",
       "\\item 'county-government'\n",
       "\\item 'crime'\n",
       "\\item 'criminal-justice'\n",
       "\\item 'debates'\n",
       "\\item 'debt'\n",
       "\\item 'deficit'\n",
       "\\item 'disability'\n",
       "\\item 'diversity'\n",
       "\\item 'drugs'\n",
       "\\item 'ebola'\n",
       "\\item 'economy'\n",
       "\\item 'education'\n",
       "\\item 'elections'\n",
       "\\item 'energy'\n",
       "\\item 'environment'\n",
       "\\item 'ethics'\n",
       "\\item 'fake-news'\n",
       "\\item 'families'\n",
       "\\item 'federal-budget'\n",
       "\\item 'financial-regulation'\n",
       "\\item 'florida'\n",
       "\\item 'food-safety'\n",
       "\\item 'foreign-policy'\n",
       "\\item 'gambling'\n",
       "\\item 'gas-prices'\n",
       "\\item 'gays-and-lesbians'\n",
       "\\item 'government-efficiency'\n",
       "\\item 'government-regulation'\n",
       "\\item 'guns'\n",
       "\\item 'health-care'\n",
       "\\item 'history'\n",
       "\\item 'homeland-security'\n",
       "\\item 'housing'\n",
       "\\item 'human-rights'\n",
       "\\item 'hunger'\n",
       "\\item 'immigration'\n",
       "\\item 'income'\n",
       "\\item 'infrastructure'\n",
       "\\item 'iraq'\n",
       "\\item 'islam'\n",
       "\\item 'israel'\n",
       "\\item 'job-accomplishments'\n",
       "\\item 'jobs'\n",
       "\\item 'kagan-nomination'\n",
       "\\item 'labor'\n",
       "\\item 'legal-issues'\n",
       "\\item 'marijuana'\n",
       "\\item 'market-regulation'\n",
       "\\item 'marriage'\n",
       "\\item 'medicaid'\n",
       "\\item 'medicare'\n",
       "\\item 'message-machine'\n",
       "\\item 'message-machine-2012'\n",
       "\\item 'message-machine-2014'\n",
       "\\item 'military'\n",
       "\\item 'natural-disasters'\n",
       "\\item 'new-hampshire-2012'\n",
       "\\item 'nightlife'\n",
       "\\item 'nuclear'\n",
       "\\item 'obama-birth-certificate'\n",
       "\\item 'occupy-wall-street'\n",
       "\\item 'oil-spill'\n",
       "\\item 'patriotism'\n",
       "\\item 'pensions'\n",
       "\\item 'politifacts-top-promises'\n",
       "\\item 'polls'\n",
       "\\item 'pop-culture'\n",
       "\\item 'population'\n",
       "\\item 'poverty'\n",
       "\\item 'privacy'\n",
       "\\item 'public-health'\n",
       "\\item 'public-safety'\n",
       "\\item 'public-service'\n",
       "\\item 'pundits'\n",
       "\\item 'recreation'\n",
       "\\item 'redistricting'\n",
       "\\item 'religion'\n",
       "\\item 'retirement'\n",
       "\\item 'science'\n",
       "\\item 'sexuality'\n",
       "\\item 'small-business'\n",
       "\\item 'social-security'\n",
       "\\item 'sotomayor-nomination'\n",
       "\\item 'space'\n",
       "\\item 'sports'\n",
       "\\item 'state-budget'\n",
       "\\item 'state-finances'\n",
       "\\item 'states'\n",
       "\\item 'stimulus'\n",
       "\\item 'supreme-court'\n",
       "\\item 'taxes'\n",
       "\\item 'technology'\n",
       "\\item 'terrorism'\n",
       "\\item 'tourism'\n",
       "\\item 'trade'\n",
       "\\item 'transparency'\n",
       "\\item 'transportation'\n",
       "\\item 'unions'\n",
       "\\item 'urban'\n",
       "\\item 'veterans'\n",
       "\\item 'voting-record'\n",
       "\\item 'water'\n",
       "\\item 'wealth'\n",
       "\\item 'weather'\n",
       "\\item 'welfare'\n",
       "\\item 'women'\n",
       "\\item 'workers'\n",
       "\\end{enumerate*}\n"
      ],
      "text/markdown": [
       "1. 'abc-news-week'\n",
       "2. 'abortion'\n",
       "3. 'afghanistan'\n",
       "4. 'agriculture'\n",
       "5. 'alcohol'\n",
       "6. 'animals'\n",
       "7. 'bankruptcy'\n",
       "8. 'baseball'\n",
       "9. 'bipartisanship'\n",
       "10. 'bush-administration'\n",
       "11. 'campaign-advertising'\n",
       "12. 'campaign-finance'\n",
       "13. 'candidates-biography'\n",
       "14. 'cap-and-trade'\n",
       "15. 'census'\n",
       "16. 'children'\n",
       "17. 'china'\n",
       "18. 'city-budget'\n",
       "19. 'city-government'\n",
       "20. 'civil-rights'\n",
       "21. 'climate-change'\n",
       "22. 'congress'\n",
       "23. 'congressional-rules'\n",
       "24. 'consumer-safety'\n",
       "25. 'corporations'\n",
       "26. 'corrections-and-updates'\n",
       "27. 'county-budget'\n",
       "28. 'county-government'\n",
       "29. 'crime'\n",
       "30. 'criminal-justice'\n",
       "31. 'debates'\n",
       "32. 'debt'\n",
       "33. 'deficit'\n",
       "34. 'disability'\n",
       "35. 'diversity'\n",
       "36. 'drugs'\n",
       "37. 'ebola'\n",
       "38. 'economy'\n",
       "39. 'education'\n",
       "40. 'elections'\n",
       "41. 'energy'\n",
       "42. 'environment'\n",
       "43. 'ethics'\n",
       "44. 'fake-news'\n",
       "45. 'families'\n",
       "46. 'federal-budget'\n",
       "47. 'financial-regulation'\n",
       "48. 'florida'\n",
       "49. 'food-safety'\n",
       "50. 'foreign-policy'\n",
       "51. 'gambling'\n",
       "52. 'gas-prices'\n",
       "53. 'gays-and-lesbians'\n",
       "54. 'government-efficiency'\n",
       "55. 'government-regulation'\n",
       "56. 'guns'\n",
       "57. 'health-care'\n",
       "58. 'history'\n",
       "59. 'homeland-security'\n",
       "60. 'housing'\n",
       "61. 'human-rights'\n",
       "62. 'hunger'\n",
       "63. 'immigration'\n",
       "64. 'income'\n",
       "65. 'infrastructure'\n",
       "66. 'iraq'\n",
       "67. 'islam'\n",
       "68. 'israel'\n",
       "69. 'job-accomplishments'\n",
       "70. 'jobs'\n",
       "71. 'kagan-nomination'\n",
       "72. 'labor'\n",
       "73. 'legal-issues'\n",
       "74. 'marijuana'\n",
       "75. 'market-regulation'\n",
       "76. 'marriage'\n",
       "77. 'medicaid'\n",
       "78. 'medicare'\n",
       "79. 'message-machine'\n",
       "80. 'message-machine-2012'\n",
       "81. 'message-machine-2014'\n",
       "82. 'military'\n",
       "83. 'natural-disasters'\n",
       "84. 'new-hampshire-2012'\n",
       "85. 'nightlife'\n",
       "86. 'nuclear'\n",
       "87. 'obama-birth-certificate'\n",
       "88. 'occupy-wall-street'\n",
       "89. 'oil-spill'\n",
       "90. 'patriotism'\n",
       "91. 'pensions'\n",
       "92. 'politifacts-top-promises'\n",
       "93. 'polls'\n",
       "94. 'pop-culture'\n",
       "95. 'population'\n",
       "96. 'poverty'\n",
       "97. 'privacy'\n",
       "98. 'public-health'\n",
       "99. 'public-safety'\n",
       "100. 'public-service'\n",
       "101. 'pundits'\n",
       "102. 'recreation'\n",
       "103. 'redistricting'\n",
       "104. 'religion'\n",
       "105. 'retirement'\n",
       "106. 'science'\n",
       "107. 'sexuality'\n",
       "108. 'small-business'\n",
       "109. 'social-security'\n",
       "110. 'sotomayor-nomination'\n",
       "111. 'space'\n",
       "112. 'sports'\n",
       "113. 'state-budget'\n",
       "114. 'state-finances'\n",
       "115. 'states'\n",
       "116. 'stimulus'\n",
       "117. 'supreme-court'\n",
       "118. 'taxes'\n",
       "119. 'technology'\n",
       "120. 'terrorism'\n",
       "121. 'tourism'\n",
       "122. 'trade'\n",
       "123. 'transparency'\n",
       "124. 'transportation'\n",
       "125. 'unions'\n",
       "126. 'urban'\n",
       "127. 'veterans'\n",
       "128. 'voting-record'\n",
       "129. 'water'\n",
       "130. 'wealth'\n",
       "131. 'weather'\n",
       "132. 'welfare'\n",
       "133. 'women'\n",
       "134. 'workers'\n",
       "\n",
       "\n"
      ],
      "text/plain": [
       "  [1] \"abc-news-week\"            \"abortion\"                \n",
       "  [3] \"afghanistan\"              \"agriculture\"             \n",
       "  [5] \"alcohol\"                  \"animals\"                 \n",
       "  [7] \"bankruptcy\"               \"baseball\"                \n",
       "  [9] \"bipartisanship\"           \"bush-administration\"     \n",
       " [11] \"campaign-advertising\"     \"campaign-finance\"        \n",
       " [13] \"candidates-biography\"     \"cap-and-trade\"           \n",
       " [15] \"census\"                   \"children\"                \n",
       " [17] \"china\"                    \"city-budget\"             \n",
       " [19] \"city-government\"          \"civil-rights\"            \n",
       " [21] \"climate-change\"           \"congress\"                \n",
       " [23] \"congressional-rules\"      \"consumer-safety\"         \n",
       " [25] \"corporations\"             \"corrections-and-updates\" \n",
       " [27] \"county-budget\"            \"county-government\"       \n",
       " [29] \"crime\"                    \"criminal-justice\"        \n",
       " [31] \"debates\"                  \"debt\"                    \n",
       " [33] \"deficit\"                  \"disability\"              \n",
       " [35] \"diversity\"                \"drugs\"                   \n",
       " [37] \"ebola\"                    \"economy\"                 \n",
       " [39] \"education\"                \"elections\"               \n",
       " [41] \"energy\"                   \"environment\"             \n",
       " [43] \"ethics\"                   \"fake-news\"               \n",
       " [45] \"families\"                 \"federal-budget\"          \n",
       " [47] \"financial-regulation\"     \"florida\"                 \n",
       " [49] \"food-safety\"              \"foreign-policy\"          \n",
       " [51] \"gambling\"                 \"gas-prices\"              \n",
       " [53] \"gays-and-lesbians\"        \"government-efficiency\"   \n",
       " [55] \"government-regulation\"    \"guns\"                    \n",
       " [57] \"health-care\"              \"history\"                 \n",
       " [59] \"homeland-security\"        \"housing\"                 \n",
       " [61] \"human-rights\"             \"hunger\"                  \n",
       " [63] \"immigration\"              \"income\"                  \n",
       " [65] \"infrastructure\"           \"iraq\"                    \n",
       " [67] \"islam\"                    \"israel\"                  \n",
       " [69] \"job-accomplishments\"      \"jobs\"                    \n",
       " [71] \"kagan-nomination\"         \"labor\"                   \n",
       " [73] \"legal-issues\"             \"marijuana\"               \n",
       " [75] \"market-regulation\"        \"marriage\"                \n",
       " [77] \"medicaid\"                 \"medicare\"                \n",
       " [79] \"message-machine\"          \"message-machine-2012\"    \n",
       " [81] \"message-machine-2014\"     \"military\"                \n",
       " [83] \"natural-disasters\"        \"new-hampshire-2012\"      \n",
       " [85] \"nightlife\"                \"nuclear\"                 \n",
       " [87] \"obama-birth-certificate\"  \"occupy-wall-street\"      \n",
       " [89] \"oil-spill\"                \"patriotism\"              \n",
       " [91] \"pensions\"                 \"politifacts-top-promises\"\n",
       " [93] \"polls\"                    \"pop-culture\"             \n",
       " [95] \"population\"               \"poverty\"                 \n",
       " [97] \"privacy\"                  \"public-health\"           \n",
       " [99] \"public-safety\"            \"public-service\"          \n",
       "[101] \"pundits\"                  \"recreation\"              \n",
       "[103] \"redistricting\"            \"religion\"                \n",
       "[105] \"retirement\"               \"science\"                 \n",
       "[107] \"sexuality\"                \"small-business\"          \n",
       "[109] \"social-security\"          \"sotomayor-nomination\"    \n",
       "[111] \"space\"                    \"sports\"                  \n",
       "[113] \"state-budget\"             \"state-finances\"          \n",
       "[115] \"states\"                   \"stimulus\"                \n",
       "[117] \"supreme-court\"            \"taxes\"                   \n",
       "[119] \"technology\"               \"terrorism\"               \n",
       "[121] \"tourism\"                  \"trade\"                   \n",
       "[123] \"transparency\"             \"transportation\"          \n",
       "[125] \"unions\"                   \"urban\"                   \n",
       "[127] \"veterans\"                 \"voting-record\"           \n",
       "[129] \"water\"                    \"wealth\"                  \n",
       "[131] \"weather\"                  \"welfare\"                 \n",
       "[133] \"women\"                    \"workers\"                 "
      ]
     },
     "metadata": {},
     "output_type": "display_data"
    }
   ],
   "source": [
    "test.tags"
   ]
  },
  {
   "cell_type": "code",
   "execution_count": 182,
   "metadata": {
    "vscode": {
     "languageId": "r"
    }
   },
   "outputs": [
    {
     "data": {
      "text/html": [
       "<style>\n",
       ".list-inline {list-style: none; margin:0; padding: 0}\n",
       ".list-inline>li {display: inline-block}\n",
       ".list-inline>li:not(:last-child)::after {content: \"\\00b7\"; padding: 0 .5ex}\n",
       "</style>\n",
       "<ol class=list-inline><li>'i'</li><li>'don'</li><li>'kno'</li></ol>\n"
      ],
      "text/latex": [
       "\\begin{enumerate*}\n",
       "\\item 'i'\n",
       "\\item 'don'\n",
       "\\item 'kno'\n",
       "\\end{enumerate*}\n"
      ],
      "text/markdown": [
       "1. 'i'\n",
       "2. 'don'\n",
       "3. 'kno'\n",
       "\n",
       "\n"
      ],
      "text/plain": [
       "[1] \"i\"   \"don\" \"kno\""
      ]
     },
     "metadata": {},
     "output_type": "display_data"
    }
   ],
   "source": [
    "pippier = c('I,don,kno!')\n",
    "PL = str_split_1(pippier,',')\n",
    "pl = plain(PL)\n",
    "pl"
   ]
  },
  {
   "cell_type": "code",
   "execution_count": 57,
   "metadata": {
    "vscode": {
     "languageId": "r"
    }
   },
   "outputs": [
    {
     "data": {
      "text/html": [
       "20043"
      ],
      "text/latex": [
       "20043"
      ],
      "text/markdown": [
       "20043"
      ],
      "text/plain": [
       "[1] 20043"
      ]
     },
     "metadata": {},
     "output_type": "display_data"
    }
   ],
   "source": [
    "length(vocabulray)"
   ]
  },
  {
   "cell_type": "code",
   "execution_count": 58,
   "metadata": {
    "vscode": {
     "languageId": "r"
    }
   },
   "outputs": [
    {
     "data": {
      "text/html": [
       "'Says the Annies List political group supports third-trimester abortions on demand.'"
      ],
      "text/latex": [
       "'Says the Annies List political group supports third-trimester abortions on demand.'"
      ],
      "text/markdown": [
       "'Says the Annies List political group supports third-trimester abortions on demand.'"
      ],
      "text/plain": [
       "[1] \"Says the Annies List political group supports third-trimester abortions on demand.\""
      ]
     },
     "metadata": {},
     "output_type": "display_data"
    }
   ],
   "source": [
    "train.df$Text[1]"
   ]
  },
  {
   "cell_type": "code",
   "execution_count": 59,
   "metadata": {
    "vscode": {
     "languageId": "r"
    }
   },
   "outputs": [
    {
     "data": {
      "text/html": [
       "<style>\n",
       ".list-inline {list-style: none; margin:0; padding: 0}\n",
       ".list-inline>li {display: inline-block}\n",
       ".list-inline>li:not(:last-child)::after {content: \"\\00b7\"; padding: 0 .5ex}\n",
       "</style>\n",
       "<ol class=list-inline><li>'says'</li><li>'the'</li><li>'annies'</li><li>'list'</li><li>'political'</li><li>'group'</li><li>'supports'</li><li>'third-trimester'</li><li>'abortions'</li><li>'on'</li><li>'demand.'</li><li>'when'</li><li>'did'</li><li>'decline'</li><li>'of'</li></ol>\n"
      ],
      "text/latex": [
       "\\begin{enumerate*}\n",
       "\\item 'says'\n",
       "\\item 'the'\n",
       "\\item 'annies'\n",
       "\\item 'list'\n",
       "\\item 'political'\n",
       "\\item 'group'\n",
       "\\item 'supports'\n",
       "\\item 'third-trimester'\n",
       "\\item 'abortions'\n",
       "\\item 'on'\n",
       "\\item 'demand.'\n",
       "\\item 'when'\n",
       "\\item 'did'\n",
       "\\item 'decline'\n",
       "\\item 'of'\n",
       "\\end{enumerate*}\n"
      ],
      "text/markdown": [
       "1. 'says'\n",
       "2. 'the'\n",
       "3. 'annies'\n",
       "4. 'list'\n",
       "5. 'political'\n",
       "6. 'group'\n",
       "7. 'supports'\n",
       "8. 'third-trimester'\n",
       "9. 'abortions'\n",
       "10. 'on'\n",
       "11. 'demand.'\n",
       "12. 'when'\n",
       "13. 'did'\n",
       "14. 'decline'\n",
       "15. 'of'\n",
       "\n",
       "\n"
      ],
      "text/plain": [
       " [1] \"says\"            \"the\"             \"annies\"          \"list\"           \n",
       " [5] \"political\"       \"group\"           \"supports\"        \"third-trimester\"\n",
       " [9] \"abortions\"       \"on\"              \"demand.\"         \"when\"           \n",
       "[13] \"did\"             \"decline\"         \"of\"             "
      ]
     },
     "metadata": {},
     "output_type": "display_data"
    }
   ],
   "source": [
    "vocabulray[1:15]"
   ]
  },
  {
   "cell_type": "code",
   "execution_count": 46,
   "metadata": {
    "vscode": {
     "languageId": "r"
    }
   },
   "outputs": [
    {
     "data": {
      "text/html": [
       "TRUE"
      ],
      "text/latex": [
       "TRUE"
      ],
      "text/markdown": [
       "TRUE"
      ],
      "text/plain": [
       "[1] TRUE"
      ]
     },
     "metadata": {},
     "output_type": "display_data"
    }
   ],
   "source": [
    "'job' %in% vocabulray"
   ]
  },
  {
   "cell_type": "code",
   "execution_count": 49,
   "metadata": {
    "vscode": {
     "languageId": "r"
    }
   },
   "outputs": [
    {
     "data": {
      "image/png": "[encoded data removed]",
      "text/plain": [
       "Plot with title “Histogram of train.df$Labels”"
      ]
     },
     "metadata": {
      "image/png": {
       "height": 420,
       "width": 420
      }
     },
     "output_type": "display_data"
    }
   ],
   "source": [
    "hist(train.df$Labels)"
   ]
  },
  {
   "cell_type": "code",
   "execution_count": 51,
   "metadata": {
    "vscode": {
     "languageId": "r"
    }
   },
   "outputs": [
    {
     "data": {
      "text/html": [
       "'bagheraaaa'"
      ],
      "text/latex": [
       "'bagheraaaa'"
      ],
      "text/markdown": [
       "'bagheraaaa'"
      ],
      "text/plain": [
       "[1] \"bagheraaaa\""
      ]
     },
     "metadata": {},
     "output_type": "display_data"
    }
   ],
   "source": [
    "str_to_lower('BaGheRaAAa')"
   ]
  }
 ],
 "metadata": {
  "kernelspec": {
   "display_name": "R",
   "language": "R",
   "name": "ir"
  },
  "language_info": {
   "codemirror_mode": "r",
   "file_extension": ".r",
   "mimetype": "text/x-r-source",
   "name": "R",
   "pygments_lexer": "r",
   "version": "4.2.2"
  },
  "orig_nbformat": 4
 },
 "nbformat": 4,
 "nbformat_minor": 2
}
