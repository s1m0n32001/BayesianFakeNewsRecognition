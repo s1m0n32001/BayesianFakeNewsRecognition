{
 "cells": [
  {
   "cell_type": "markdown",
   "metadata": {},
   "source": [
    "# Fake news recognition using a Multinomial Naive Bayes Classifier\n",
    "\n",
    "### Course: Advanced Statistics for Physics Analysis\n",
    "### Students: Toso Simone, Feltrin Antonio"
   ]
  },
  {
   "cell_type": "code",
   "execution_count": 1,
   "metadata": {
    "vscode": {
     "languageId": "r"
    }
   },
   "outputs": [
    {
     "name": "stderr",
     "output_type": "stream",
     "text": [
      "Loading required package: NLP\n",
      "\n",
      "Loading required package: koRpus.lang.en\n",
      "\n",
      "Loading required package: koRpus\n",
      "\n",
      "Loading required package: sylly\n",
      "\n",
      "For information on available language packages for 'koRpus', run\n",
      "\n",
      "  available.koRpus.lang()\n",
      "\n",
      "and see ?install.koRpus.lang()\n",
      "\n",
      "\n",
      "\n",
      "Attaching package: ‘koRpus’\n",
      "\n",
      "\n",
      "The following object is masked from ‘package:tm’:\n",
      "\n",
      "    readTagged\n",
      "\n",
      "\n"
     ]
    }
   ],
   "source": [
    "library(stringr)\n",
    "library(tm) #Text-mining package\n",
    "library(NLP) \n",
    "library(textstem) # For lemmatization"
   ]
  },
  {
   "cell_type": "markdown",
   "metadata": {},
   "source": [
    "# A bit of theory\n",
    "\n",
    "Our aim is to *classify* some phrases, using a predetermined set of categories $\\mathcal{C}$ (e.g. `{Fake, Not Fake}`).\n",
    "\n",
    "To do so, we must learn a *classification function* $\\gamma: \\mathcal{X} \\to \\mathcal{C}$, where $\\mathcal{X}$ is the set of all possible input phrases. \n",
    "\n",
    "There are many possible algorithms for text classification in natural language processing. In this project we will focus on the *Multinomial Naive Bayes* classifier.\n",
    "\n",
    "### The MNB classifier\n",
    "Given a class $c$ and a *document* (i.e. phrase) $d$, we can imagine that the document was composed by randomly extracting words from the total set of tokens $\\mathcal{T} = \\{t_1, t_2, \\dots, t_m\\}$. This way, the probability of composing the observed document would be\n",
    "\n",
    "$P(d|c) = \\prod_{1 \\leq k \\leq n_d} p(t_k|c)$.\n",
    "\n",
    "Now, we want to infer $P(c|d)$. This can be done though Bayes's Theorem:\n",
    "\n",
    "$P(c|d) \\propto p(c) \\prod_{1 \\leq k \\leq n_d} p(t_k|c)$.\n",
    "\n",
    "We can then easily find the *maximum a posteriori* class $c_{map}$:\n",
    "\n",
    "$c_{map} = \\mathrm{argmax}_{c} P(d|c)$.\n",
    "\n",
    "The maximum a posteriori class will be our guess for the classification.\n",
    "\n",
    "### The learning algorithm\n",
    "Our model depends on the following parameters:\n",
    "* **Prior**: $p(c)$. \n",
    "* **Token probability**: $p(t_k|c)$, the probability for token $t_k$ to appear in a document of class $c$. \n",
    "\n",
    "The prior can be estimated as $\\hat{p}(c) = \\frac{N_c}{N}$, i.e. the fraction of documents of class $c$ in the training set.\n",
    "\n",
    "The token probability can instead be estimated as $\\hat{p}(t|c) = \\frac{T_{ct} + 1}{\\sum_{t'} (T_{ct' + 1})}$. The term $T_{ct}$ is the number of times token $t$ appears in a document of class $c$. Notice that, both at the numerator and denominator, we are adding $1$ to $T_{ct}$ and $T_{ct'}$. This is done in order to avoid having $p(t|c) = 0$ for tokens that never appear in documents of class $c$.\n",
    "\n",
    "<hr style=\"border:1px solid gray\">\n",
    "\n",
    "\n",
    "# Kumar dataset \n",
    "\n",
    "We first try our hand on [this](https://www.kaggle.com/datasets/anmolkumar/fake-news-content-detection?select=train.csv) dataset. It consists of 11507 records (10240 for training, 1267 for testing)\n",
    "\n",
    "Each entry is classified as one of these 6 categories:\n",
    "* *Barely true* - 0\n",
    "* *False* - 1\n",
    "* *Half-true* - 2\n",
    "* *Mostly true* - 3\n",
    "* *Not known* - 4\n",
    "* *True* - 5"
   ]
  },
  {
   "cell_type": "markdown",
   "metadata": {},
   "source": [
    "## Read data"
   ]
  },
  {
   "cell_type": "code",
   "execution_count": 2,
   "metadata": {
    "vscode": {
     "languageId": "r"
    }
   },
   "outputs": [],
   "source": [
    "dir_input <- 'data/kumar/train_pruned.csv'\n",
    "dir_test <- 'data/kumar/test.csv'\n",
    "input.df <- read.csv(dir_input,header=TRUE,sep=',')\n",
    "test.df <- read.csv(dir_test,header=TRUE,sep=',')"
   ]
  },
  {
   "cell_type": "code",
   "execution_count": 3,
   "metadata": {
    "vscode": {
     "languageId": "r"
    }
   },
   "outputs": [
    {
     "data": {
      "text/html": [
       "<table class=\"dataframe\">\n",
       "<caption>A data.frame: 8 × 3</caption>\n",
       "<thead>\n",
       "\t<tr><th></th><th scope=col>Labels</th><th scope=col>Text</th><th scope=col>Text_Tag</th></tr>\n",
       "\t<tr><th></th><th scope=col>&lt;int&gt;</th><th scope=col>&lt;chr&gt;</th><th scope=col>&lt;chr&gt;</th></tr>\n",
       "</thead>\n",
       "<tbody>\n",
       "\t<tr><th scope=row>1</th><td>1</td><td>Says the Annies List political group supports third-trimester abortions on demand.                                                                             </td><td>abortion                          </td></tr>\n",
       "\t<tr><th scope=row>2</th><td>2</td><td>When did the decline of coal start? It started when natural gas took off that started to begin in (President George W.) Bushs administration.                  </td><td>energy,history,job-accomplishments</td></tr>\n",
       "\t<tr><th scope=row>3</th><td>3</td><td>Hillary Clinton agrees with John McCain \"by voting to give George Bush the benefit of the doubt on Iran.\"                                                      </td><td>foreign-policy                    </td></tr>\n",
       "\t<tr><th scope=row>4</th><td>1</td><td>Health care reform legislation is likely to mandate free sex change surgeries.                                                                                 </td><td>health-care                       </td></tr>\n",
       "\t<tr><th scope=row>5</th><td>2</td><td>The economic turnaround started at the end of my term.                                                                                                         </td><td>economy,jobs                      </td></tr>\n",
       "\t<tr><th scope=row>6</th><td>5</td><td>The Chicago Bears have had more starting quarterbacks in the last 10 years than the total number of tenured (UW) faculty fired during the last two decades.    </td><td>education                         </td></tr>\n",
       "\t<tr><th scope=row>7</th><td>0</td><td>Jim Dunnam has not lived in the district he represents for years now.                                                                                          </td><td>candidates-biography              </td></tr>\n",
       "\t<tr><th scope=row>8</th><td>2</td><td>I'm the only person on this stage who has worked actively just last year passing, along with Russ Feingold, some of the toughest ethics reform since Watergate.</td><td>ethics                            </td></tr>\n",
       "</tbody>\n",
       "</table>\n"
      ],
      "text/latex": [
       "A data.frame: 8 × 3\n",
       "\\begin{tabular}{r|lll}\n",
       "  & Labels & Text & Text\\_Tag\\\\\n",
       "  & <int> & <chr> & <chr>\\\\\n",
       "\\hline\n",
       "\t1 & 1 & Says the Annies List political group supports third-trimester abortions on demand.                                                                              & abortion                          \\\\\n",
       "\t2 & 2 & When did the decline of coal start? It started when natural gas took off that started to begin in (President George W.) Bushs administration.                   & energy,history,job-accomplishments\\\\\n",
       "\t3 & 3 & Hillary Clinton agrees with John McCain \"by voting to give George Bush the benefit of the doubt on Iran.\"                                                       & foreign-policy                    \\\\\n",
       "\t4 & 1 & Health care reform legislation is likely to mandate free sex change surgeries.                                                                                  & health-care                       \\\\\n",
       "\t5 & 2 & The economic turnaround started at the end of my term.                                                                                                          & economy,jobs                      \\\\\n",
       "\t6 & 5 & The Chicago Bears have had more starting quarterbacks in the last 10 years than the total number of tenured (UW) faculty fired during the last two decades.     & education                         \\\\\n",
       "\t7 & 0 & Jim Dunnam has not lived in the district he represents for years now.                                                                                           & candidates-biography              \\\\\n",
       "\t8 & 2 & I'm the only person on this stage who has worked actively just last year passing, along with Russ Feingold, some of the toughest ethics reform since Watergate. & ethics                            \\\\\n",
       "\\end{tabular}\n"
      ],
      "text/markdown": [
       "\n",
       "A data.frame: 8 × 3\n",
       "\n",
       "| <!--/--> | Labels &lt;int&gt; | Text &lt;chr&gt; | Text_Tag &lt;chr&gt; |\n",
       "|---|---|---|---|\n",
       "| 1 | 1 | Says the Annies List political group supports third-trimester abortions on demand.                                                                              | abortion                           |\n",
       "| 2 | 2 | When did the decline of coal start? It started when natural gas took off that started to begin in (President George W.) Bushs administration.                   | energy,history,job-accomplishments |\n",
       "| 3 | 3 | Hillary Clinton agrees with John McCain \"by voting to give George Bush the benefit of the doubt on Iran.\"                                                       | foreign-policy                     |\n",
       "| 4 | 1 | Health care reform legislation is likely to mandate free sex change surgeries.                                                                                  | health-care                        |\n",
       "| 5 | 2 | The economic turnaround started at the end of my term.                                                                                                          | economy,jobs                       |\n",
       "| 6 | 5 | The Chicago Bears have had more starting quarterbacks in the last 10 years than the total number of tenured (UW) faculty fired during the last two decades.     | education                          |\n",
       "| 7 | 0 | Jim Dunnam has not lived in the district he represents for years now.                                                                                           | candidates-biography               |\n",
       "| 8 | 2 | I'm the only person on this stage who has worked actively just last year passing, along with Russ Feingold, some of the toughest ethics reform since Watergate. | ethics                             |\n",
       "\n"
      ],
      "text/plain": [
       "  Labels\n",
       "1 1     \n",
       "2 2     \n",
       "3 3     \n",
       "4 1     \n",
       "5 2     \n",
       "6 5     \n",
       "7 0     \n",
       "8 2     \n",
       "  Text                                                                                                                                                           \n",
       "1 Says the Annies List political group supports third-trimester abortions on demand.                                                                             \n",
       "2 When did the decline of coal start? It started when natural gas took off that started to begin in (President George W.) Bushs administration.                  \n",
       "3 Hillary Clinton agrees with John McCain \"by voting to give George Bush the benefit of the doubt on Iran.\"                                                      \n",
       "4 Health care reform legislation is likely to mandate free sex change surgeries.                                                                                 \n",
       "5 The economic turnaround started at the end of my term.                                                                                                         \n",
       "6 The Chicago Bears have had more starting quarterbacks in the last 10 years than the total number of tenured (UW) faculty fired during the last two decades.    \n",
       "7 Jim Dunnam has not lived in the district he represents for years now.                                                                                          \n",
       "8 I'm the only person on this stage who has worked actively just last year passing, along with Russ Feingold, some of the toughest ethics reform since Watergate.\n",
       "  Text_Tag                          \n",
       "1 abortion                          \n",
       "2 energy,history,job-accomplishments\n",
       "3 foreign-policy                    \n",
       "4 health-care                       \n",
       "5 economy,jobs                      \n",
       "6 education                         \n",
       "7 candidates-biography              \n",
       "8 ethics                            "
      ]
     },
     "metadata": {},
     "output_type": "display_data"
    }
   ],
   "source": [
    "head(input.df,8)"
   ]
  },
  {
   "cell_type": "markdown",
   "metadata": {},
   "source": [
    "## Vocabulary construction and tokenization"
   ]
  },
  {
   "cell_type": "code",
   "execution_count": 4,
   "metadata": {
    "vscode": {
     "languageId": "r"
    }
   },
   "outputs": [],
   "source": [
    "plain <- function(word,punct='[:punct:]'){\n",
    "    word <- str_to_lower(str_replace_all(word,punct,' '))\n",
    "    return(word) \n",
    "}\n",
    "\n",
    "get.unique.words <- function (tags.bag,sep,sortit=FALSE) {\n",
    "    all.tags <- c()\n",
    "    for (record in tags.bag){\n",
    "        temp.tags <- str_split_1(plain(record),sep)\n",
    "        for (word in temp.tags) {\n",
    "            word <- plain(word)\n",
    "            if (word %in% all.tags == FALSE & word != '') {\n",
    "                    all.tags <- c(all.tags,str_to_lower(word))\n",
    "                } \n",
    "            }\n",
    "        }\n",
    "    if (sortit) {all.tags <- sort(all.tags)}\n",
    "    return(all.tags)\n",
    "}\n",
    "\n",
    "get.quotes <- function (quotes.bag,sep) {\n",
    "    all.quotes <- list()\n",
    "    for (record in quotes.bag){\n",
    "        temp.q <- str_split_1(plain(record),sep)\n",
    "        temp.q <- str_flatten(temp.q[!(temp.q %in% stopwords('en')) & str_length(temp.q)>0], collapse = ' ') #>1 to remove lone letters? no because of $\n",
    "        all.quotes <- c(all.quotes,temp.q)\n",
    "        }\n",
    "\n",
    "    return(all.quotes)\n",
    "}\n",
    "\n",
    "get.tags <- function (tags.bag,sep) {\n",
    "    all.quotes <- list()\n",
    "    for (record in tags.bag){\n",
    "        #cat('\\nrecord, type',record,typeof(record))\n",
    "        temp.q <- str_split(plain(record,punct = '[.;()]'),sep)\n",
    "        temp.q <- str_flatten(temp.q[[1]][!(temp.q %in% stopwords('en'))],  collapse = ' ') #>1 to remove lone letters? no because of $\n",
    "        all.quotes <- c(all.quotes,temp.q)\n",
    "        }\n",
    "\n",
    "    return(all.quotes)\n",
    "}"
   ]
  },
  {
   "cell_type": "code",
   "execution_count": 5,
   "metadata": {
    "vscode": {
     "languageId": "r"
    }
   },
   "outputs": [],
   "source": [
    "input.tags <- get.unique.words(input.df$Text_Tag,sep=',',sortit=TRUE)\n",
    "test.tags <- get.unique.words(test.df$Text_Tag,sep=',',sortit=TRUE)    "
   ]
  },
  {
   "cell_type": "code",
   "execution_count": 6,
   "metadata": {
    "vscode": {
     "languageId": "r"
    }
   },
   "outputs": [],
   "source": [
    "vocabulary <- get.unique.words(input.df$Text,sep=' ')"
   ]
  },
  {
   "cell_type": "code",
   "execution_count": 7,
   "metadata": {
    "vscode": {
     "languageId": "r"
    }
   },
   "outputs": [],
   "source": [
    "quotes <- get.quotes(input.df$Text,sep=' ')"
   ]
  },
  {
   "cell_type": "code",
   "execution_count": 8,
   "metadata": {
    "vscode": {
     "languageId": "r"
    }
   },
   "outputs": [],
   "source": [
    "tags <- get.tags(input.df$Text_Tag,sep=',')"
   ]
  },
  {
   "cell_type": "code",
   "execution_count": 9,
   "metadata": {
    "vscode": {
     "languageId": "r"
    }
   },
   "outputs": [],
   "source": [
    "train.df <- data.frame(Labels = input.df$Labels, Text = unlist(quotes), Text_Tag = unlist(tags))"
   ]
  },
  {
   "cell_type": "code",
   "execution_count": 10,
   "metadata": {
    "vscode": {
     "languageId": "r"
    }
   },
   "outputs": [
    {
     "data": {
      "text/html": [
       "<table class=\"dataframe\">\n",
       "<caption>A data.frame: 5 × 3</caption>\n",
       "<thead>\n",
       "\t<tr><th></th><th scope=col>Labels</th><th scope=col>Text</th><th scope=col>Text_Tag</th></tr>\n",
       "\t<tr><th></th><th scope=col>&lt;int&gt;</th><th scope=col>&lt;chr&gt;</th><th scope=col>&lt;chr&gt;</th></tr>\n",
       "</thead>\n",
       "<tbody>\n",
       "\t<tr><th scope=row>1</th><td>1</td><td>says annies list political group supports third trimester abortions demand                       </td><td>abortion                          </td></tr>\n",
       "\t<tr><th scope=row>2</th><td>2</td><td>decline coal start started natural gas took started begin president george w bushs administration</td><td>energy history job-accomplishments</td></tr>\n",
       "\t<tr><th scope=row>3</th><td>3</td><td>hillary clinton agrees john mccain voting give george bush benefit doubt iran                    </td><td>foreign-policy                    </td></tr>\n",
       "\t<tr><th scope=row>4</th><td>1</td><td>health care reform legislation likely mandate free sex change surgeries                          </td><td>health-care                       </td></tr>\n",
       "\t<tr><th scope=row>5</th><td>2</td><td>economic turnaround started end term                                                             </td><td>economy jobs                      </td></tr>\n",
       "</tbody>\n",
       "</table>\n"
      ],
      "text/latex": [
       "A data.frame: 5 × 3\n",
       "\\begin{tabular}{r|lll}\n",
       "  & Labels & Text & Text\\_Tag\\\\\n",
       "  & <int> & <chr> & <chr>\\\\\n",
       "\\hline\n",
       "\t1 & 1 & says annies list political group supports third trimester abortions demand                        & abortion                          \\\\\n",
       "\t2 & 2 & decline coal start started natural gas took started begin president george w bushs administration & energy history job-accomplishments\\\\\n",
       "\t3 & 3 & hillary clinton agrees john mccain voting give george bush benefit doubt iran                     & foreign-policy                    \\\\\n",
       "\t4 & 1 & health care reform legislation likely mandate free sex change surgeries                           & health-care                       \\\\\n",
       "\t5 & 2 & economic turnaround started end term                                                              & economy jobs                      \\\\\n",
       "\\end{tabular}\n"
      ],
      "text/markdown": [
       "\n",
       "A data.frame: 5 × 3\n",
       "\n",
       "| <!--/--> | Labels &lt;int&gt; | Text &lt;chr&gt; | Text_Tag &lt;chr&gt; |\n",
       "|---|---|---|---|\n",
       "| 1 | 1 | says annies list political group supports third trimester abortions demand                        | abortion                           |\n",
       "| 2 | 2 | decline coal start started natural gas took started begin president george w bushs administration | energy history job-accomplishments |\n",
       "| 3 | 3 | hillary clinton agrees john mccain voting give george bush benefit doubt iran                     | foreign-policy                     |\n",
       "| 4 | 1 | health care reform legislation likely mandate free sex change surgeries                           | health-care                        |\n",
       "| 5 | 2 | economic turnaround started end term                                                              | economy jobs                       |\n",
       "\n"
      ],
      "text/plain": [
       "  Labels\n",
       "1 1     \n",
       "2 2     \n",
       "3 3     \n",
       "4 1     \n",
       "5 2     \n",
       "  Text                                                                                             \n",
       "1 says annies list political group supports third trimester abortions demand                       \n",
       "2 decline coal start started natural gas took started begin president george w bushs administration\n",
       "3 hillary clinton agrees john mccain voting give george bush benefit doubt iran                    \n",
       "4 health care reform legislation likely mandate free sex change surgeries                          \n",
       "5 economic turnaround started end term                                                             \n",
       "  Text_Tag                          \n",
       "1 abortion                          \n",
       "2 energy history job-accomplishments\n",
       "3 foreign-policy                    \n",
       "4 health-care                       \n",
       "5 economy jobs                      "
      ]
     },
     "metadata": {},
     "output_type": "display_data"
    }
   ],
   "source": [
    "head(train.df,5)"
   ]
  },
  {
   "cell_type": "code",
   "execution_count": 11,
   "metadata": {
    "vscode": {
     "languageId": "r"
    }
   },
   "outputs": [
    {
     "data": {
      "text/html": [
       "<style>\n",
       ".list-inline {list-style: none; margin:0; padding: 0}\n",
       ".list-inline>li {display: inline-block}\n",
       ".list-inline>li:not(:last-child)::after {content: \"\\00b7\"; padding: 0 .5ex}\n",
       "</style>\n",
       "<ol class=list-inline><li>'i'</li><li>'me'</li><li>'my'</li><li>'myself'</li><li>'we'</li><li>'our'</li><li>'ours'</li><li>'ourselves'</li><li>'you'</li><li>'your'</li><li>'yours'</li><li>'yourself'</li><li>'yourselves'</li><li>'he'</li><li>'him'</li><li>'his'</li><li>'himself'</li><li>'she'</li><li>'her'</li><li>'hers'</li><li>'herself'</li><li>'it'</li><li>'its'</li><li>'itself'</li><li>'they'</li><li>'them'</li><li>'their'</li><li>'theirs'</li><li>'themselves'</li><li>'what'</li><li>'which'</li><li>'who'</li><li>'whom'</li><li>'this'</li><li>'that'</li><li>'these'</li><li>'those'</li><li>'am'</li><li>'is'</li><li>'are'</li><li>'was'</li><li>'were'</li><li>'be'</li><li>'been'</li><li>'being'</li><li>'have'</li><li>'has'</li><li>'had'</li><li>'having'</li><li>'do'</li><li>'does'</li><li>'did'</li><li>'doing'</li><li>'would'</li><li>'should'</li><li>'could'</li><li>'ought'</li><li>'i\\'m'</li><li>'you\\'re'</li><li>'he\\'s'</li><li>'she\\'s'</li><li>'it\\'s'</li><li>'we\\'re'</li><li>'they\\'re'</li><li>'i\\'ve'</li><li>'you\\'ve'</li><li>'we\\'ve'</li><li>'they\\'ve'</li><li>'i\\'d'</li><li>'you\\'d'</li><li>'he\\'d'</li><li>'she\\'d'</li><li>'we\\'d'</li><li>'they\\'d'</li><li>'i\\'ll'</li><li>'you\\'ll'</li><li>'he\\'ll'</li><li>'she\\'ll'</li><li>'we\\'ll'</li><li>'they\\'ll'</li><li>'isn\\'t'</li><li>'aren\\'t'</li><li>'wasn\\'t'</li><li>'weren\\'t'</li><li>'hasn\\'t'</li><li>'haven\\'t'</li><li>'hadn\\'t'</li><li>'doesn\\'t'</li><li>'don\\'t'</li><li>'didn\\'t'</li><li>'won\\'t'</li><li>'wouldn\\'t'</li><li>'shan\\'t'</li><li>'shouldn\\'t'</li><li>'can\\'t'</li><li>'cannot'</li><li>'couldn\\'t'</li><li>'mustn\\'t'</li><li>'let\\'s'</li><li>'that\\'s'</li><li>'who\\'s'</li><li>'what\\'s'</li><li>'here\\'s'</li><li>'there\\'s'</li><li>'when\\'s'</li><li>'where\\'s'</li><li>'why\\'s'</li><li>'how\\'s'</li><li>'a'</li><li>'an'</li><li>'the'</li><li>'and'</li><li>'but'</li><li>'if'</li><li>'or'</li><li>'because'</li><li>'as'</li><li>'until'</li><li>'while'</li><li>'of'</li><li>'at'</li><li>'by'</li><li>'for'</li><li>'with'</li><li>'about'</li><li>'against'</li><li>'between'</li><li>'into'</li><li>'through'</li><li>'during'</li><li>'before'</li><li>'after'</li><li>'above'</li><li>'below'</li><li>'to'</li><li>'from'</li><li>'up'</li><li>'down'</li><li>'in'</li><li>'out'</li><li>'on'</li><li>'off'</li><li>'over'</li><li>'under'</li><li>'again'</li><li>'further'</li><li>'then'</li><li>'once'</li><li>'here'</li><li>'there'</li><li>'when'</li><li>'where'</li><li>'why'</li><li>'how'</li><li>'all'</li><li>'any'</li><li>'both'</li><li>'each'</li><li>'few'</li><li>'more'</li><li>'most'</li><li>'other'</li><li>'some'</li><li>'such'</li><li>'no'</li><li>'nor'</li><li>'not'</li><li>'only'</li><li>'own'</li><li>'same'</li><li>'so'</li><li>'than'</li><li>'too'</li><li>'very'</li></ol>\n"
      ],
      "text/latex": [
       "\\begin{enumerate*}\n",
       "\\item 'i'\n",
       "\\item 'me'\n",
       "\\item 'my'\n",
       "\\item 'myself'\n",
       "\\item 'we'\n",
       "\\item 'our'\n",
       "\\item 'ours'\n",
       "\\item 'ourselves'\n",
       "\\item 'you'\n",
       "\\item 'your'\n",
       "\\item 'yours'\n",
       "\\item 'yourself'\n",
       "\\item 'yourselves'\n",
       "\\item 'he'\n",
       "\\item 'him'\n",
       "\\item 'his'\n",
       "\\item 'himself'\n",
       "\\item 'she'\n",
       "\\item 'her'\n",
       "\\item 'hers'\n",
       "\\item 'herself'\n",
       "\\item 'it'\n",
       "\\item 'its'\n",
       "\\item 'itself'\n",
       "\\item 'they'\n",
       "\\item 'them'\n",
       "\\item 'their'\n",
       "\\item 'theirs'\n",
       "\\item 'themselves'\n",
       "\\item 'what'\n",
       "\\item 'which'\n",
       "\\item 'who'\n",
       "\\item 'whom'\n",
       "\\item 'this'\n",
       "\\item 'that'\n",
       "\\item 'these'\n",
       "\\item 'those'\n",
       "\\item 'am'\n",
       "\\item 'is'\n",
       "\\item 'are'\n",
       "\\item 'was'\n",
       "\\item 'were'\n",
       "\\item 'be'\n",
       "\\item 'been'\n",
       "\\item 'being'\n",
       "\\item 'have'\n",
       "\\item 'has'\n",
       "\\item 'had'\n",
       "\\item 'having'\n",
       "\\item 'do'\n",
       "\\item 'does'\n",
       "\\item 'did'\n",
       "\\item 'doing'\n",
       "\\item 'would'\n",
       "\\item 'should'\n",
       "\\item 'could'\n",
       "\\item 'ought'\n",
       "\\item 'i\\textbackslash{}'m'\n",
       "\\item 'you\\textbackslash{}'re'\n",
       "\\item 'he\\textbackslash{}'s'\n",
       "\\item 'she\\textbackslash{}'s'\n",
       "\\item 'it\\textbackslash{}'s'\n",
       "\\item 'we\\textbackslash{}'re'\n",
       "\\item 'they\\textbackslash{}'re'\n",
       "\\item 'i\\textbackslash{}'ve'\n",
       "\\item 'you\\textbackslash{}'ve'\n",
       "\\item 'we\\textbackslash{}'ve'\n",
       "\\item 'they\\textbackslash{}'ve'\n",
       "\\item 'i\\textbackslash{}'d'\n",
       "\\item 'you\\textbackslash{}'d'\n",
       "\\item 'he\\textbackslash{}'d'\n",
       "\\item 'she\\textbackslash{}'d'\n",
       "\\item 'we\\textbackslash{}'d'\n",
       "\\item 'they\\textbackslash{}'d'\n",
       "\\item 'i\\textbackslash{}'ll'\n",
       "\\item 'you\\textbackslash{}'ll'\n",
       "\\item 'he\\textbackslash{}'ll'\n",
       "\\item 'she\\textbackslash{}'ll'\n",
       "\\item 'we\\textbackslash{}'ll'\n",
       "\\item 'they\\textbackslash{}'ll'\n",
       "\\item 'isn\\textbackslash{}'t'\n",
       "\\item 'aren\\textbackslash{}'t'\n",
       "\\item 'wasn\\textbackslash{}'t'\n",
       "\\item 'weren\\textbackslash{}'t'\n",
       "\\item 'hasn\\textbackslash{}'t'\n",
       "\\item 'haven\\textbackslash{}'t'\n",
       "\\item 'hadn\\textbackslash{}'t'\n",
       "\\item 'doesn\\textbackslash{}'t'\n",
       "\\item 'don\\textbackslash{}'t'\n",
       "\\item 'didn\\textbackslash{}'t'\n",
       "\\item 'won\\textbackslash{}'t'\n",
       "\\item 'wouldn\\textbackslash{}'t'\n",
       "\\item 'shan\\textbackslash{}'t'\n",
       "\\item 'shouldn\\textbackslash{}'t'\n",
       "\\item 'can\\textbackslash{}'t'\n",
       "\\item 'cannot'\n",
       "\\item 'couldn\\textbackslash{}'t'\n",
       "\\item 'mustn\\textbackslash{}'t'\n",
       "\\item 'let\\textbackslash{}'s'\n",
       "\\item 'that\\textbackslash{}'s'\n",
       "\\item 'who\\textbackslash{}'s'\n",
       "\\item 'what\\textbackslash{}'s'\n",
       "\\item 'here\\textbackslash{}'s'\n",
       "\\item 'there\\textbackslash{}'s'\n",
       "\\item 'when\\textbackslash{}'s'\n",
       "\\item 'where\\textbackslash{}'s'\n",
       "\\item 'why\\textbackslash{}'s'\n",
       "\\item 'how\\textbackslash{}'s'\n",
       "\\item 'a'\n",
       "\\item 'an'\n",
       "\\item 'the'\n",
       "\\item 'and'\n",
       "\\item 'but'\n",
       "\\item 'if'\n",
       "\\item 'or'\n",
       "\\item 'because'\n",
       "\\item 'as'\n",
       "\\item 'until'\n",
       "\\item 'while'\n",
       "\\item 'of'\n",
       "\\item 'at'\n",
       "\\item 'by'\n",
       "\\item 'for'\n",
       "\\item 'with'\n",
       "\\item 'about'\n",
       "\\item 'against'\n",
       "\\item 'between'\n",
       "\\item 'into'\n",
       "\\item 'through'\n",
       "\\item 'during'\n",
       "\\item 'before'\n",
       "\\item 'after'\n",
       "\\item 'above'\n",
       "\\item 'below'\n",
       "\\item 'to'\n",
       "\\item 'from'\n",
       "\\item 'up'\n",
       "\\item 'down'\n",
       "\\item 'in'\n",
       "\\item 'out'\n",
       "\\item 'on'\n",
       "\\item 'off'\n",
       "\\item 'over'\n",
       "\\item 'under'\n",
       "\\item 'again'\n",
       "\\item 'further'\n",
       "\\item 'then'\n",
       "\\item 'once'\n",
       "\\item 'here'\n",
       "\\item 'there'\n",
       "\\item 'when'\n",
       "\\item 'where'\n",
       "\\item 'why'\n",
       "\\item 'how'\n",
       "\\item 'all'\n",
       "\\item 'any'\n",
       "\\item 'both'\n",
       "\\item 'each'\n",
       "\\item 'few'\n",
       "\\item 'more'\n",
       "\\item 'most'\n",
       "\\item 'other'\n",
       "\\item 'some'\n",
       "\\item 'such'\n",
       "\\item 'no'\n",
       "\\item 'nor'\n",
       "\\item 'not'\n",
       "\\item 'only'\n",
       "\\item 'own'\n",
       "\\item 'same'\n",
       "\\item 'so'\n",
       "\\item 'than'\n",
       "\\item 'too'\n",
       "\\item 'very'\n",
       "\\end{enumerate*}\n"
      ],
      "text/markdown": [
       "1. 'i'\n",
       "2. 'me'\n",
       "3. 'my'\n",
       "4. 'myself'\n",
       "5. 'we'\n",
       "6. 'our'\n",
       "7. 'ours'\n",
       "8. 'ourselves'\n",
       "9. 'you'\n",
       "10. 'your'\n",
       "11. 'yours'\n",
       "12. 'yourself'\n",
       "13. 'yourselves'\n",
       "14. 'he'\n",
       "15. 'him'\n",
       "16. 'his'\n",
       "17. 'himself'\n",
       "18. 'she'\n",
       "19. 'her'\n",
       "20. 'hers'\n",
       "21. 'herself'\n",
       "22. 'it'\n",
       "23. 'its'\n",
       "24. 'itself'\n",
       "25. 'they'\n",
       "26. 'them'\n",
       "27. 'their'\n",
       "28. 'theirs'\n",
       "29. 'themselves'\n",
       "30. 'what'\n",
       "31. 'which'\n",
       "32. 'who'\n",
       "33. 'whom'\n",
       "34. 'this'\n",
       "35. 'that'\n",
       "36. 'these'\n",
       "37. 'those'\n",
       "38. 'am'\n",
       "39. 'is'\n",
       "40. 'are'\n",
       "41. 'was'\n",
       "42. 'were'\n",
       "43. 'be'\n",
       "44. 'been'\n",
       "45. 'being'\n",
       "46. 'have'\n",
       "47. 'has'\n",
       "48. 'had'\n",
       "49. 'having'\n",
       "50. 'do'\n",
       "51. 'does'\n",
       "52. 'did'\n",
       "53. 'doing'\n",
       "54. 'would'\n",
       "55. 'should'\n",
       "56. 'could'\n",
       "57. 'ought'\n",
       "58. 'i\\'m'\n",
       "59. 'you\\'re'\n",
       "60. 'he\\'s'\n",
       "61. 'she\\'s'\n",
       "62. 'it\\'s'\n",
       "63. 'we\\'re'\n",
       "64. 'they\\'re'\n",
       "65. 'i\\'ve'\n",
       "66. 'you\\'ve'\n",
       "67. 'we\\'ve'\n",
       "68. 'they\\'ve'\n",
       "69. 'i\\'d'\n",
       "70. 'you\\'d'\n",
       "71. 'he\\'d'\n",
       "72. 'she\\'d'\n",
       "73. 'we\\'d'\n",
       "74. 'they\\'d'\n",
       "75. 'i\\'ll'\n",
       "76. 'you\\'ll'\n",
       "77. 'he\\'ll'\n",
       "78. 'she\\'ll'\n",
       "79. 'we\\'ll'\n",
       "80. 'they\\'ll'\n",
       "81. 'isn\\'t'\n",
       "82. 'aren\\'t'\n",
       "83. 'wasn\\'t'\n",
       "84. 'weren\\'t'\n",
       "85. 'hasn\\'t'\n",
       "86. 'haven\\'t'\n",
       "87. 'hadn\\'t'\n",
       "88. 'doesn\\'t'\n",
       "89. 'don\\'t'\n",
       "90. 'didn\\'t'\n",
       "91. 'won\\'t'\n",
       "92. 'wouldn\\'t'\n",
       "93. 'shan\\'t'\n",
       "94. 'shouldn\\'t'\n",
       "95. 'can\\'t'\n",
       "96. 'cannot'\n",
       "97. 'couldn\\'t'\n",
       "98. 'mustn\\'t'\n",
       "99. 'let\\'s'\n",
       "100. 'that\\'s'\n",
       "101. 'who\\'s'\n",
       "102. 'what\\'s'\n",
       "103. 'here\\'s'\n",
       "104. 'there\\'s'\n",
       "105. 'when\\'s'\n",
       "106. 'where\\'s'\n",
       "107. 'why\\'s'\n",
       "108. 'how\\'s'\n",
       "109. 'a'\n",
       "110. 'an'\n",
       "111. 'the'\n",
       "112. 'and'\n",
       "113. 'but'\n",
       "114. 'if'\n",
       "115. 'or'\n",
       "116. 'because'\n",
       "117. 'as'\n",
       "118. 'until'\n",
       "119. 'while'\n",
       "120. 'of'\n",
       "121. 'at'\n",
       "122. 'by'\n",
       "123. 'for'\n",
       "124. 'with'\n",
       "125. 'about'\n",
       "126. 'against'\n",
       "127. 'between'\n",
       "128. 'into'\n",
       "129. 'through'\n",
       "130. 'during'\n",
       "131. 'before'\n",
       "132. 'after'\n",
       "133. 'above'\n",
       "134. 'below'\n",
       "135. 'to'\n",
       "136. 'from'\n",
       "137. 'up'\n",
       "138. 'down'\n",
       "139. 'in'\n",
       "140. 'out'\n",
       "141. 'on'\n",
       "142. 'off'\n",
       "143. 'over'\n",
       "144. 'under'\n",
       "145. 'again'\n",
       "146. 'further'\n",
       "147. 'then'\n",
       "148. 'once'\n",
       "149. 'here'\n",
       "150. 'there'\n",
       "151. 'when'\n",
       "152. 'where'\n",
       "153. 'why'\n",
       "154. 'how'\n",
       "155. 'all'\n",
       "156. 'any'\n",
       "157. 'both'\n",
       "158. 'each'\n",
       "159. 'few'\n",
       "160. 'more'\n",
       "161. 'most'\n",
       "162. 'other'\n",
       "163. 'some'\n",
       "164. 'such'\n",
       "165. 'no'\n",
       "166. 'nor'\n",
       "167. 'not'\n",
       "168. 'only'\n",
       "169. 'own'\n",
       "170. 'same'\n",
       "171. 'so'\n",
       "172. 'than'\n",
       "173. 'too'\n",
       "174. 'very'\n",
       "\n",
       "\n"
      ],
      "text/plain": [
       "  [1] \"i\"          \"me\"         \"my\"         \"myself\"     \"we\"        \n",
       "  [6] \"our\"        \"ours\"       \"ourselves\"  \"you\"        \"your\"      \n",
       " [11] \"yours\"      \"yourself\"   \"yourselves\" \"he\"         \"him\"       \n",
       " [16] \"his\"        \"himself\"    \"she\"        \"her\"        \"hers\"      \n",
       " [21] \"herself\"    \"it\"         \"its\"        \"itself\"     \"they\"      \n",
       " [26] \"them\"       \"their\"      \"theirs\"     \"themselves\" \"what\"      \n",
       " [31] \"which\"      \"who\"        \"whom\"       \"this\"       \"that\"      \n",
       " [36] \"these\"      \"those\"      \"am\"         \"is\"         \"are\"       \n",
       " [41] \"was\"        \"were\"       \"be\"         \"been\"       \"being\"     \n",
       " [46] \"have\"       \"has\"        \"had\"        \"having\"     \"do\"        \n",
       " [51] \"does\"       \"did\"        \"doing\"      \"would\"      \"should\"    \n",
       " [56] \"could\"      \"ought\"      \"i'm\"        \"you're\"     \"he's\"      \n",
       " [61] \"she's\"      \"it's\"       \"we're\"      \"they're\"    \"i've\"      \n",
       " [66] \"you've\"     \"we've\"      \"they've\"    \"i'd\"        \"you'd\"     \n",
       " [71] \"he'd\"       \"she'd\"      \"we'd\"       \"they'd\"     \"i'll\"      \n",
       " [76] \"you'll\"     \"he'll\"      \"she'll\"     \"we'll\"      \"they'll\"   \n",
       " [81] \"isn't\"      \"aren't\"     \"wasn't\"     \"weren't\"    \"hasn't\"    \n",
       " [86] \"haven't\"    \"hadn't\"     \"doesn't\"    \"don't\"      \"didn't\"    \n",
       " [91] \"won't\"      \"wouldn't\"   \"shan't\"     \"shouldn't\"  \"can't\"     \n",
       " [96] \"cannot\"     \"couldn't\"   \"mustn't\"    \"let's\"      \"that's\"    \n",
       "[101] \"who's\"      \"what's\"     \"here's\"     \"there's\"    \"when's\"    \n",
       "[106] \"where's\"    \"why's\"      \"how's\"      \"a\"          \"an\"        \n",
       "[111] \"the\"        \"and\"        \"but\"        \"if\"         \"or\"        \n",
       "[116] \"because\"    \"as\"         \"until\"      \"while\"      \"of\"        \n",
       "[121] \"at\"         \"by\"         \"for\"        \"with\"       \"about\"     \n",
       "[126] \"against\"    \"between\"    \"into\"       \"through\"    \"during\"    \n",
       "[131] \"before\"     \"after\"      \"above\"      \"below\"      \"to\"        \n",
       "[136] \"from\"       \"up\"         \"down\"       \"in\"         \"out\"       \n",
       "[141] \"on\"         \"off\"        \"over\"       \"under\"      \"again\"     \n",
       "[146] \"further\"    \"then\"       \"once\"       \"here\"       \"there\"     \n",
       "[151] \"when\"       \"where\"      \"why\"        \"how\"        \"all\"       \n",
       "[156] \"any\"        \"both\"       \"each\"       \"few\"        \"more\"      \n",
       "[161] \"most\"       \"other\"      \"some\"       \"such\"       \"no\"        \n",
       "[166] \"nor\"        \"not\"        \"only\"       \"own\"        \"same\"      \n",
       "[171] \"so\"         \"than\"       \"too\"        \"very\"      "
      ]
     },
     "metadata": {},
     "output_type": "display_data"
    }
   ],
   "source": [
    "stopwords('en')"
   ]
  },
  {
   "cell_type": "code",
   "execution_count": 12,
   "metadata": {
    "vscode": {
     "languageId": "r"
    }
   },
   "outputs": [],
   "source": [
    "train.df$Text <- lemmatize_strings(train.df$Text)"
   ]
  },
  {
   "cell_type": "code",
   "execution_count": 13,
   "metadata": {
    "scrolled": true,
    "vscode": {
     "languageId": "r"
    }
   },
   "outputs": [
    {
     "data": {
      "text/html": [
       "<table class=\"dataframe\">\n",
       "<caption>A data.frame: 5 × 3</caption>\n",
       "<thead>\n",
       "\t<tr><th></th><th scope=col>Labels</th><th scope=col>Text</th><th scope=col>Text_Tag</th></tr>\n",
       "\t<tr><th></th><th scope=col>&lt;int&gt;</th><th scope=col>&lt;chr&gt;</th><th scope=col>&lt;chr&gt;</th></tr>\n",
       "</thead>\n",
       "<tbody>\n",
       "\t<tr><th scope=row>1</th><td>1</td><td>say annies list political group support 3 trimester abortion demand                          </td><td>abortion                          </td></tr>\n",
       "\t<tr><th scope=row>2</th><td>2</td><td>decline coal start start natural gas take start begin president george w bushs administration</td><td>energy history job-accomplishments</td></tr>\n",
       "\t<tr><th scope=row>3</th><td>3</td><td>hillary clinton agree john mccain vote give george bush benefit doubt iran                   </td><td>foreign-policy                    </td></tr>\n",
       "\t<tr><th scope=row>4</th><td>1</td><td>health care reform legislation likely mandate free sex change surgery                        </td><td>health-care                       </td></tr>\n",
       "\t<tr><th scope=row>5</th><td>2</td><td>economic turnaround start end term                                                           </td><td>economy jobs                      </td></tr>\n",
       "</tbody>\n",
       "</table>\n"
      ],
      "text/latex": [
       "A data.frame: 5 × 3\n",
       "\\begin{tabular}{r|lll}\n",
       "  & Labels & Text & Text\\_Tag\\\\\n",
       "  & <int> & <chr> & <chr>\\\\\n",
       "\\hline\n",
       "\t1 & 1 & say annies list political group support 3 trimester abortion demand                           & abortion                          \\\\\n",
       "\t2 & 2 & decline coal start start natural gas take start begin president george w bushs administration & energy history job-accomplishments\\\\\n",
       "\t3 & 3 & hillary clinton agree john mccain vote give george bush benefit doubt iran                    & foreign-policy                    \\\\\n",
       "\t4 & 1 & health care reform legislation likely mandate free sex change surgery                         & health-care                       \\\\\n",
       "\t5 & 2 & economic turnaround start end term                                                            & economy jobs                      \\\\\n",
       "\\end{tabular}\n"
      ],
      "text/markdown": [
       "\n",
       "A data.frame: 5 × 3\n",
       "\n",
       "| <!--/--> | Labels &lt;int&gt; | Text &lt;chr&gt; | Text_Tag &lt;chr&gt; |\n",
       "|---|---|---|---|\n",
       "| 1 | 1 | say annies list political group support 3 trimester abortion demand                           | abortion                           |\n",
       "| 2 | 2 | decline coal start start natural gas take start begin president george w bushs administration | energy history job-accomplishments |\n",
       "| 3 | 3 | hillary clinton agree john mccain vote give george bush benefit doubt iran                    | foreign-policy                     |\n",
       "| 4 | 1 | health care reform legislation likely mandate free sex change surgery                         | health-care                        |\n",
       "| 5 | 2 | economic turnaround start end term                                                            | economy jobs                       |\n",
       "\n"
      ],
      "text/plain": [
       "  Labels\n",
       "1 1     \n",
       "2 2     \n",
       "3 3     \n",
       "4 1     \n",
       "5 2     \n",
       "  Text                                                                                         \n",
       "1 say annies list political group support 3 trimester abortion demand                          \n",
       "2 decline coal start start natural gas take start begin president george w bushs administration\n",
       "3 hillary clinton agree john mccain vote give george bush benefit doubt iran                   \n",
       "4 health care reform legislation likely mandate free sex change surgery                        \n",
       "5 economic turnaround start end term                                                           \n",
       "  Text_Tag                          \n",
       "1 abortion                          \n",
       "2 energy history job-accomplishments\n",
       "3 foreign-policy                    \n",
       "4 health-care                       \n",
       "5 economy jobs                      "
      ]
     },
     "metadata": {},
     "output_type": "display_data"
    }
   ],
   "source": [
    "head(train.df,5)"
   ]
  },
  {
   "cell_type": "code",
   "execution_count": 14,
   "metadata": {},
   "outputs": [
    {
     "data": {
      "text/html": [
       "<style>\n",
       ".list-inline {list-style: none; margin:0; padding: 0}\n",
       ".list-inline>li {display: inline-block}\n",
       ".list-inline>li:not(:last-child)::after {content: \"\\00b7\"; padding: 0 .5ex}\n",
       "</style>\n",
       "<ol class=list-inline><li>'economic turnaround start end term'</li><li>'chicago bear start quarterback last 10 year total numb tenure uw faculty fire last two decade'</li><li>'jim dunnam live district represent year now'</li><li>'be person stage work actively just last year pass along russ feingold tough ethic reform since watergate'</li><li>'however take $19 5 million oregon lottery fund port newport eventually land new noaa marine operation center pacific'</li><li>'say gop primary opponent glenn grothman joe leibham cast compromise vote cost $788 million high electricity cost'</li><li>'first time history share national popular vote margin small latino vote margin'</li><li>'since 2000 nearly 12 million american slip middle class poverty'</li><li>'mitt romney governor massachusetts didnt just slow rate growth government actually cut'</li><li>'economy bleed $24 billion due government shutdown'</li><li>'affordable care act already sense waive otherwise suspend'</li></ol>\n"
      ],
      "text/latex": [
       "\\begin{enumerate*}\n",
       "\\item 'economic turnaround start end term'\n",
       "\\item 'chicago bear start quarterback last 10 year total numb tenure uw faculty fire last two decade'\n",
       "\\item 'jim dunnam live district represent year now'\n",
       "\\item 'be person stage work actively just last year pass along russ feingold tough ethic reform since watergate'\n",
       "\\item 'however take \\$19 5 million oregon lottery fund port newport eventually land new noaa marine operation center pacific'\n",
       "\\item 'say gop primary opponent glenn grothman joe leibham cast compromise vote cost \\$788 million high electricity cost'\n",
       "\\item 'first time history share national popular vote margin small latino vote margin'\n",
       "\\item 'since 2000 nearly 12 million american slip middle class poverty'\n",
       "\\item 'mitt romney governor massachusetts didnt just slow rate growth government actually cut'\n",
       "\\item 'economy bleed \\$24 billion due government shutdown'\n",
       "\\item 'affordable care act already sense waive otherwise suspend'\n",
       "\\end{enumerate*}\n"
      ],
      "text/markdown": [
       "1. 'economic turnaround start end term'\n",
       "2. 'chicago bear start quarterback last 10 year total numb tenure uw faculty fire last two decade'\n",
       "3. 'jim dunnam live district represent year now'\n",
       "4. 'be person stage work actively just last year pass along russ feingold tough ethic reform since watergate'\n",
       "5. 'however take $19 5 million oregon lottery fund port newport eventually land new noaa marine operation center pacific'\n",
       "6. 'say gop primary opponent glenn grothman joe leibham cast compromise vote cost $788 million high electricity cost'\n",
       "7. 'first time history share national popular vote margin small latino vote margin'\n",
       "8. 'since 2000 nearly 12 million american slip middle class poverty'\n",
       "9. 'mitt romney governor massachusetts didnt just slow rate growth government actually cut'\n",
       "10. 'economy bleed $24 billion due government shutdown'\n",
       "11. 'affordable care act already sense waive otherwise suspend'\n",
       "\n",
       "\n"
      ],
      "text/plain": [
       " [1] \"economic turnaround start end term\"                                                                                  \n",
       " [2] \"chicago bear start quarterback last 10 year total numb tenure uw faculty fire last two decade\"                       \n",
       " [3] \"jim dunnam live district represent year now\"                                                                         \n",
       " [4] \"be person stage work actively just last year pass along russ feingold tough ethic reform since watergate\"            \n",
       " [5] \"however take $19 5 million oregon lottery fund port newport eventually land new noaa marine operation center pacific\"\n",
       " [6] \"say gop primary opponent glenn grothman joe leibham cast compromise vote cost $788 million high electricity cost\"    \n",
       " [7] \"first time history share national popular vote margin small latino vote margin\"                                      \n",
       " [8] \"since 2000 nearly 12 million american slip middle class poverty\"                                                     \n",
       " [9] \"mitt romney governor massachusetts didnt just slow rate growth government actually cut\"                              \n",
       "[10] \"economy bleed $24 billion due government shutdown\"                                                                   \n",
       "[11] \"affordable care act already sense waive otherwise suspend\"                                                           "
      ]
     },
     "metadata": {},
     "output_type": "display_data"
    }
   ],
   "source": [
    "train.df$Text[5:15]"
   ]
  },
  {
   "cell_type": "markdown",
   "metadata": {},
   "source": [
    "#### TODO: \n",
    "\n",
    "#### FILTER1 regexp '$NUM' -> somemoney"
   ]
  },
  {
   "cell_type": "code",
   "execution_count": 16,
   "metadata": {},
   "outputs": [],
   "source": [
    "train.df$Text <- str_replace_all(train.df$Text, regex(\"\\\\$[0-9]*\"), \"<MONEY>\")"
   ]
  },
  {
   "cell_type": "markdown",
   "metadata": {},
   "source": [
    "#### FILTER2 regexp '19xx' or '20xx' -> someyear"
   ]
  },
  {
   "cell_type": "code",
   "execution_count": 20,
   "metadata": {},
   "outputs": [
    {
     "data": {
      "text/html": [
       "'since 2000 nearly 12 million american slip middle class poverty'"
      ],
      "text/latex": [
       "'since 2000 nearly 12 million american slip middle class poverty'"
      ],
      "text/markdown": [
       "'since 2000 nearly 12 million american slip middle class poverty'"
      ],
      "text/plain": [
       "[1] \"since 2000 nearly 12 million american slip middle class poverty\""
      ]
     },
     "metadata": {},
     "output_type": "display_data"
    }
   ],
   "source": [
    "train.df$Text[12]"
   ]
  },
  {
   "cell_type": "code",
   "execution_count": 24,
   "metadata": {},
   "outputs": [],
   "source": [
    "train.df$Text <- str_replace_all(train.df$Text, regex(\"(18|19|20)\\\\d{2}\"), \"<YEAR>\")"
   ]
  },
  {
   "cell_type": "markdown",
   "metadata": {},
   "source": [
    "#### FILTER 3 numero --> \"< number >\""
   ]
  },
  {
   "cell_type": "code",
   "execution_count": 27,
   "metadata": {},
   "outputs": [],
   "source": [
    "train.df$Text <- str_replace_all(train.df$Text, regex(\"\\\\d+\"), \"<NUMBER>\")"
   ]
  },
  {
   "cell_type": "markdown",
   "metadata": {},
   "source": [
    "## Feature Selection"
   ]
  },
  {
   "cell_type": "markdown",
   "metadata": {
    "vscode": {
     "languageId": "r"
    }
   },
   "source": [
    "Let's see how our dataset is now"
   ]
  },
  {
   "cell_type": "code",
   "execution_count": 29,
   "metadata": {},
   "outputs": [
    {
     "data": {
      "text/html": [
       "<table class=\"dataframe\">\n",
       "<caption>A data.frame: 10 × 3</caption>\n",
       "<thead>\n",
       "\t<tr><th></th><th scope=col>Labels</th><th scope=col>Text</th><th scope=col>Text_Tag</th></tr>\n",
       "\t<tr><th></th><th scope=col>&lt;int&gt;</th><th scope=col>&lt;chr&gt;</th><th scope=col>&lt;chr&gt;</th></tr>\n",
       "</thead>\n",
       "<tbody>\n",
       "\t<tr><th scope=row>1</th><td>1</td><td><span style=white-space:pre-wrap>say annies list political group support &lt;NUMBER&gt; trimester abortion demand                                                     </span></td><td><span style=white-space:pre-wrap>abortion                                 </span></td></tr>\n",
       "\t<tr><th scope=row>2</th><td>2</td><td>decline coal start start natural gas take start begin president george w bushs administration                                  </td><td>energy history job-accomplishments       </td></tr>\n",
       "\t<tr><th scope=row>3</th><td>3</td><td>hillary clinton agree john mccain vote give george bush benefit doubt iran                                                     </td><td>foreign-policy                           </td></tr>\n",
       "\t<tr><th scope=row>4</th><td>1</td><td>health care reform legislation likely mandate free sex change surgery                                                          </td><td>health-care                              </td></tr>\n",
       "\t<tr><th scope=row>5</th><td>2</td><td>economic turnaround start end term                                                                                             </td><td>economy jobs                             </td></tr>\n",
       "\t<tr><th scope=row>6</th><td>5</td><td><span style=white-space:pre-wrap>chicago bear start quarterback last &lt;NUMBER&gt; year total numb tenure uw faculty fire last two decade                            </span></td><td><span style=white-space:pre-wrap>education                                </span></td></tr>\n",
       "\t<tr><th scope=row>7</th><td>0</td><td>jim dunnam live district represent year now                                                                                    </td><td>candidates-biography                     </td></tr>\n",
       "\t<tr><th scope=row>8</th><td>2</td><td>be person stage work actively just last year pass along russ feingold tough ethic reform since watergate                       </td><td>ethics                                   </td></tr>\n",
       "\t<tr><th scope=row>9</th><td>2</td><td>however take &lt;MONEY&gt; &lt;NUMBER&gt; million oregon lottery fund port newport eventually land new noaa marine operation center pacific</td><td><span style=white-space:pre-wrap>jobs                                     </span></td></tr>\n",
       "\t<tr><th scope=row>10</th><td>3</td><td><span style=white-space:pre-wrap>say gop primary opponent glenn grothman joe leibham cast compromise vote cost &lt;MONEY&gt; million high electricity cost            </span></td><td>energy message-machine-2014 voting-record</td></tr>\n",
       "</tbody>\n",
       "</table>\n"
      ],
      "text/latex": [
       "A data.frame: 10 × 3\n",
       "\\begin{tabular}{r|lll}\n",
       "  & Labels & Text & Text\\_Tag\\\\\n",
       "  & <int> & <chr> & <chr>\\\\\n",
       "\\hline\n",
       "\t1 & 1 & say annies list political group support <NUMBER> trimester abortion demand                                                      & abortion                                 \\\\\n",
       "\t2 & 2 & decline coal start start natural gas take start begin president george w bushs administration                                   & energy history job-accomplishments       \\\\\n",
       "\t3 & 3 & hillary clinton agree john mccain vote give george bush benefit doubt iran                                                      & foreign-policy                           \\\\\n",
       "\t4 & 1 & health care reform legislation likely mandate free sex change surgery                                                           & health-care                              \\\\\n",
       "\t5 & 2 & economic turnaround start end term                                                                                              & economy jobs                             \\\\\n",
       "\t6 & 5 & chicago bear start quarterback last <NUMBER> year total numb tenure uw faculty fire last two decade                             & education                                \\\\\n",
       "\t7 & 0 & jim dunnam live district represent year now                                                                                     & candidates-biography                     \\\\\n",
       "\t8 & 2 & be person stage work actively just last year pass along russ feingold tough ethic reform since watergate                        & ethics                                   \\\\\n",
       "\t9 & 2 & however take <MONEY> <NUMBER> million oregon lottery fund port newport eventually land new noaa marine operation center pacific & jobs                                     \\\\\n",
       "\t10 & 3 & say gop primary opponent glenn grothman joe leibham cast compromise vote cost <MONEY> million high electricity cost             & energy message-machine-2014 voting-record\\\\\n",
       "\\end{tabular}\n"
      ],
      "text/markdown": [
       "\n",
       "A data.frame: 10 × 3\n",
       "\n",
       "| <!--/--> | Labels &lt;int&gt; | Text &lt;chr&gt; | Text_Tag &lt;chr&gt; |\n",
       "|---|---|---|---|\n",
       "| 1 | 1 | say annies list political group support &lt;NUMBER&gt; trimester abortion demand                                                      | abortion                                  |\n",
       "| 2 | 2 | decline coal start start natural gas take start begin president george w bushs administration                                   | energy history job-accomplishments        |\n",
       "| 3 | 3 | hillary clinton agree john mccain vote give george bush benefit doubt iran                                                      | foreign-policy                            |\n",
       "| 4 | 1 | health care reform legislation likely mandate free sex change surgery                                                           | health-care                               |\n",
       "| 5 | 2 | economic turnaround start end term                                                                                              | economy jobs                              |\n",
       "| 6 | 5 | chicago bear start quarterback last &lt;NUMBER&gt; year total numb tenure uw faculty fire last two decade                             | education                                 |\n",
       "| 7 | 0 | jim dunnam live district represent year now                                                                                     | candidates-biography                      |\n",
       "| 8 | 2 | be person stage work actively just last year pass along russ feingold tough ethic reform since watergate                        | ethics                                    |\n",
       "| 9 | 2 | however take &lt;MONEY&gt; &lt;NUMBER&gt; million oregon lottery fund port newport eventually land new noaa marine operation center pacific | jobs                                      |\n",
       "| 10 | 3 | say gop primary opponent glenn grothman joe leibham cast compromise vote cost &lt;MONEY&gt; million high electricity cost             | energy message-machine-2014 voting-record |\n",
       "\n"
      ],
      "text/plain": [
       "   Labels\n",
       "1  1     \n",
       "2  2     \n",
       "3  3     \n",
       "4  1     \n",
       "5  2     \n",
       "6  5     \n",
       "7  0     \n",
       "8  2     \n",
       "9  2     \n",
       "10 3     \n",
       "   Text                                                                                                                           \n",
       "1  say annies list political group support <NUMBER> trimester abortion demand                                                     \n",
       "2  decline coal start start natural gas take start begin president george w bushs administration                                  \n",
       "3  hillary clinton agree john mccain vote give george bush benefit doubt iran                                                     \n",
       "4  health care reform legislation likely mandate free sex change surgery                                                          \n",
       "5  economic turnaround start end term                                                                                             \n",
       "6  chicago bear start quarterback last <NUMBER> year total numb tenure uw faculty fire last two decade                            \n",
       "7  jim dunnam live district represent year now                                                                                    \n",
       "8  be person stage work actively just last year pass along russ feingold tough ethic reform since watergate                       \n",
       "9  however take <MONEY> <NUMBER> million oregon lottery fund port newport eventually land new noaa marine operation center pacific\n",
       "10 say gop primary opponent glenn grothman joe leibham cast compromise vote cost <MONEY> million high electricity cost            \n",
       "   Text_Tag                                 \n",
       "1  abortion                                 \n",
       "2  energy history job-accomplishments       \n",
       "3  foreign-policy                           \n",
       "4  health-care                              \n",
       "5  economy jobs                             \n",
       "6  education                                \n",
       "7  candidates-biography                     \n",
       "8  ethics                                   \n",
       "9  jobs                                     \n",
       "10 energy message-machine-2014 voting-record"
      ]
     },
     "metadata": {},
     "output_type": "display_data"
    }
   ],
   "source": [
    "head(train.df, 10)"
   ]
  }
 ],
 "metadata": {
  "kernelspec": {
   "display_name": "R",
   "language": "R",
   "name": "ir"
  },
  "language_info": {
   "codemirror_mode": "r",
   "file_extension": ".r",
   "mimetype": "text/x-r-source",
   "name": "R",
   "pygments_lexer": "r",
   "version": "4.1.2"
  }
 },
 "nbformat": 4,
 "nbformat_minor": 2
}
